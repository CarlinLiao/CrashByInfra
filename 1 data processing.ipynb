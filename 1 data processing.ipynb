{
 "cells": [
  {
   "cell_type": "code",
   "execution_count": 1,
   "metadata": {},
   "outputs": [],
   "source": [
    "import numpy as np\n",
    "import pandas as pd\n",
    "import matplotlib.pyplot as plt"
   ]
  },
  {
   "cell_type": "markdown",
   "metadata": {},
   "source": [
    "## `pandas` settings\n",
    "Make it so that we can see long lists, because we have a lot of potential features."
   ]
  },
  {
   "cell_type": "code",
   "execution_count": 24,
   "metadata": {},
   "outputs": [],
   "source": [
    "pd.options.display.max_seq_items = 2000 # default is 100\n",
    "pd.options.display.max_columns = 250 # default is 20\n",
    "pd.options.display.max_rows = 250 # default is 20"
   ]
  },
  {
   "cell_type": "markdown",
   "metadata": {},
   "source": [
    "# Data processing\n",
    "\n",
    "We need to prepare the dataset for use in modeling. (Dataset originally compiled using GIS.)"
   ]
  },
  {
   "cell_type": "code",
   "execution_count": 56,
   "metadata": {},
   "outputs": [
    {
     "name": "stderr",
     "output_type": "stream",
     "text": [
      "/home/carlin/anaconda3/lib/python3.6/site-packages/IPython/core/interactiveshell.py:3049: DtypeWarning: Columns (18,19,32,80,85,226,227) have mixed types. Specify dtype option on import or set low_memory=False.\n",
      "  interactivity=interactivity, compiler=compiler, result=result)\n"
     ]
    },
    {
     "data": {
      "text/html": [
       "<div>\n",
       "<style scoped>\n",
       "    .dataframe tbody tr th:only-of-type {\n",
       "        vertical-align: middle;\n",
       "    }\n",
       "\n",
       "    .dataframe tbody tr th {\n",
       "        vertical-align: top;\n",
       "    }\n",
       "\n",
       "    .dataframe thead th {\n",
       "        text-align: right;\n",
       "    }\n",
       "</style>\n",
       "<table border=\"1\" class=\"dataframe\">\n",
       "  <thead>\n",
       "    <tr style=\"text-align: right;\">\n",
       "      <th></th>\n",
       "      <th>FID</th>\n",
       "      <th>FID_1</th>\n",
       "      <th>FID_1_1</th>\n",
       "      <th>OBJECTID</th>\n",
       "      <th>REC</th>\n",
       "      <th>RIA_RTE_ID</th>\n",
       "      <th>RTE_GRID</th>\n",
       "      <th>GID</th>\n",
       "      <th>FRM_DFO</th>\n",
       "      <th>TO_DFO</th>\n",
       "      <th>C_SEC</th>\n",
       "      <th>CON</th>\n",
       "      <th>SEC</th>\n",
       "      <th>BMP</th>\n",
       "      <th>EMP</th>\n",
       "      <th>RI_MPT_DAT</th>\n",
       "      <th>HWY</th>\n",
       "      <th>HSYS</th>\n",
       "      <th>HNUM</th>\n",
       "      <th>HSUF</th>\n",
       "      <th>RDBD_ID</th>\n",
       "      <th>FRM_NBR</th>\n",
       "      <th>FRM_SUF</th>\n",
       "      <th>FRM_NUM</th>\n",
       "      <th>FRM_DISP</th>\n",
       "      <th>TO_NBR</th>\n",
       "      <th>TO_SUF</th>\n",
       "      <th>TO_NUM</th>\n",
       "      <th>TO_DISP</th>\n",
       "      <th>FRM_MKR_DA</th>\n",
       "      <th>TO_MKR_DAT</th>\n",
       "      <th>DIR_TRAV</th>\n",
       "      <th>STE_NAM</th>\n",
       "      <th>DI</th>\n",
       "      <th>CO</th>\n",
       "      <th>CITY</th>\n",
       "      <th>MPA</th>\n",
       "      <th>UAN</th>\n",
       "      <th>UAN_HPMS</th>\n",
       "      <th>RU</th>\n",
       "      <th>MSA_CNTY</th>\n",
       "      <th>MAINT_DIS</th>\n",
       "      <th>MNT_SEC</th>\n",
       "      <th>PBLC_LAND</th>\n",
       "      <th>ADMIN</th>\n",
       "      <th>RDWAY_MAIN</th>\n",
       "      <th>F_SYSTEM</th>\n",
       "      <th>RU_F_SYSTE</th>\n",
       "      <th>SEC_NHS</th>\n",
       "      <th>SEC_NHS_AP</th>\n",
       "      <th>SEC_STR</th>\n",
       "      <th>SEC_TRUNK</th>\n",
       "      <th>SEC_TRK</th>\n",
       "      <th>SEC_EVAC</th>\n",
       "      <th>SEC_NFH</th>\n",
       "      <th>SEC_STM</th>\n",
       "      <th>SEC_TTT</th>\n",
       "      <th>SEC_PARK</th>\n",
       "      <th>SEC_BIC</th>\n",
       "      <th>SEC_ADP</th>\n",
       "      <th>SEC_FED_AI</th>\n",
       "      <th>MSA_CLS</th>\n",
       "      <th>TOP100ID</th>\n",
       "      <th>TOP_100_BE</th>\n",
       "      <th>TOP_100_EN</th>\n",
       "      <th>FRGHT_NTWR</th>\n",
       "      <th>HWY_STAT</th>\n",
       "      <th>HWY_STAT_D</th>\n",
       "      <th>DOTT</th>\n",
       "      <th>DCTT</th>\n",
       "      <th>CLSR_RESN</th>\n",
       "      <th>HWY_NOTE</th>\n",
       "      <th>SPD_MAX</th>\n",
       "      <th>SPD_MIN</th>\n",
       "      <th>ALT_SPD_LM</th>\n",
       "      <th>ALT_SPD__1</th>\n",
       "      <th>SCHOOL_ZN</th>\n",
       "      <th>LOAD_AXLE</th>\n",
       "      <th>LOAD_GROSS</th>\n",
       "      <th>LOAD_TAND</th>\n",
       "      <th>TOLL_NM</th>\n",
       "      <th>DBTP</th>\n",
       "      <th>PEAK_DRCT_</th>\n",
       "      <th>HWY_DES1</th>\n",
       "      <th>ACES_CTRL</th>\n",
       "      <th>BRDG_STRUC</th>\n",
       "      <th>CAUSEWAY</th>\n",
       "      <th>TUNNEL</th>\n",
       "      <th>MULT_MOD_F</th>\n",
       "      <th>MED_TYPE</th>\n",
       "      <th>MED_WID</th>\n",
       "      <th>HP_MED_W</th>\n",
       "      <th>NUM_LANES</th>\n",
       "      <th>CLMB_PS_LA</th>\n",
       "      <th>ACCEL_DECE</th>\n",
       "      <th>HOV_LANES</th>\n",
       "      <th>HOV_TYP</th>\n",
       "      <th>ROW_MIN</th>\n",
       "      <th>ROW_W_USL</th>\n",
       "      <th>RB_WID</th>\n",
       "      <th>SUR_W</th>\n",
       "      <th>S_TYPE_I</th>\n",
       "      <th>S_WID_I</th>\n",
       "      <th>S_USE_I</th>\n",
       "      <th>S_TYPE_O</th>\n",
       "      <th>S_WID_O</th>\n",
       "      <th>S_USE_O</th>\n",
       "      <th>CURB_L</th>\n",
       "      <th>CURB_R</th>\n",
       "      <th>BASE_TP</th>\n",
       "      <th>SRF_TYPE</th>\n",
       "      <th>SURF_TREAT</th>\n",
       "      <th>SURF_TRE_1</th>\n",
       "      <th>SURF_TRE_2</th>\n",
       "      <th>TRF_STA_ID</th>\n",
       "      <th>ADT_YEAR</th>\n",
       "      <th>ADT_CUR</th>\n",
       "      <th>ADT_ADJ</th>\n",
       "      <th>K_FAC</th>\n",
       "      <th>D_FAC</th>\n",
       "      <th>TRK_AADT_P</th>\n",
       "      <th>PCT_SADT</th>\n",
       "      <th>PCT_CADT</th>\n",
       "      <th>AADT_TRUCK</th>\n",
       "      <th>AADT_SINGL</th>\n",
       "      <th>AADT_COMBI</th>\n",
       "      <th>TRK_DHV_PC</th>\n",
       "      <th>PCT_SDHV</th>\n",
       "      <th>PCT_CDHV</th>\n",
       "      <th>FLEX_ESAL</th>\n",
       "      <th>RIGID_ESAL</th>\n",
       "      <th>ATH_100</th>\n",
       "      <th>ATH_PCT</th>\n",
       "      <th>MOTORCYCLE</th>\n",
       "      <th>ADT_HIST_Y</th>\n",
       "      <th>HY_1</th>\n",
       "      <th>HY_2</th>\n",
       "      <th>HY_3</th>\n",
       "      <th>HY_4</th>\n",
       "      <th>HY_5</th>\n",
       "      <th>HY_6</th>\n",
       "      <th>HY_7</th>\n",
       "      <th>HY_8</th>\n",
       "      <th>HY_9</th>\n",
       "      <th>DESGN_YR</th>\n",
       "      <th>AADT_DESGN</th>\n",
       "      <th>INCRS_FCTR</th>\n",
       "      <th>INCRS_FC_1</th>\n",
       "      <th>DHV</th>\n",
       "      <th>TRUCK_HY_1</th>\n",
       "      <th>TRUCK_HY_2</th>\n",
       "      <th>TRUCK_HY_3</th>\n",
       "      <th>TRUCK_HY_4</th>\n",
       "      <th>TRUCK_HY_5</th>\n",
       "      <th>TRUCK_HY_6</th>\n",
       "      <th>TRUCK_HY_7</th>\n",
       "      <th>TRUCK_HY_8</th>\n",
       "      <th>TRUCK_HY_9</th>\n",
       "      <th>HPMSID</th>\n",
       "      <th>HP_VOL_GRP</th>\n",
       "      <th>B_TERM</th>\n",
       "      <th>E_TERM</th>\n",
       "      <th>PHY_RDBD</th>\n",
       "      <th>PEAK_LANE</th>\n",
       "      <th>CNTR_PEAK_</th>\n",
       "      <th>RT_TURN_LA</th>\n",
       "      <th>LT_TURN_LA</th>\n",
       "      <th>TRFC_SGNL</th>\n",
       "      <th>PCT_GREEN_</th>\n",
       "      <th>NBR_SGNL</th>\n",
       "      <th>NBR_STOP_S</th>\n",
       "      <th>ATGRD_OTHR</th>\n",
       "      <th>LANE_WIDTH</th>\n",
       "      <th>WIDE_OBST</th>\n",
       "      <th>WIDE_PTNTL</th>\n",
       "      <th>CURV_CLASS</th>\n",
       "      <th>CURV_CLA_1</th>\n",
       "      <th>CURV_CLA_2</th>\n",
       "      <th>CURV_CLA_3</th>\n",
       "      <th>CURV_CLA_4</th>\n",
       "      <th>CURV_CLA_5</th>\n",
       "      <th>VERT_GRADE</th>\n",
       "      <th>VERT_GRA_1</th>\n",
       "      <th>VERT_GRA_2</th>\n",
       "      <th>VERT_GRA_3</th>\n",
       "      <th>VERT_GRA_4</th>\n",
       "      <th>VERT_GRA_5</th>\n",
       "      <th>TRRN</th>\n",
       "      <th>PPSD</th>\n",
       "      <th>PSR</th>\n",
       "      <th>PSR_DT</th>\n",
       "      <th>RUTTING</th>\n",
       "      <th>FAULT</th>\n",
       "      <th>CRACK_PCT</th>\n",
       "      <th>CRACK_LNGT</th>\n",
       "      <th>YR_LAST_IM</th>\n",
       "      <th>YR_LAST_CN</th>\n",
       "      <th>LAST_OVRLY</th>\n",
       "      <th>PVMT_THICK</th>\n",
       "      <th>PVMT_THI_1</th>\n",
       "      <th>BASE_THCK</th>\n",
       "      <th>CLMT_ZN</th>\n",
       "      <th>SOIL</th>\n",
       "      <th>LEN_SEC</th>\n",
       "      <th>LN_MILES</th>\n",
       "      <th>DVMT</th>\n",
       "      <th>DTRKVMT</th>\n",
       "      <th>LOC_ERROR</th>\n",
       "      <th>START_X</th>\n",
       "      <th>START_Y</th>\n",
       "      <th>START_M</th>\n",
       "      <th>MID_X</th>\n",
       "      <th>MID_Y</th>\n",
       "      <th>MID_M</th>\n",
       "      <th>END_X</th>\n",
       "      <th>END_Y</th>\n",
       "      <th>END_M</th>\n",
       "      <th>Shape__Len</th>\n",
       "      <th>Crash Count</th>\n",
       "      <th>Avg_Death</th>\n",
       "      <th>Avg_Injuries</th>\n",
       "      <th>Avg_Month</th>\n",
       "      <th>FID_2</th>\n",
       "      <th>OBJECTID_1</th>\n",
       "      <th>RTE_NM</th>\n",
       "      <th>RTE_PRFX</th>\n",
       "      <th>RTE_NBR</th>\n",
       "      <th>RTE_SFX</th>\n",
       "      <th>RDBD_TYPE</th>\n",
       "      <th>GID_1</th>\n",
       "      <th>BEGIN_DFO</th>\n",
       "      <th>END_DFO</th>\n",
       "      <th>ASSET_NM</th>\n",
       "      <th>SPD_LMT</th>\n",
       "      <th>ASSET_ID</th>\n",
       "      <th>SYSTEM</th>\n",
       "      <th>RTE_DEFN_L</th>\n",
       "      <th>MAX_SPD_LM</th>\n",
       "      <th>ASSET_LN_B</th>\n",
       "      <th>ASSET_LN_E</th>\n",
       "      <th>RTE_PRFX_T</th>\n",
       "      <th>Shape__L_1</th>\n",
       "    </tr>\n",
       "  </thead>\n",
       "  <tbody>\n",
       "    <tr>\n",
       "      <th>0</th>\n",
       "      <td>0</td>\n",
       "      <td>319</td>\n",
       "      <td>319</td>\n",
       "      <td>320</td>\n",
       "      <td>1</td>\n",
       "      <td>FM0619-KG</td>\n",
       "      <td>175724</td>\n",
       "      <td>3134</td>\n",
       "      <td>4.764</td>\n",
       "      <td>4.957</td>\n",
       "      <td>0986-03</td>\n",
       "      <td>986.0</td>\n",
       "      <td>3</td>\n",
       "      <td>4.783</td>\n",
       "      <td>4.977</td>\n",
       "      <td>201505</td>\n",
       "      <td>FM0619</td>\n",
       "      <td>FM</td>\n",
       "      <td>619</td>\n",
       "      <td>NaN</td>\n",
       "      <td>CG</td>\n",
       "      <td>418</td>\n",
       "      <td>NaN</td>\n",
       "      <td>418</td>\n",
       "      <td>0.764</td>\n",
       "      <td>418</td>\n",
       "      <td>NaN</td>\n",
       "      <td>418</td>\n",
       "      <td>0.957</td>\n",
       "      <td>20150512</td>\n",
       "      <td>20150512</td>\n",
       "      <td>1</td>\n",
       "      <td>NaN</td>\n",
       "      <td>14</td>\n",
       "      <td>246</td>\n",
       "      <td>41900</td>\n",
       "      <td>90</td>\n",
       "      <td>0</td>\n",
       "      <td>0</td>\n",
       "      <td>1</td>\n",
       "      <td>1</td>\n",
       "      <td>14</td>\n",
       "      <td>13</td>\n",
       "      <td>NaN</td>\n",
       "      <td>1</td>\n",
       "      <td>1</td>\n",
       "      <td>5</td>\n",
       "      <td>R5</td>\n",
       "      <td>0</td>\n",
       "      <td>NaN</td>\n",
       "      <td>0</td>\n",
       "      <td>0</td>\n",
       "      <td>0</td>\n",
       "      <td>0</td>\n",
       "      <td>0</td>\n",
       "      <td>0</td>\n",
       "      <td>0</td>\n",
       "      <td>0</td>\n",
       "      <td>0</td>\n",
       "      <td>0</td>\n",
       "      <td>1</td>\n",
       "      <td>11</td>\n",
       "      <td>NaN</td>\n",
       "      <td>NaN</td>\n",
       "      <td>NaN</td>\n",
       "      <td>NaN</td>\n",
       "      <td>6</td>\n",
       "      <td>19950429</td>\n",
       "      <td>19950429</td>\n",
       "      <td>NaN</td>\n",
       "      <td>NaN</td>\n",
       "      <td>NaN</td>\n",
       "      <td>60</td>\n",
       "      <td>0</td>\n",
       "      <td>NaN</td>\n",
       "      <td>NaN</td>\n",
       "      <td>0</td>\n",
       "      <td>0</td>\n",
       "      <td>0</td>\n",
       "      <td>0</td>\n",
       "      <td>NaN</td>\n",
       "      <td>0</td>\n",
       "      <td>NaN</td>\n",
       "      <td>2</td>\n",
       "      <td>3</td>\n",
       "      <td>NaN</td>\n",
       "      <td>NaN</td>\n",
       "      <td>NaN</td>\n",
       "      <td>NaN</td>\n",
       "      <td>0</td>\n",
       "      <td>0</td>\n",
       "      <td>1</td>\n",
       "      <td>2</td>\n",
       "      <td>NaN</td>\n",
       "      <td>0</td>\n",
       "      <td>NaN</td>\n",
       "      <td>0</td>\n",
       "      <td>80</td>\n",
       "      <td>80</td>\n",
       "      <td>22</td>\n",
       "      <td>20</td>\n",
       "      <td>3</td>\n",
       "      <td>1</td>\n",
       "      <td>5</td>\n",
       "      <td>3</td>\n",
       "      <td>1</td>\n",
       "      <td>5</td>\n",
       "      <td>0</td>\n",
       "      <td>0</td>\n",
       "      <td>14</td>\n",
       "      <td>10</td>\n",
       "      <td>1</td>\n",
       "      <td>0.0</td>\n",
       "      <td>NaN</td>\n",
       "      <td>246H120</td>\n",
       "      <td>2017</td>\n",
       "      <td>1008</td>\n",
       "      <td>1008</td>\n",
       "      <td>10.6</td>\n",
       "      <td>53</td>\n",
       "      <td>10.1</td>\n",
       "      <td>4.7</td>\n",
       "      <td>5.4</td>\n",
       "      <td>101</td>\n",
       "      <td>47</td>\n",
       "      <td>54</td>\n",
       "      <td>4.7</td>\n",
       "      <td>2.6</td>\n",
       "      <td>2.1</td>\n",
       "      <td>345</td>\n",
       "      <td>450</td>\n",
       "      <td>43</td>\n",
       "      <td>40</td>\n",
       "      <td>5</td>\n",
       "      <td>2016</td>\n",
       "      <td>1090</td>\n",
       "      <td>1002</td>\n",
       "      <td>953</td>\n",
       "      <td>822</td>\n",
       "      <td>760</td>\n",
       "      <td>590</td>\n",
       "      <td>590</td>\n",
       "      <td>670</td>\n",
       "      <td>650</td>\n",
       "      <td>2037</td>\n",
       "      <td>1410</td>\n",
       "      <td>1.7</td>\n",
       "      <td>402</td>\n",
       "      <td>149</td>\n",
       "      <td>NaN</td>\n",
       "      <td>NaN</td>\n",
       "      <td>NaN</td>\n",
       "      <td>NaN</td>\n",
       "      <td>NaN</td>\n",
       "      <td>NaN</td>\n",
       "      <td>NaN</td>\n",
       "      <td>NaN</td>\n",
       "      <td>NaN</td>\n",
       "      <td>NaN</td>\n",
       "      <td>2</td>\n",
       "      <td>NaN</td>\n",
       "      <td>NaN</td>\n",
       "      <td>KG</td>\n",
       "      <td>NaN</td>\n",
       "      <td>NaN</td>\n",
       "      <td>NaN</td>\n",
       "      <td>NaN</td>\n",
       "      <td>NaN</td>\n",
       "      <td>NaN</td>\n",
       "      <td>NaN</td>\n",
       "      <td>NaN</td>\n",
       "      <td>NaN</td>\n",
       "      <td>10</td>\n",
       "      <td>NaN</td>\n",
       "      <td>NaN</td>\n",
       "      <td>NaN</td>\n",
       "      <td>NaN</td>\n",
       "      <td>NaN</td>\n",
       "      <td>NaN</td>\n",
       "      <td>NaN</td>\n",
       "      <td>NaN</td>\n",
       "      <td>NaN</td>\n",
       "      <td>NaN</td>\n",
       "      <td>NaN</td>\n",
       "      <td>NaN</td>\n",
       "      <td>NaN</td>\n",
       "      <td>NaN</td>\n",
       "      <td>NaN</td>\n",
       "      <td>NaN</td>\n",
       "      <td>NaN</td>\n",
       "      <td>NaN</td>\n",
       "      <td>NaN</td>\n",
       "      <td>NaN</td>\n",
       "      <td>NaN</td>\n",
       "      <td>NaN</td>\n",
       "      <td>NaN</td>\n",
       "      <td>NaN</td>\n",
       "      <td>NaN</td>\n",
       "      <td>NaN</td>\n",
       "      <td>NaN</td>\n",
       "      <td>NaN</td>\n",
       "      <td>NaN</td>\n",
       "      <td>NaN</td>\n",
       "      <td>0.193</td>\n",
       "      <td>0.386</td>\n",
       "      <td>194.544</td>\n",
       "      <td>19.493</td>\n",
       "      <td>NO ERROR</td>\n",
       "      <td>-97.381448</td>\n",
       "      <td>30.589498</td>\n",
       "      <td>4.764</td>\n",
       "      <td>-97.381062</td>\n",
       "      <td>30.588129</td>\n",
       "      <td>4.86094</td>\n",
       "      <td>-97.380514</td>\n",
       "      <td>30.586815</td>\n",
       "      <td>4.957</td>\n",
       "      <td>0.002849</td>\n",
       "      <td>0</td>\n",
       "      <td>0.0</td>\n",
       "      <td>0.0</td>\n",
       "      <td>0</td>\n",
       "      <td>2011</td>\n",
       "      <td>3012</td>\n",
       "      <td>FM0619-KG</td>\n",
       "      <td>FM</td>\n",
       "      <td>619</td>\n",
       "      <td>NaN</td>\n",
       "      <td>KG</td>\n",
       "      <td>3134</td>\n",
       "      <td>0.000</td>\n",
       "      <td>6.696</td>\n",
       "      <td>Maximum Speed Limit</td>\n",
       "      <td>60</td>\n",
       "      <td>5577085</td>\n",
       "      <td>On</td>\n",
       "      <td>FM0619-KG</td>\n",
       "      <td>60</td>\n",
       "      <td>0.000</td>\n",
       "      <td>6.696</td>\n",
       "      <td>FM</td>\n",
       "      <td>12587.51446</td>\n",
       "    </tr>\n",
       "    <tr>\n",
       "      <th>1</th>\n",
       "      <td>1</td>\n",
       "      <td>579</td>\n",
       "      <td>579</td>\n",
       "      <td>580</td>\n",
       "      <td>1</td>\n",
       "      <td>FM0619-KG</td>\n",
       "      <td>175724</td>\n",
       "      <td>3134</td>\n",
       "      <td>3.708</td>\n",
       "      <td>3.729</td>\n",
       "      <td>0986-03</td>\n",
       "      <td>986.0</td>\n",
       "      <td>3</td>\n",
       "      <td>3.723</td>\n",
       "      <td>3.744</td>\n",
       "      <td>201505</td>\n",
       "      <td>FM0619</td>\n",
       "      <td>FM</td>\n",
       "      <td>619</td>\n",
       "      <td>NaN</td>\n",
       "      <td>CG</td>\n",
       "      <td>416</td>\n",
       "      <td>NaN</td>\n",
       "      <td>416</td>\n",
       "      <td>1.708</td>\n",
       "      <td>416</td>\n",
       "      <td>NaN</td>\n",
       "      <td>416</td>\n",
       "      <td>1.729</td>\n",
       "      <td>20150512</td>\n",
       "      <td>20150512</td>\n",
       "      <td>1</td>\n",
       "      <td>NaN</td>\n",
       "      <td>14</td>\n",
       "      <td>246</td>\n",
       "      <td>0</td>\n",
       "      <td>90</td>\n",
       "      <td>0</td>\n",
       "      <td>0</td>\n",
       "      <td>1</td>\n",
       "      <td>1</td>\n",
       "      <td>14</td>\n",
       "      <td>13</td>\n",
       "      <td>NaN</td>\n",
       "      <td>1</td>\n",
       "      <td>1</td>\n",
       "      <td>5</td>\n",
       "      <td>R5</td>\n",
       "      <td>0</td>\n",
       "      <td>NaN</td>\n",
       "      <td>0</td>\n",
       "      <td>0</td>\n",
       "      <td>0</td>\n",
       "      <td>0</td>\n",
       "      <td>0</td>\n",
       "      <td>0</td>\n",
       "      <td>0</td>\n",
       "      <td>0</td>\n",
       "      <td>0</td>\n",
       "      <td>0</td>\n",
       "      <td>1</td>\n",
       "      <td>11</td>\n",
       "      <td>NaN</td>\n",
       "      <td>NaN</td>\n",
       "      <td>NaN</td>\n",
       "      <td>NaN</td>\n",
       "      <td>6</td>\n",
       "      <td>19950429</td>\n",
       "      <td>19950429</td>\n",
       "      <td>NaN</td>\n",
       "      <td>NaN</td>\n",
       "      <td>NaN</td>\n",
       "      <td>60</td>\n",
       "      <td>0</td>\n",
       "      <td>NaN</td>\n",
       "      <td>NaN</td>\n",
       "      <td>0</td>\n",
       "      <td>0</td>\n",
       "      <td>0</td>\n",
       "      <td>0</td>\n",
       "      <td>NaN</td>\n",
       "      <td>0</td>\n",
       "      <td>NaN</td>\n",
       "      <td>2</td>\n",
       "      <td>3</td>\n",
       "      <td>1.4246e+14</td>\n",
       "      <td>NaN</td>\n",
       "      <td>NaN</td>\n",
       "      <td>NaN</td>\n",
       "      <td>0</td>\n",
       "      <td>0</td>\n",
       "      <td>1</td>\n",
       "      <td>2</td>\n",
       "      <td>NaN</td>\n",
       "      <td>0</td>\n",
       "      <td>NaN</td>\n",
       "      <td>0</td>\n",
       "      <td>80</td>\n",
       "      <td>80</td>\n",
       "      <td>22</td>\n",
       "      <td>20</td>\n",
       "      <td>3</td>\n",
       "      <td>1</td>\n",
       "      <td>5</td>\n",
       "      <td>3</td>\n",
       "      <td>1</td>\n",
       "      <td>5</td>\n",
       "      <td>0</td>\n",
       "      <td>0</td>\n",
       "      <td>14</td>\n",
       "      <td>10</td>\n",
       "      <td>1</td>\n",
       "      <td>0.0</td>\n",
       "      <td>NaN</td>\n",
       "      <td>246H120</td>\n",
       "      <td>2017</td>\n",
       "      <td>1008</td>\n",
       "      <td>1008</td>\n",
       "      <td>10.6</td>\n",
       "      <td>53</td>\n",
       "      <td>10.1</td>\n",
       "      <td>4.7</td>\n",
       "      <td>5.4</td>\n",
       "      <td>101</td>\n",
       "      <td>47</td>\n",
       "      <td>54</td>\n",
       "      <td>4.7</td>\n",
       "      <td>2.6</td>\n",
       "      <td>2.1</td>\n",
       "      <td>345</td>\n",
       "      <td>450</td>\n",
       "      <td>43</td>\n",
       "      <td>40</td>\n",
       "      <td>5</td>\n",
       "      <td>2016</td>\n",
       "      <td>1090</td>\n",
       "      <td>1002</td>\n",
       "      <td>953</td>\n",
       "      <td>822</td>\n",
       "      <td>760</td>\n",
       "      <td>590</td>\n",
       "      <td>590</td>\n",
       "      <td>670</td>\n",
       "      <td>650</td>\n",
       "      <td>2037</td>\n",
       "      <td>1410</td>\n",
       "      <td>1.7</td>\n",
       "      <td>402</td>\n",
       "      <td>149</td>\n",
       "      <td>NaN</td>\n",
       "      <td>NaN</td>\n",
       "      <td>NaN</td>\n",
       "      <td>NaN</td>\n",
       "      <td>NaN</td>\n",
       "      <td>NaN</td>\n",
       "      <td>NaN</td>\n",
       "      <td>NaN</td>\n",
       "      <td>NaN</td>\n",
       "      <td>NaN</td>\n",
       "      <td>2</td>\n",
       "      <td>NaN</td>\n",
       "      <td>NaN</td>\n",
       "      <td>KG</td>\n",
       "      <td>NaN</td>\n",
       "      <td>NaN</td>\n",
       "      <td>NaN</td>\n",
       "      <td>NaN</td>\n",
       "      <td>NaN</td>\n",
       "      <td>NaN</td>\n",
       "      <td>NaN</td>\n",
       "      <td>NaN</td>\n",
       "      <td>NaN</td>\n",
       "      <td>10</td>\n",
       "      <td>NaN</td>\n",
       "      <td>NaN</td>\n",
       "      <td>NaN</td>\n",
       "      <td>NaN</td>\n",
       "      <td>NaN</td>\n",
       "      <td>NaN</td>\n",
       "      <td>NaN</td>\n",
       "      <td>NaN</td>\n",
       "      <td>NaN</td>\n",
       "      <td>NaN</td>\n",
       "      <td>NaN</td>\n",
       "      <td>NaN</td>\n",
       "      <td>NaN</td>\n",
       "      <td>NaN</td>\n",
       "      <td>NaN</td>\n",
       "      <td>NaN</td>\n",
       "      <td>NaN</td>\n",
       "      <td>NaN</td>\n",
       "      <td>NaN</td>\n",
       "      <td>NaN</td>\n",
       "      <td>NaN</td>\n",
       "      <td>NaN</td>\n",
       "      <td>NaN</td>\n",
       "      <td>NaN</td>\n",
       "      <td>NaN</td>\n",
       "      <td>NaN</td>\n",
       "      <td>NaN</td>\n",
       "      <td>NaN</td>\n",
       "      <td>NaN</td>\n",
       "      <td>NaN</td>\n",
       "      <td>0.021</td>\n",
       "      <td>0.042</td>\n",
       "      <td>21.168</td>\n",
       "      <td>2.121</td>\n",
       "      <td>NO ERROR</td>\n",
       "      <td>-97.386708</td>\n",
       "      <td>30.604109</td>\n",
       "      <td>3.708</td>\n",
       "      <td>-97.386648</td>\n",
       "      <td>30.603966</td>\n",
       "      <td>3.71850</td>\n",
       "      <td>-97.386587</td>\n",
       "      <td>30.603823</td>\n",
       "      <td>3.729</td>\n",
       "      <td>0.000311</td>\n",
       "      <td>0</td>\n",
       "      <td>0.0</td>\n",
       "      <td>0.0</td>\n",
       "      <td>0</td>\n",
       "      <td>2011</td>\n",
       "      <td>3012</td>\n",
       "      <td>FM0619-KG</td>\n",
       "      <td>FM</td>\n",
       "      <td>619</td>\n",
       "      <td>NaN</td>\n",
       "      <td>KG</td>\n",
       "      <td>3134</td>\n",
       "      <td>0.000</td>\n",
       "      <td>6.696</td>\n",
       "      <td>Maximum Speed Limit</td>\n",
       "      <td>60</td>\n",
       "      <td>5577085</td>\n",
       "      <td>On</td>\n",
       "      <td>FM0619-KG</td>\n",
       "      <td>60</td>\n",
       "      <td>0.000</td>\n",
       "      <td>6.696</td>\n",
       "      <td>FM</td>\n",
       "      <td>12587.51446</td>\n",
       "    </tr>\n",
       "    <tr>\n",
       "      <th>2</th>\n",
       "      <td>2</td>\n",
       "      <td>596</td>\n",
       "      <td>596</td>\n",
       "      <td>597</td>\n",
       "      <td>1</td>\n",
       "      <td>FM0583-KG</td>\n",
       "      <td>175685</td>\n",
       "      <td>3090</td>\n",
       "      <td>9.283</td>\n",
       "      <td>9.287</td>\n",
       "      <td>1033-02</td>\n",
       "      <td>1033.0</td>\n",
       "      <td>2</td>\n",
       "      <td>7.816</td>\n",
       "      <td>7.820</td>\n",
       "      <td>201505</td>\n",
       "      <td>FM0583</td>\n",
       "      <td>FM</td>\n",
       "      <td>583</td>\n",
       "      <td>NaN</td>\n",
       "      <td>CG</td>\n",
       "      <td>324</td>\n",
       "      <td>NaN</td>\n",
       "      <td>324</td>\n",
       "      <td>1.805</td>\n",
       "      <td>324</td>\n",
       "      <td>NaN</td>\n",
       "      <td>324</td>\n",
       "      <td>1.809</td>\n",
       "      <td>20150512</td>\n",
       "      <td>20150512</td>\n",
       "      <td>4</td>\n",
       "      <td>NaN</td>\n",
       "      <td>23</td>\n",
       "      <td>25</td>\n",
       "      <td>0</td>\n",
       "      <td>0</td>\n",
       "      <td>0</td>\n",
       "      <td>0</td>\n",
       "      <td>1</td>\n",
       "      <td>0</td>\n",
       "      <td>23</td>\n",
       "      <td>1</td>\n",
       "      <td>NaN</td>\n",
       "      <td>1</td>\n",
       "      <td>1</td>\n",
       "      <td>6</td>\n",
       "      <td>R6</td>\n",
       "      <td>0</td>\n",
       "      <td>NaN</td>\n",
       "      <td>0</td>\n",
       "      <td>0</td>\n",
       "      <td>0</td>\n",
       "      <td>0</td>\n",
       "      <td>0</td>\n",
       "      <td>0</td>\n",
       "      <td>0</td>\n",
       "      <td>0</td>\n",
       "      <td>0</td>\n",
       "      <td>0</td>\n",
       "      <td>0</td>\n",
       "      <td>11</td>\n",
       "      <td>NaN</td>\n",
       "      <td>NaN</td>\n",
       "      <td>NaN</td>\n",
       "      <td>NaN</td>\n",
       "      <td>6</td>\n",
       "      <td>19950429</td>\n",
       "      <td>19950429</td>\n",
       "      <td>NaN</td>\n",
       "      <td>NaN</td>\n",
       "      <td>NaN</td>\n",
       "      <td>60</td>\n",
       "      <td>0</td>\n",
       "      <td>NaN</td>\n",
       "      <td>NaN</td>\n",
       "      <td>0</td>\n",
       "      <td>0</td>\n",
       "      <td>0</td>\n",
       "      <td>0</td>\n",
       "      <td>NaN</td>\n",
       "      <td>0</td>\n",
       "      <td>NaN</td>\n",
       "      <td>2</td>\n",
       "      <td>3</td>\n",
       "      <td>2.3025e+14</td>\n",
       "      <td>NaN</td>\n",
       "      <td>NaN</td>\n",
       "      <td>NaN</td>\n",
       "      <td>0</td>\n",
       "      <td>0</td>\n",
       "      <td>2</td>\n",
       "      <td>2</td>\n",
       "      <td>NaN</td>\n",
       "      <td>0</td>\n",
       "      <td>NaN</td>\n",
       "      <td>0</td>\n",
       "      <td>100</td>\n",
       "      <td>100</td>\n",
       "      <td>24</td>\n",
       "      <td>20</td>\n",
       "      <td>3</td>\n",
       "      <td>2</td>\n",
       "      <td>5</td>\n",
       "      <td>3</td>\n",
       "      <td>2</td>\n",
       "      <td>5</td>\n",
       "      <td>0</td>\n",
       "      <td>0</td>\n",
       "      <td>14</td>\n",
       "      <td>10</td>\n",
       "      <td>1</td>\n",
       "      <td>0.0</td>\n",
       "      <td>NaN</td>\n",
       "      <td>25H78</td>\n",
       "      <td>2017</td>\n",
       "      <td>128</td>\n",
       "      <td>128</td>\n",
       "      <td>12.5</td>\n",
       "      <td>54</td>\n",
       "      <td>13.3</td>\n",
       "      <td>3.9</td>\n",
       "      <td>9.4</td>\n",
       "      <td>17</td>\n",
       "      <td>5</td>\n",
       "      <td>12</td>\n",
       "      <td>14.5</td>\n",
       "      <td>1.9</td>\n",
       "      <td>12.6</td>\n",
       "      <td>73</td>\n",
       "      <td>102</td>\n",
       "      <td>47</td>\n",
       "      <td>40</td>\n",
       "      <td>0</td>\n",
       "      <td>2016</td>\n",
       "      <td>124</td>\n",
       "      <td>97</td>\n",
       "      <td>87</td>\n",
       "      <td>136</td>\n",
       "      <td>150</td>\n",
       "      <td>120</td>\n",
       "      <td>130</td>\n",
       "      <td>120</td>\n",
       "      <td>120</td>\n",
       "      <td>2037</td>\n",
       "      <td>180</td>\n",
       "      <td>1.7</td>\n",
       "      <td>52</td>\n",
       "      <td>22</td>\n",
       "      <td>NaN</td>\n",
       "      <td>NaN</td>\n",
       "      <td>NaN</td>\n",
       "      <td>NaN</td>\n",
       "      <td>NaN</td>\n",
       "      <td>NaN</td>\n",
       "      <td>NaN</td>\n",
       "      <td>NaN</td>\n",
       "      <td>NaN</td>\n",
       "      <td>NaN</td>\n",
       "      <td>1</td>\n",
       "      <td>NaN</td>\n",
       "      <td>NaN</td>\n",
       "      <td>KG</td>\n",
       "      <td>NaN</td>\n",
       "      <td>NaN</td>\n",
       "      <td>NaN</td>\n",
       "      <td>NaN</td>\n",
       "      <td>NaN</td>\n",
       "      <td>NaN</td>\n",
       "      <td>NaN</td>\n",
       "      <td>NaN</td>\n",
       "      <td>NaN</td>\n",
       "      <td>10</td>\n",
       "      <td>NaN</td>\n",
       "      <td>NaN</td>\n",
       "      <td>NaN</td>\n",
       "      <td>NaN</td>\n",
       "      <td>NaN</td>\n",
       "      <td>NaN</td>\n",
       "      <td>NaN</td>\n",
       "      <td>NaN</td>\n",
       "      <td>NaN</td>\n",
       "      <td>NaN</td>\n",
       "      <td>NaN</td>\n",
       "      <td>NaN</td>\n",
       "      <td>NaN</td>\n",
       "      <td>NaN</td>\n",
       "      <td>NaN</td>\n",
       "      <td>NaN</td>\n",
       "      <td>NaN</td>\n",
       "      <td>NaN</td>\n",
       "      <td>NaN</td>\n",
       "      <td>NaN</td>\n",
       "      <td>NaN</td>\n",
       "      <td>NaN</td>\n",
       "      <td>NaN</td>\n",
       "      <td>NaN</td>\n",
       "      <td>NaN</td>\n",
       "      <td>NaN</td>\n",
       "      <td>NaN</td>\n",
       "      <td>NaN</td>\n",
       "      <td>NaN</td>\n",
       "      <td>NaN</td>\n",
       "      <td>0.004</td>\n",
       "      <td>0.008</td>\n",
       "      <td>0.512</td>\n",
       "      <td>0.068</td>\n",
       "      <td>NO ERROR</td>\n",
       "      <td>-98.981705</td>\n",
       "      <td>32.003345</td>\n",
       "      <td>9.283</td>\n",
       "      <td>-98.981671</td>\n",
       "      <td>32.003343</td>\n",
       "      <td>9.28500</td>\n",
       "      <td>-98.981637</td>\n",
       "      <td>32.003341</td>\n",
       "      <td>9.287</td>\n",
       "      <td>0.000068</td>\n",
       "      <td>0</td>\n",
       "      <td>0.0</td>\n",
       "      <td>0.0</td>\n",
       "      <td>0</td>\n",
       "      <td>2019</td>\n",
       "      <td>3020</td>\n",
       "      <td>FM0583-KG</td>\n",
       "      <td>FM</td>\n",
       "      <td>583</td>\n",
       "      <td>NaN</td>\n",
       "      <td>KG</td>\n",
       "      <td>3090</td>\n",
       "      <td>1.626</td>\n",
       "      <td>12.843</td>\n",
       "      <td>Maximum Speed Limit</td>\n",
       "      <td>60</td>\n",
       "      <td>5577094</td>\n",
       "      <td>On</td>\n",
       "      <td>FM0583-KG</td>\n",
       "      <td>60</td>\n",
       "      <td>1.626</td>\n",
       "      <td>12.843</td>\n",
       "      <td>FM</td>\n",
       "      <td>21357.16631</td>\n",
       "    </tr>\n",
       "    <tr>\n",
       "      <th>3</th>\n",
       "      <td>3</td>\n",
       "      <td>513</td>\n",
       "      <td>513</td>\n",
       "      <td>514</td>\n",
       "      <td>1</td>\n",
       "      <td>FM0541-KG</td>\n",
       "      <td>175640</td>\n",
       "      <td>3038</td>\n",
       "      <td>34.630</td>\n",
       "      <td>34.648</td>\n",
       "      <td>0366-09</td>\n",
       "      <td>366.0</td>\n",
       "      <td>9</td>\n",
       "      <td>9.415</td>\n",
       "      <td>9.433</td>\n",
       "      <td>201505</td>\n",
       "      <td>FM0541</td>\n",
       "      <td>FM</td>\n",
       "      <td>541</td>\n",
       "      <td>NaN</td>\n",
       "      <td>CG</td>\n",
       "      <td>556</td>\n",
       "      <td>NaN</td>\n",
       "      <td>556</td>\n",
       "      <td>1.905</td>\n",
       "      <td>556</td>\n",
       "      <td>NaN</td>\n",
       "      <td>556</td>\n",
       "      <td>1.923</td>\n",
       "      <td>20150512</td>\n",
       "      <td>20150512</td>\n",
       "      <td>4</td>\n",
       "      <td>NaN</td>\n",
       "      <td>15</td>\n",
       "      <td>247</td>\n",
       "      <td>0</td>\n",
       "      <td>0</td>\n",
       "      <td>0</td>\n",
       "      <td>0</td>\n",
       "      <td>1</td>\n",
       "      <td>1</td>\n",
       "      <td>15</td>\n",
       "      <td>4</td>\n",
       "      <td>NaN</td>\n",
       "      <td>1</td>\n",
       "      <td>1</td>\n",
       "      <td>5</td>\n",
       "      <td>R5</td>\n",
       "      <td>0</td>\n",
       "      <td>NaN</td>\n",
       "      <td>0</td>\n",
       "      <td>0</td>\n",
       "      <td>0</td>\n",
       "      <td>0</td>\n",
       "      <td>0</td>\n",
       "      <td>0</td>\n",
       "      <td>0</td>\n",
       "      <td>0</td>\n",
       "      <td>0</td>\n",
       "      <td>0</td>\n",
       "      <td>1</td>\n",
       "      <td>11</td>\n",
       "      <td>NaN</td>\n",
       "      <td>NaN</td>\n",
       "      <td>NaN</td>\n",
       "      <td>NaN</td>\n",
       "      <td>6</td>\n",
       "      <td>19950429</td>\n",
       "      <td>19950429</td>\n",
       "      <td>NaN</td>\n",
       "      <td>NaN</td>\n",
       "      <td>NaN</td>\n",
       "      <td>55</td>\n",
       "      <td>0</td>\n",
       "      <td>NaN</td>\n",
       "      <td>NaN</td>\n",
       "      <td>0</td>\n",
       "      <td>0</td>\n",
       "      <td>58420</td>\n",
       "      <td>0</td>\n",
       "      <td>NaN</td>\n",
       "      <td>0</td>\n",
       "      <td>NaN</td>\n",
       "      <td>2</td>\n",
       "      <td>3</td>\n",
       "      <td>NaN</td>\n",
       "      <td>NaN</td>\n",
       "      <td>NaN</td>\n",
       "      <td>NaN</td>\n",
       "      <td>0</td>\n",
       "      <td>0</td>\n",
       "      <td>6</td>\n",
       "      <td>2</td>\n",
       "      <td>NaN</td>\n",
       "      <td>0</td>\n",
       "      <td>NaN</td>\n",
       "      <td>0</td>\n",
       "      <td>100</td>\n",
       "      <td>100</td>\n",
       "      <td>36</td>\n",
       "      <td>24</td>\n",
       "      <td>5</td>\n",
       "      <td>6</td>\n",
       "      <td>5</td>\n",
       "      <td>5</td>\n",
       "      <td>6</td>\n",
       "      <td>5</td>\n",
       "      <td>0</td>\n",
       "      <td>0</td>\n",
       "      <td>14</td>\n",
       "      <td>10</td>\n",
       "      <td>1</td>\n",
       "      <td>0.0</td>\n",
       "      <td>NaN</td>\n",
       "      <td>247H20</td>\n",
       "      <td>2017</td>\n",
       "      <td>692</td>\n",
       "      <td>692</td>\n",
       "      <td>12.3</td>\n",
       "      <td>67</td>\n",
       "      <td>50.0</td>\n",
       "      <td>23.7</td>\n",
       "      <td>26.3</td>\n",
       "      <td>346</td>\n",
       "      <td>164</td>\n",
       "      <td>182</td>\n",
       "      <td>37.2</td>\n",
       "      <td>18.2</td>\n",
       "      <td>19.0</td>\n",
       "      <td>1496</td>\n",
       "      <td>2101</td>\n",
       "      <td>101</td>\n",
       "      <td>30</td>\n",
       "      <td>0</td>\n",
       "      <td>2016</td>\n",
       "      <td>632</td>\n",
       "      <td>653</td>\n",
       "      <td>1015</td>\n",
       "      <td>1094</td>\n",
       "      <td>800</td>\n",
       "      <td>720</td>\n",
       "      <td>550</td>\n",
       "      <td>590</td>\n",
       "      <td>510</td>\n",
       "      <td>2037</td>\n",
       "      <td>970</td>\n",
       "      <td>1.7</td>\n",
       "      <td>278</td>\n",
       "      <td>119</td>\n",
       "      <td>NaN</td>\n",
       "      <td>NaN</td>\n",
       "      <td>NaN</td>\n",
       "      <td>NaN</td>\n",
       "      <td>NaN</td>\n",
       "      <td>NaN</td>\n",
       "      <td>NaN</td>\n",
       "      <td>NaN</td>\n",
       "      <td>NaN</td>\n",
       "      <td>NaN</td>\n",
       "      <td>2</td>\n",
       "      <td>NaN</td>\n",
       "      <td>NaN</td>\n",
       "      <td>KG</td>\n",
       "      <td>NaN</td>\n",
       "      <td>NaN</td>\n",
       "      <td>NaN</td>\n",
       "      <td>NaN</td>\n",
       "      <td>NaN</td>\n",
       "      <td>NaN</td>\n",
       "      <td>NaN</td>\n",
       "      <td>NaN</td>\n",
       "      <td>NaN</td>\n",
       "      <td>12</td>\n",
       "      <td>NaN</td>\n",
       "      <td>NaN</td>\n",
       "      <td>NaN</td>\n",
       "      <td>NaN</td>\n",
       "      <td>NaN</td>\n",
       "      <td>NaN</td>\n",
       "      <td>NaN</td>\n",
       "      <td>NaN</td>\n",
       "      <td>NaN</td>\n",
       "      <td>NaN</td>\n",
       "      <td>NaN</td>\n",
       "      <td>NaN</td>\n",
       "      <td>NaN</td>\n",
       "      <td>NaN</td>\n",
       "      <td>NaN</td>\n",
       "      <td>NaN</td>\n",
       "      <td>NaN</td>\n",
       "      <td>NaN</td>\n",
       "      <td>NaN</td>\n",
       "      <td>NaN</td>\n",
       "      <td>NaN</td>\n",
       "      <td>NaN</td>\n",
       "      <td>NaN</td>\n",
       "      <td>NaN</td>\n",
       "      <td>NaN</td>\n",
       "      <td>NaN</td>\n",
       "      <td>NaN</td>\n",
       "      <td>NaN</td>\n",
       "      <td>NaN</td>\n",
       "      <td>NaN</td>\n",
       "      <td>0.018</td>\n",
       "      <td>0.036</td>\n",
       "      <td>12.456</td>\n",
       "      <td>6.228</td>\n",
       "      <td>NO ERROR</td>\n",
       "      <td>-97.951377</td>\n",
       "      <td>29.105476</td>\n",
       "      <td>34.630</td>\n",
       "      <td>-97.951248</td>\n",
       "      <td>29.105542</td>\n",
       "      <td>34.63900</td>\n",
       "      <td>-97.951118</td>\n",
       "      <td>29.105607</td>\n",
       "      <td>34.648</td>\n",
       "      <td>0.000289</td>\n",
       "      <td>0</td>\n",
       "      <td>0.0</td>\n",
       "      <td>0.0</td>\n",
       "      <td>0</td>\n",
       "      <td>2024</td>\n",
       "      <td>3025</td>\n",
       "      <td>FM0541-KG</td>\n",
       "      <td>FM</td>\n",
       "      <td>541</td>\n",
       "      <td>NaN</td>\n",
       "      <td>KG</td>\n",
       "      <td>3038</td>\n",
       "      <td>34.312</td>\n",
       "      <td>35.337</td>\n",
       "      <td>Maximum Speed Limit</td>\n",
       "      <td>55</td>\n",
       "      <td>5577099</td>\n",
       "      <td>On</td>\n",
       "      <td>FM0541-KG</td>\n",
       "      <td>55</td>\n",
       "      <td>34.312</td>\n",
       "      <td>35.337</td>\n",
       "      <td>FM</td>\n",
       "      <td>1892.50471</td>\n",
       "    </tr>\n",
       "    <tr>\n",
       "      <th>4</th>\n",
       "      <td>4</td>\n",
       "      <td>330</td>\n",
       "      <td>330</td>\n",
       "      <td>331</td>\n",
       "      <td>1</td>\n",
       "      <td>FM0523-KG</td>\n",
       "      <td>175622</td>\n",
       "      <td>3014</td>\n",
       "      <td>12.785</td>\n",
       "      <td>12.814</td>\n",
       "      <td>1003-01</td>\n",
       "      <td>1003.0</td>\n",
       "      <td>1</td>\n",
       "      <td>15.007</td>\n",
       "      <td>15.036</td>\n",
       "      <td>201505</td>\n",
       "      <td>FM0523</td>\n",
       "      <td>FM</td>\n",
       "      <td>523</td>\n",
       "      <td>NaN</td>\n",
       "      <td>CG</td>\n",
       "      <td>516</td>\n",
       "      <td>NaN</td>\n",
       "      <td>516</td>\n",
       "      <td>1.072</td>\n",
       "      <td>516</td>\n",
       "      <td>NaN</td>\n",
       "      <td>516</td>\n",
       "      <td>1.101</td>\n",
       "      <td>20150512</td>\n",
       "      <td>20150512</td>\n",
       "      <td>1</td>\n",
       "      <td>NaN</td>\n",
       "      <td>12</td>\n",
       "      <td>20</td>\n",
       "      <td>0</td>\n",
       "      <td>15</td>\n",
       "      <td>459</td>\n",
       "      <td>46801</td>\n",
       "      <td>3</td>\n",
       "      <td>1</td>\n",
       "      <td>12</td>\n",
       "      <td>2</td>\n",
       "      <td>NaN</td>\n",
       "      <td>1</td>\n",
       "      <td>1</td>\n",
       "      <td>4</td>\n",
       "      <td>U4</td>\n",
       "      <td>0</td>\n",
       "      <td>NaN</td>\n",
       "      <td>0</td>\n",
       "      <td>0</td>\n",
       "      <td>0</td>\n",
       "      <td>1</td>\n",
       "      <td>0</td>\n",
       "      <td>0</td>\n",
       "      <td>0</td>\n",
       "      <td>0</td>\n",
       "      <td>0</td>\n",
       "      <td>0</td>\n",
       "      <td>1</td>\n",
       "      <td>11</td>\n",
       "      <td>NaN</td>\n",
       "      <td>NaN</td>\n",
       "      <td>NaN</td>\n",
       "      <td>NaN</td>\n",
       "      <td>6</td>\n",
       "      <td>19950429</td>\n",
       "      <td>19950429</td>\n",
       "      <td>NaN</td>\n",
       "      <td>NaN</td>\n",
       "      <td>NaN</td>\n",
       "      <td>60</td>\n",
       "      <td>0</td>\n",
       "      <td>NaN</td>\n",
       "      <td>NaN</td>\n",
       "      <td>0</td>\n",
       "      <td>0</td>\n",
       "      <td>0</td>\n",
       "      <td>0</td>\n",
       "      <td>NaN</td>\n",
       "      <td>0</td>\n",
       "      <td>NaN</td>\n",
       "      <td>2</td>\n",
       "      <td>3</td>\n",
       "      <td>NaN</td>\n",
       "      <td>NaN</td>\n",
       "      <td>NaN</td>\n",
       "      <td>NaN</td>\n",
       "      <td>0</td>\n",
       "      <td>0</td>\n",
       "      <td>8</td>\n",
       "      <td>2</td>\n",
       "      <td>NaN</td>\n",
       "      <td>0</td>\n",
       "      <td>NaN</td>\n",
       "      <td>0</td>\n",
       "      <td>100</td>\n",
       "      <td>100</td>\n",
       "      <td>40</td>\n",
       "      <td>24</td>\n",
       "      <td>1</td>\n",
       "      <td>8</td>\n",
       "      <td>5</td>\n",
       "      <td>1</td>\n",
       "      <td>8</td>\n",
       "      <td>5</td>\n",
       "      <td>0</td>\n",
       "      <td>0</td>\n",
       "      <td>14</td>\n",
       "      <td>4</td>\n",
       "      <td>1</td>\n",
       "      <td>0.0</td>\n",
       "      <td>NaN</td>\n",
       "      <td>20H14</td>\n",
       "      <td>2017</td>\n",
       "      <td>7799</td>\n",
       "      <td>7799</td>\n",
       "      <td>11.5</td>\n",
       "      <td>50</td>\n",
       "      <td>2.3</td>\n",
       "      <td>1.9</td>\n",
       "      <td>0.4</td>\n",
       "      <td>179</td>\n",
       "      <td>148</td>\n",
       "      <td>31</td>\n",
       "      <td>0.8</td>\n",
       "      <td>0.6</td>\n",
       "      <td>0.2</td>\n",
       "      <td>577</td>\n",
       "      <td>728</td>\n",
       "      <td>32</td>\n",
       "      <td>30</td>\n",
       "      <td>34</td>\n",
       "      <td>2016</td>\n",
       "      <td>7404</td>\n",
       "      <td>6615</td>\n",
       "      <td>4697</td>\n",
       "      <td>5227</td>\n",
       "      <td>5500</td>\n",
       "      <td>5500</td>\n",
       "      <td>5000</td>\n",
       "      <td>5900</td>\n",
       "      <td>6400</td>\n",
       "      <td>2037</td>\n",
       "      <td>12640</td>\n",
       "      <td>2.4</td>\n",
       "      <td>4841</td>\n",
       "      <td>1454</td>\n",
       "      <td>NaN</td>\n",
       "      <td>NaN</td>\n",
       "      <td>NaN</td>\n",
       "      <td>NaN</td>\n",
       "      <td>NaN</td>\n",
       "      <td>NaN</td>\n",
       "      <td>NaN</td>\n",
       "      <td>NaN</td>\n",
       "      <td>NaN</td>\n",
       "      <td>NaN</td>\n",
       "      <td>4</td>\n",
       "      <td>NaN</td>\n",
       "      <td>NaN</td>\n",
       "      <td>KG</td>\n",
       "      <td>NaN</td>\n",
       "      <td>NaN</td>\n",
       "      <td>NaN</td>\n",
       "      <td>NaN</td>\n",
       "      <td>NaN</td>\n",
       "      <td>NaN</td>\n",
       "      <td>NaN</td>\n",
       "      <td>NaN</td>\n",
       "      <td>NaN</td>\n",
       "      <td>12</td>\n",
       "      <td>NaN</td>\n",
       "      <td>NaN</td>\n",
       "      <td>NaN</td>\n",
       "      <td>NaN</td>\n",
       "      <td>NaN</td>\n",
       "      <td>NaN</td>\n",
       "      <td>NaN</td>\n",
       "      <td>NaN</td>\n",
       "      <td>NaN</td>\n",
       "      <td>NaN</td>\n",
       "      <td>NaN</td>\n",
       "      <td>NaN</td>\n",
       "      <td>NaN</td>\n",
       "      <td>NaN</td>\n",
       "      <td>NaN</td>\n",
       "      <td>NaN</td>\n",
       "      <td>NaN</td>\n",
       "      <td>NaN</td>\n",
       "      <td>NaN</td>\n",
       "      <td>NaN</td>\n",
       "      <td>NaN</td>\n",
       "      <td>NaN</td>\n",
       "      <td>NaN</td>\n",
       "      <td>NaN</td>\n",
       "      <td>NaN</td>\n",
       "      <td>NaN</td>\n",
       "      <td>NaN</td>\n",
       "      <td>NaN</td>\n",
       "      <td>NaN</td>\n",
       "      <td>NaN</td>\n",
       "      <td>0.029</td>\n",
       "      <td>0.058</td>\n",
       "      <td>226.171</td>\n",
       "      <td>5.191</td>\n",
       "      <td>NO ERROR</td>\n",
       "      <td>-95.374392</td>\n",
       "      <td>29.112675</td>\n",
       "      <td>12.785</td>\n",
       "      <td>-95.374248</td>\n",
       "      <td>29.112506</td>\n",
       "      <td>12.79950</td>\n",
       "      <td>-95.374104</td>\n",
       "      <td>29.112337</td>\n",
       "      <td>12.814</td>\n",
       "      <td>0.000444</td>\n",
       "      <td>0</td>\n",
       "      <td>0.0</td>\n",
       "      <td>0.0</td>\n",
       "      <td>0</td>\n",
       "      <td>2032</td>\n",
       "      <td>3033</td>\n",
       "      <td>FM0523-KG</td>\n",
       "      <td>FM</td>\n",
       "      <td>523</td>\n",
       "      <td>NaN</td>\n",
       "      <td>KG</td>\n",
       "      <td>3014</td>\n",
       "      <td>12.194</td>\n",
       "      <td>17.693</td>\n",
       "      <td>Maximum Speed Limit</td>\n",
       "      <td>60</td>\n",
       "      <td>5577108</td>\n",
       "      <td>On</td>\n",
       "      <td>FM0523-KG</td>\n",
       "      <td>60</td>\n",
       "      <td>12.194</td>\n",
       "      <td>17.693</td>\n",
       "      <td>FM</td>\n",
       "      <td>10174.89845</td>\n",
       "    </tr>\n",
       "  </tbody>\n",
       "</table>\n",
       "</div>"
      ],
      "text/plain": [
       "   FID  FID_1  FID_1_1  OBJECTID  REC RIA_RTE_ID  RTE_GRID   GID  FRM_DFO  \\\n",
       "0    0    319      319       320    1  FM0619-KG    175724  3134    4.764   \n",
       "1    1    579      579       580    1  FM0619-KG    175724  3134    3.708   \n",
       "2    2    596      596       597    1  FM0583-KG    175685  3090    9.283   \n",
       "3    3    513      513       514    1  FM0541-KG    175640  3038   34.630   \n",
       "4    4    330      330       331    1  FM0523-KG    175622  3014   12.785   \n",
       "\n",
       "   TO_DFO    C_SEC     CON  SEC     BMP     EMP  RI_MPT_DAT     HWY HSYS HNUM  \\\n",
       "0   4.957  0986-03   986.0    3   4.783   4.977      201505  FM0619   FM  619   \n",
       "1   3.729  0986-03   986.0    3   3.723   3.744      201505  FM0619   FM  619   \n",
       "2   9.287  1033-02  1033.0    2   7.816   7.820      201505  FM0583   FM  583   \n",
       "3  34.648  0366-09   366.0    9   9.415   9.433      201505  FM0541   FM  541   \n",
       "4  12.814  1003-01  1003.0    1  15.007  15.036      201505  FM0523   FM  523   \n",
       "\n",
       "  HSUF RDBD_ID  FRM_NBR FRM_SUF FRM_NUM  FRM_DISP  TO_NBR TO_SUF TO_NUM  \\\n",
       "0  NaN      CG      418     NaN     418     0.764     418    NaN    418   \n",
       "1  NaN      CG      416     NaN     416     1.708     416    NaN    416   \n",
       "2  NaN      CG      324     NaN     324     1.805     324    NaN    324   \n",
       "3  NaN      CG      556     NaN     556     1.905     556    NaN    556   \n",
       "4  NaN      CG      516     NaN     516     1.072     516    NaN    516   \n",
       "\n",
       "   TO_DISP  FRM_MKR_DA  TO_MKR_DAT  DIR_TRAV STE_NAM  DI   CO   CITY  MPA  \\\n",
       "0    0.957    20150512    20150512         1     NaN  14  246  41900   90   \n",
       "1    1.729    20150512    20150512         1     NaN  14  246      0   90   \n",
       "2    1.809    20150512    20150512         4     NaN  23   25      0    0   \n",
       "3    1.923    20150512    20150512         4     NaN  15  247      0    0   \n",
       "4    1.101    20150512    20150512         1     NaN  12   20      0   15   \n",
       "\n",
       "   UAN  UAN_HPMS  RU  MSA_CNTY  MAINT_DIS  MNT_SEC  PBLC_LAND  ADMIN  \\\n",
       "0    0         0   1         1         14       13        NaN      1   \n",
       "1    0         0   1         1         14       13        NaN      1   \n",
       "2    0         0   1         0         23        1        NaN      1   \n",
       "3    0         0   1         1         15        4        NaN      1   \n",
       "4  459     46801   3         1         12        2        NaN      1   \n",
       "\n",
       "   RDWAY_MAIN  F_SYSTEM RU_F_SYSTE  SEC_NHS  SEC_NHS_AP  SEC_STR  SEC_TRUNK  \\\n",
       "0           1         5         R5        0         NaN        0          0   \n",
       "1           1         5         R5        0         NaN        0          0   \n",
       "2           1         6         R6        0         NaN        0          0   \n",
       "3           1         5         R5        0         NaN        0          0   \n",
       "4           1         4         U4        0         NaN        0          0   \n",
       "\n",
       "   SEC_TRK  SEC_EVAC  SEC_NFH  SEC_STM  SEC_TTT  SEC_PARK  SEC_BIC  SEC_ADP  \\\n",
       "0        0         0        0        0        0         0        0        0   \n",
       "1        0         0        0        0        0         0        0        0   \n",
       "2        0         0        0        0        0         0        0        0   \n",
       "3        0         0        0        0        0         0        0        0   \n",
       "4        0         1        0        0        0         0        0        0   \n",
       "\n",
       "   SEC_FED_AI  MSA_CLS  TOP100ID  TOP_100_BE  TOP_100_EN  FRGHT_NTWR  \\\n",
       "0           1       11       NaN         NaN         NaN         NaN   \n",
       "1           1       11       NaN         NaN         NaN         NaN   \n",
       "2           0       11       NaN         NaN         NaN         NaN   \n",
       "3           1       11       NaN         NaN         NaN         NaN   \n",
       "4           1       11       NaN         NaN         NaN         NaN   \n",
       "\n",
       "   HWY_STAT  HWY_STAT_D      DOTT  DCTT  CLSR_RESN  HWY_NOTE  SPD_MAX  \\\n",
       "0         6    19950429  19950429   NaN        NaN       NaN       60   \n",
       "1         6    19950429  19950429   NaN        NaN       NaN       60   \n",
       "2         6    19950429  19950429   NaN        NaN       NaN       60   \n",
       "3         6    19950429  19950429   NaN        NaN       NaN       55   \n",
       "4         6    19950429  19950429   NaN        NaN       NaN       60   \n",
       "\n",
       "   SPD_MIN  ALT_SPD_LM  ALT_SPD__1  SCHOOL_ZN  LOAD_AXLE  LOAD_GROSS  \\\n",
       "0        0         NaN         NaN          0          0           0   \n",
       "1        0         NaN         NaN          0          0           0   \n",
       "2        0         NaN         NaN          0          0           0   \n",
       "3        0         NaN         NaN          0          0       58420   \n",
       "4        0         NaN         NaN          0          0           0   \n",
       "\n",
       "   LOAD_TAND TOLL_NM  DBTP  PEAK_DRCT_  HWY_DES1  ACES_CTRL  BRDG_STRUC  \\\n",
       "0          0     NaN     0         NaN         2          3         NaN   \n",
       "1          0     NaN     0         NaN         2          3  1.4246e+14   \n",
       "2          0     NaN     0         NaN         2          3  2.3025e+14   \n",
       "3          0     NaN     0         NaN         2          3         NaN   \n",
       "4          0     NaN     0         NaN         2          3         NaN   \n",
       "\n",
       "   CAUSEWAY  TUNNEL  MULT_MOD_F  MED_TYPE  MED_WID  HP_MED_W  NUM_LANES  \\\n",
       "0       NaN     NaN         NaN         0        0         1          2   \n",
       "1       NaN     NaN         NaN         0        0         1          2   \n",
       "2       NaN     NaN         NaN         0        0         2          2   \n",
       "3       NaN     NaN         NaN         0        0         6          2   \n",
       "4       NaN     NaN         NaN         0        0         8          2   \n",
       "\n",
       "   CLMB_PS_LA  ACCEL_DECE  HOV_LANES  HOV_TYP  ROW_MIN  ROW_W_USL  RB_WID  \\\n",
       "0         NaN           0        NaN        0       80         80      22   \n",
       "1         NaN           0        NaN        0       80         80      22   \n",
       "2         NaN           0        NaN        0      100        100      24   \n",
       "3         NaN           0        NaN        0      100        100      36   \n",
       "4         NaN           0        NaN        0      100        100      40   \n",
       "\n",
       "   SUR_W  S_TYPE_I  S_WID_I  S_USE_I  S_TYPE_O  S_WID_O  S_USE_O  CURB_L  \\\n",
       "0     20         3        1        5         3        1        5       0   \n",
       "1     20         3        1        5         3        1        5       0   \n",
       "2     20         3        2        5         3        2        5       0   \n",
       "3     24         5        6        5         5        6        5       0   \n",
       "4     24         1        8        5         1        8        5       0   \n",
       "\n",
       "   CURB_R  BASE_TP  SRF_TYPE  SURF_TREAT  SURF_TRE_1  SURF_TRE_2 TRF_STA_ID  \\\n",
       "0       0       14        10           1         0.0         NaN    246H120   \n",
       "1       0       14        10           1         0.0         NaN    246H120   \n",
       "2       0       14        10           1         0.0         NaN      25H78   \n",
       "3       0       14        10           1         0.0         NaN     247H20   \n",
       "4       0       14         4           1         0.0         NaN      20H14   \n",
       "\n",
       "   ADT_YEAR  ADT_CUR  ADT_ADJ  K_FAC  D_FAC  TRK_AADT_P  PCT_SADT  PCT_CADT  \\\n",
       "0      2017     1008     1008   10.6     53        10.1       4.7       5.4   \n",
       "1      2017     1008     1008   10.6     53        10.1       4.7       5.4   \n",
       "2      2017      128      128   12.5     54        13.3       3.9       9.4   \n",
       "3      2017      692      692   12.3     67        50.0      23.7      26.3   \n",
       "4      2017     7799     7799   11.5     50         2.3       1.9       0.4   \n",
       "\n",
       "   AADT_TRUCK  AADT_SINGL  AADT_COMBI  TRK_DHV_PC  PCT_SDHV  PCT_CDHV  \\\n",
       "0         101          47          54         4.7       2.6       2.1   \n",
       "1         101          47          54         4.7       2.6       2.1   \n",
       "2          17           5          12        14.5       1.9      12.6   \n",
       "3         346         164         182        37.2      18.2      19.0   \n",
       "4         179         148          31         0.8       0.6       0.2   \n",
       "\n",
       "   FLEX_ESAL  RIGID_ESAL  ATH_100  ATH_PCT  MOTORCYCLE  ADT_HIST_Y  HY_1  \\\n",
       "0        345         450       43       40           5        2016  1090   \n",
       "1        345         450       43       40           5        2016  1090   \n",
       "2         73         102       47       40           0        2016   124   \n",
       "3       1496        2101      101       30           0        2016   632   \n",
       "4        577         728       32       30          34        2016  7404   \n",
       "\n",
       "   HY_2  HY_3  HY_4  HY_5  HY_6  HY_7  HY_8  HY_9  DESGN_YR  AADT_DESGN  \\\n",
       "0  1002   953   822   760   590   590   670   650      2037        1410   \n",
       "1  1002   953   822   760   590   590   670   650      2037        1410   \n",
       "2    97    87   136   150   120   130   120   120      2037         180   \n",
       "3   653  1015  1094   800   720   550   590   510      2037         970   \n",
       "4  6615  4697  5227  5500  5500  5000  5900  6400      2037       12640   \n",
       "\n",
       "   INCRS_FCTR  INCRS_FC_1   DHV  TRUCK_HY_1  TRUCK_HY_2  TRUCK_HY_3  \\\n",
       "0         1.7         402   149         NaN         NaN         NaN   \n",
       "1         1.7         402   149         NaN         NaN         NaN   \n",
       "2         1.7          52    22         NaN         NaN         NaN   \n",
       "3         1.7         278   119         NaN         NaN         NaN   \n",
       "4         2.4        4841  1454         NaN         NaN         NaN   \n",
       "\n",
       "   TRUCK_HY_4  TRUCK_HY_5  TRUCK_HY_6  TRUCK_HY_7  TRUCK_HY_8  TRUCK_HY_9  \\\n",
       "0         NaN         NaN         NaN         NaN         NaN         NaN   \n",
       "1         NaN         NaN         NaN         NaN         NaN         NaN   \n",
       "2         NaN         NaN         NaN         NaN         NaN         NaN   \n",
       "3         NaN         NaN         NaN         NaN         NaN         NaN   \n",
       "4         NaN         NaN         NaN         NaN         NaN         NaN   \n",
       "\n",
       "   HPMSID  HP_VOL_GRP  B_TERM  E_TERM PHY_RDBD  PEAK_LANE  CNTR_PEAK_  \\\n",
       "0     NaN           2     NaN     NaN       KG        NaN         NaN   \n",
       "1     NaN           2     NaN     NaN       KG        NaN         NaN   \n",
       "2     NaN           1     NaN     NaN       KG        NaN         NaN   \n",
       "3     NaN           2     NaN     NaN       KG        NaN         NaN   \n",
       "4     NaN           4     NaN     NaN       KG        NaN         NaN   \n",
       "\n",
       "   RT_TURN_LA  LT_TURN_LA  TRFC_SGNL  PCT_GREEN_  NBR_SGNL  NBR_STOP_S  \\\n",
       "0         NaN         NaN        NaN         NaN       NaN         NaN   \n",
       "1         NaN         NaN        NaN         NaN       NaN         NaN   \n",
       "2         NaN         NaN        NaN         NaN       NaN         NaN   \n",
       "3         NaN         NaN        NaN         NaN       NaN         NaN   \n",
       "4         NaN         NaN        NaN         NaN       NaN         NaN   \n",
       "\n",
       "   ATGRD_OTHR  LANE_WIDTH  WIDE_OBST  WIDE_PTNTL  CURV_CLASS  CURV_CLA_1  \\\n",
       "0         NaN          10        NaN         NaN         NaN         NaN   \n",
       "1         NaN          10        NaN         NaN         NaN         NaN   \n",
       "2         NaN          10        NaN         NaN         NaN         NaN   \n",
       "3         NaN          12        NaN         NaN         NaN         NaN   \n",
       "4         NaN          12        NaN         NaN         NaN         NaN   \n",
       "\n",
       "   CURV_CLA_2  CURV_CLA_3  CURV_CLA_4  CURV_CLA_5  VERT_GRADE  VERT_GRA_1  \\\n",
       "0         NaN         NaN         NaN         NaN         NaN         NaN   \n",
       "1         NaN         NaN         NaN         NaN         NaN         NaN   \n",
       "2         NaN         NaN         NaN         NaN         NaN         NaN   \n",
       "3         NaN         NaN         NaN         NaN         NaN         NaN   \n",
       "4         NaN         NaN         NaN         NaN         NaN         NaN   \n",
       "\n",
       "   VERT_GRA_2  VERT_GRA_3  VERT_GRA_4  VERT_GRA_5  TRRN  PPSD  PSR  PSR_DT  \\\n",
       "0         NaN         NaN         NaN         NaN   NaN   NaN  NaN     NaN   \n",
       "1         NaN         NaN         NaN         NaN   NaN   NaN  NaN     NaN   \n",
       "2         NaN         NaN         NaN         NaN   NaN   NaN  NaN     NaN   \n",
       "3         NaN         NaN         NaN         NaN   NaN   NaN  NaN     NaN   \n",
       "4         NaN         NaN         NaN         NaN   NaN   NaN  NaN     NaN   \n",
       "\n",
       "   RUTTING  FAULT  CRACK_PCT  CRACK_LNGT  YR_LAST_IM  YR_LAST_CN  LAST_OVRLY  \\\n",
       "0      NaN    NaN        NaN         NaN         NaN         NaN         NaN   \n",
       "1      NaN    NaN        NaN         NaN         NaN         NaN         NaN   \n",
       "2      NaN    NaN        NaN         NaN         NaN         NaN         NaN   \n",
       "3      NaN    NaN        NaN         NaN         NaN         NaN         NaN   \n",
       "4      NaN    NaN        NaN         NaN         NaN         NaN         NaN   \n",
       "\n",
       "   PVMT_THICK  PVMT_THI_1  BASE_THCK  CLMT_ZN  SOIL  LEN_SEC  LN_MILES  \\\n",
       "0         NaN         NaN        NaN      NaN   NaN    0.193     0.386   \n",
       "1         NaN         NaN        NaN      NaN   NaN    0.021     0.042   \n",
       "2         NaN         NaN        NaN      NaN   NaN    0.004     0.008   \n",
       "3         NaN         NaN        NaN      NaN   NaN    0.018     0.036   \n",
       "4         NaN         NaN        NaN      NaN   NaN    0.029     0.058   \n",
       "\n",
       "      DVMT  DTRKVMT LOC_ERROR    START_X    START_Y  START_M      MID_X  \\\n",
       "0  194.544   19.493  NO ERROR -97.381448  30.589498    4.764 -97.381062   \n",
       "1   21.168    2.121  NO ERROR -97.386708  30.604109    3.708 -97.386648   \n",
       "2    0.512    0.068  NO ERROR -98.981705  32.003345    9.283 -98.981671   \n",
       "3   12.456    6.228  NO ERROR -97.951377  29.105476   34.630 -97.951248   \n",
       "4  226.171    5.191  NO ERROR -95.374392  29.112675   12.785 -95.374248   \n",
       "\n",
       "       MID_Y     MID_M      END_X      END_Y   END_M  Shape__Len  Crash Count  \\\n",
       "0  30.588129   4.86094 -97.380514  30.586815   4.957    0.002849            0   \n",
       "1  30.603966   3.71850 -97.386587  30.603823   3.729    0.000311            0   \n",
       "2  32.003343   9.28500 -98.981637  32.003341   9.287    0.000068            0   \n",
       "3  29.105542  34.63900 -97.951118  29.105607  34.648    0.000289            0   \n",
       "4  29.112506  12.79950 -95.374104  29.112337  12.814    0.000444            0   \n",
       "\n",
       "   Avg_Death  Avg_Injuries  Avg_Month  FID_2  OBJECTID_1     RTE_NM RTE_PRFX  \\\n",
       "0        0.0           0.0          0   2011        3012  FM0619-KG       FM   \n",
       "1        0.0           0.0          0   2011        3012  FM0619-KG       FM   \n",
       "2        0.0           0.0          0   2019        3020  FM0583-KG       FM   \n",
       "3        0.0           0.0          0   2024        3025  FM0541-KG       FM   \n",
       "4        0.0           0.0          0   2032        3033  FM0523-KG       FM   \n",
       "\n",
       "  RTE_NBR RTE_SFX RDBD_TYPE  GID_1  BEGIN_DFO  END_DFO             ASSET_NM  \\\n",
       "0     619     NaN        KG   3134      0.000    6.696  Maximum Speed Limit   \n",
       "1     619     NaN        KG   3134      0.000    6.696  Maximum Speed Limit   \n",
       "2     583     NaN        KG   3090      1.626   12.843  Maximum Speed Limit   \n",
       "3     541     NaN        KG   3038     34.312   35.337  Maximum Speed Limit   \n",
       "4     523     NaN        KG   3014     12.194   17.693  Maximum Speed Limit   \n",
       "\n",
       "   SPD_LMT  ASSET_ID SYSTEM RTE_DEFN_L  MAX_SPD_LM  ASSET_LN_B  ASSET_LN_E  \\\n",
       "0       60   5577085     On  FM0619-KG          60       0.000       6.696   \n",
       "1       60   5577085     On  FM0619-KG          60       0.000       6.696   \n",
       "2       60   5577094     On  FM0583-KG          60       1.626      12.843   \n",
       "3       55   5577099     On  FM0541-KG          55      34.312      35.337   \n",
       "4       60   5577108     On  FM0523-KG          60      12.194      17.693   \n",
       "\n",
       "  RTE_PRFX_T   Shape__L_1  \n",
       "0         FM  12587.51446  \n",
       "1         FM  12587.51446  \n",
       "2         FM  21357.16631  \n",
       "3         FM   1892.50471  \n",
       "4         FM  10174.89845  "
      ]
     },
     "execution_count": 56,
     "metadata": {},
     "output_type": "execute_result"
    }
   ],
   "source": [
    "df = pd.read_csv('data/Final Dataset.csv', skipinitialspace=True)\n",
    "# df.replace(r'\\s+', np.nan, inplace=True, regex=True)\n",
    "df.head()"
   ]
  },
  {
   "cell_type": "code",
   "execution_count": 57,
   "metadata": {},
   "outputs": [
    {
     "data": {
      "text/plain": [
       "Index(['FID', 'FID_1', 'FID_1_1', 'OBJECTID', 'REC', 'RIA_RTE_ID', 'RTE_GRID',\n",
       "       'GID', 'FRM_DFO', 'TO_DFO', 'C_SEC', 'CON', 'SEC', 'BMP', 'EMP',\n",
       "       'RI_MPT_DAT', 'HWY', 'HSYS', 'HNUM', 'HSUF', 'RDBD_ID', 'FRM_NBR',\n",
       "       'FRM_SUF', 'FRM_NUM', 'FRM_DISP', 'TO_NBR', 'TO_SUF', 'TO_NUM',\n",
       "       'TO_DISP', 'FRM_MKR_DA', 'TO_MKR_DAT', 'DIR_TRAV', 'STE_NAM', 'DI',\n",
       "       'CO', 'CITY', 'MPA', 'UAN', 'UAN_HPMS', 'RU', 'MSA_CNTY', 'MAINT_DIS',\n",
       "       'MNT_SEC', 'PBLC_LAND', 'ADMIN', 'RDWAY_MAIN', 'F_SYSTEM', 'RU_F_SYSTE',\n",
       "       'SEC_NHS', 'SEC_NHS_AP', 'SEC_STR', 'SEC_TRUNK', 'SEC_TRK', 'SEC_EVAC',\n",
       "       'SEC_NFH', 'SEC_STM', 'SEC_TTT', 'SEC_PARK', 'SEC_BIC', 'SEC_ADP',\n",
       "       'SEC_FED_AI', 'MSA_CLS', 'TOP100ID', 'TOP_100_BE', 'TOP_100_EN',\n",
       "       'FRGHT_NTWR', 'HWY_STAT', 'HWY_STAT_D', 'DOTT', 'DCTT', 'CLSR_RESN',\n",
       "       'HWY_NOTE', 'SPD_MAX', 'SPD_MIN', 'ALT_SPD_LM', 'ALT_SPD__1',\n",
       "       'SCHOOL_ZN', 'LOAD_AXLE', 'LOAD_GROSS', 'LOAD_TAND', 'TOLL_NM', 'DBTP',\n",
       "       'PEAK_DRCT_', 'HWY_DES1', 'ACES_CTRL', 'BRDG_STRUC', 'CAUSEWAY',\n",
       "       'TUNNEL', 'MULT_MOD_F', 'MED_TYPE', 'MED_WID', 'HP_MED_W', 'NUM_LANES',\n",
       "       'CLMB_PS_LA', 'ACCEL_DECE', 'HOV_LANES', 'HOV_TYP', 'ROW_MIN',\n",
       "       'ROW_W_USL', 'RB_WID', 'SUR_W', 'S_TYPE_I', 'S_WID_I', 'S_USE_I',\n",
       "       'S_TYPE_O', 'S_WID_O', 'S_USE_O', 'CURB_L', 'CURB_R', 'BASE_TP',\n",
       "       'SRF_TYPE', 'SURF_TREAT', 'SURF_TRE_1', 'SURF_TRE_2', 'TRF_STA_ID',\n",
       "       'ADT_YEAR', 'ADT_CUR', 'ADT_ADJ', 'K_FAC', 'D_FAC', 'TRK_AADT_P',\n",
       "       'PCT_SADT', 'PCT_CADT', 'AADT_TRUCK', 'AADT_SINGL', 'AADT_COMBI',\n",
       "       'TRK_DHV_PC', 'PCT_SDHV', 'PCT_CDHV', 'FLEX_ESAL', 'RIGID_ESAL',\n",
       "       'ATH_100', 'ATH_PCT', 'MOTORCYCLE', 'ADT_HIST_Y', 'HY_1', 'HY_2',\n",
       "       'HY_3', 'HY_4', 'HY_5', 'HY_6', 'HY_7', 'HY_8', 'HY_9', 'DESGN_YR',\n",
       "       'AADT_DESGN', 'INCRS_FCTR', 'INCRS_FC_1', 'DHV', 'TRUCK_HY_1',\n",
       "       'TRUCK_HY_2', 'TRUCK_HY_3', 'TRUCK_HY_4', 'TRUCK_HY_5', 'TRUCK_HY_6',\n",
       "       'TRUCK_HY_7', 'TRUCK_HY_8', 'TRUCK_HY_9', 'HPMSID', 'HP_VOL_GRP',\n",
       "       'B_TERM', 'E_TERM', 'PHY_RDBD', 'PEAK_LANE', 'CNTR_PEAK_', 'RT_TURN_LA',\n",
       "       'LT_TURN_LA', 'TRFC_SGNL', 'PCT_GREEN_', 'NBR_SGNL', 'NBR_STOP_S',\n",
       "       'ATGRD_OTHR', 'LANE_WIDTH', 'WIDE_OBST', 'WIDE_PTNTL', 'CURV_CLASS',\n",
       "       'CURV_CLA_1', 'CURV_CLA_2', 'CURV_CLA_3', 'CURV_CLA_4', 'CURV_CLA_5',\n",
       "       'VERT_GRADE', 'VERT_GRA_1', 'VERT_GRA_2', 'VERT_GRA_3', 'VERT_GRA_4',\n",
       "       'VERT_GRA_5', 'TRRN', 'PPSD', 'PSR', 'PSR_DT', 'RUTTING', 'FAULT',\n",
       "       'CRACK_PCT', 'CRACK_LNGT', 'YR_LAST_IM', 'YR_LAST_CN', 'LAST_OVRLY',\n",
       "       'PVMT_THICK', 'PVMT_THI_1', 'BASE_THCK', 'CLMT_ZN', 'SOIL', 'LEN_SEC',\n",
       "       'LN_MILES', 'DVMT', 'DTRKVMT', 'LOC_ERROR', 'START_X', 'START_Y',\n",
       "       'START_M', 'MID_X', 'MID_Y', 'MID_M', 'END_X', 'END_Y', 'END_M',\n",
       "       'Shape__Len', 'Crash Count', 'Avg_Death', 'Avg_Injuries', 'Avg_Month',\n",
       "       'FID_2', 'OBJECTID_1', 'RTE_NM', 'RTE_PRFX', 'RTE_NBR', 'RTE_SFX',\n",
       "       'RDBD_TYPE', 'GID_1', 'BEGIN_DFO', 'END_DFO', 'ASSET_NM', 'SPD_LMT',\n",
       "       'ASSET_ID', 'SYSTEM', 'RTE_DEFN_L', 'MAX_SPD_LM', 'ASSET_LN_B',\n",
       "       'ASSET_LN_E', 'RTE_PRFX_T', 'Shape__L_1'],\n",
       "      dtype='object')"
      ]
     },
     "execution_count": 57,
     "metadata": {},
     "output_type": "execute_result"
    }
   ],
   "source": [
    "df.columns"
   ]
  },
  {
   "cell_type": "markdown",
   "metadata": {},
   "source": [
    "## Dropping no-information columns\n",
    "\n",
    "I get the feeling that there are a lot of columns with little to no information. We'll identify and filter out the ones that only have one or two unique values, or have a unique value for every data point (except for `FID`, which we'll keep as a unique identifier)."
   ]
  },
  {
   "cell_type": "code",
   "execution_count": 58,
   "metadata": {},
   "outputs": [
    {
     "name": "stdout",
     "output_type": "stream",
     "text": [
      "Total row count: 156451\n",
      "FID_1\t\t156451\n",
      "FID_1_1\t\t156451\n",
      "OBJECTID\t\t156451\n",
      "REC\t\t1\n",
      "RDBD_ID\t\t1\n",
      "SEC_TTT\t\t1\n",
      "SEC_PARK\t\t1\n",
      "TOP_100_BE\t\t1\n",
      "TOP_100_EN\t\t1\n",
      "FRGHT_NTWR\t\t1\n",
      "DCTT\t\t1\n",
      "CLSR_RESN\t\t1\n",
      "HWY_NOTE\t\t1\n",
      "SCHOOL_ZN\t\t1\n",
      "DBTP\t\t1\n",
      "PEAK_DRCT_\t\t1\n",
      "CAUSEWAY\t\t1\n",
      "TUNNEL\t\t1\n",
      "MULT_MOD_F\t\t1\n",
      "ADT_YEAR\t\t1\n",
      "ADT_HIST_Y\t\t1\n",
      "DESGN_YR\t\t1\n",
      "TRUCK_HY_1\t\t1\n",
      "TRUCK_HY_2\t\t1\n",
      "TRUCK_HY_3\t\t1\n",
      "TRUCK_HY_4\t\t1\n",
      "TRUCK_HY_5\t\t1\n",
      "TRUCK_HY_6\t\t1\n",
      "TRUCK_HY_7\t\t1\n",
      "TRUCK_HY_8\t\t1\n",
      "TRUCK_HY_9\t\t1\n",
      "B_TERM\t\t1\n",
      "E_TERM\t\t1\n",
      "PHY_RDBD\t\t1\n",
      "PEAK_LANE\t\t1\n",
      "CNTR_PEAK_\t\t1\n",
      "TRFC_SGNL\t\t1\n",
      "PCT_GREEN_\t\t1\n",
      "NBR_SGNL\t\t1\n",
      "NBR_STOP_S\t\t1\n",
      "ATGRD_OTHR\t\t1\n",
      "WIDE_OBST\t\t1\n",
      "WIDE_PTNTL\t\t1\n",
      "CURV_CLASS\t\t1\n",
      "CURV_CLA_1\t\t1\n",
      "CURV_CLA_2\t\t1\n",
      "CURV_CLA_3\t\t1\n",
      "CURV_CLA_4\t\t1\n",
      "CURV_CLA_5\t\t1\n",
      "VERT_GRADE\t\t1\n",
      "VERT_GRA_1\t\t1\n",
      "VERT_GRA_2\t\t1\n",
      "VERT_GRA_3\t\t1\n",
      "VERT_GRA_4\t\t1\n",
      "VERT_GRA_5\t\t1\n",
      "TRRN\t\t1\n",
      "PPSD\t\t1\n",
      "PSR\t\t1\n",
      "PSR_DT\t\t1\n",
      "RUTTING\t\t1\n",
      "FAULT\t\t1\n",
      "CRACK_PCT\t\t1\n",
      "CRACK_LNGT\t\t1\n",
      "CLMT_ZN\t\t1\n",
      "SOIL\t\t1\n",
      "LOC_ERROR\t\t1\n",
      "Cols filtered: 66\n",
      "['FID_1', 'FID_1_1', 'OBJECTID', 'REC', 'RDBD_ID', 'SEC_TTT', 'SEC_PARK', 'TOP_100_BE', 'TOP_100_EN', 'FRGHT_NTWR', 'DCTT', 'CLSR_RESN', 'HWY_NOTE', 'SCHOOL_ZN', 'DBTP', 'PEAK_DRCT_', 'CAUSEWAY', 'TUNNEL', 'MULT_MOD_F', 'ADT_YEAR', 'ADT_HIST_Y', 'DESGN_YR', 'TRUCK_HY_1', 'TRUCK_HY_2', 'TRUCK_HY_3', 'TRUCK_HY_4', 'TRUCK_HY_5', 'TRUCK_HY_6', 'TRUCK_HY_7', 'TRUCK_HY_8', 'TRUCK_HY_9', 'B_TERM', 'E_TERM', 'PHY_RDBD', 'PEAK_LANE', 'CNTR_PEAK_', 'TRFC_SGNL', 'PCT_GREEN_', 'NBR_SGNL', 'NBR_STOP_S', 'ATGRD_OTHR', 'WIDE_OBST', 'WIDE_PTNTL', 'CURV_CLASS', 'CURV_CLA_1', 'CURV_CLA_2', 'CURV_CLA_3', 'CURV_CLA_4', 'CURV_CLA_5', 'VERT_GRADE', 'VERT_GRA_1', 'VERT_GRA_2', 'VERT_GRA_3', 'VERT_GRA_4', 'VERT_GRA_5', 'TRRN', 'PPSD', 'PSR', 'PSR_DT', 'RUTTING', 'FAULT', 'CRACK_PCT', 'CRACK_LNGT', 'CLMT_ZN', 'SOIL', 'LOC_ERROR']\n"
     ]
    }
   ],
   "source": [
    "print(\"Total row count:\", len(df.index))\n",
    "cols_dropped = []\n",
    "for col in df.columns:\n",
    "    uniquecount = len(df[col].unique())\n",
    "    if ((uniquecount == len(df.index)) or (uniquecount == 1)) and (col != 'FID'):\n",
    "        print('{}\\t\\t{}'.format(col, uniquecount))\n",
    "        cols_dropped.append(col)\n",
    "df.drop(cols_dropped, axis=1, inplace=True)\n",
    "print('Cols filtered:', len(cols_dropped))\n",
    "print(cols_dropped)"
   ]
  },
  {
   "cell_type": "markdown",
   "metadata": {},
   "source": [
    "## Processing each column\n",
    "\n",
    "We need to get each column in a state that's ready for inclusion in this model. This means taking a look at every column to decide if it's worth keeping, converting non-numerial columns to numerical if necessary, and identifying categorical variables for one-hot encoding.\n",
    "\n",
    "One problem: we've got 176 columns."
   ]
  },
  {
   "cell_type": "code",
   "execution_count": 59,
   "metadata": {},
   "outputs": [
    {
     "name": "stdout",
     "output_type": "stream",
     "text": [
      "Columns left: 176\n"
     ]
    },
    {
     "data": {
      "text/plain": [
       "Index(['FID', 'RIA_RTE_ID', 'RTE_GRID', 'GID', 'FRM_DFO', 'TO_DFO', 'C_SEC',\n",
       "       'CON', 'SEC', 'BMP', 'EMP', 'RI_MPT_DAT', 'HWY', 'HSYS', 'HNUM', 'HSUF',\n",
       "       'FRM_NBR', 'FRM_SUF', 'FRM_NUM', 'FRM_DISP', 'TO_NBR', 'TO_SUF',\n",
       "       'TO_NUM', 'TO_DISP', 'FRM_MKR_DA', 'TO_MKR_DAT', 'DIR_TRAV', 'STE_NAM',\n",
       "       'DI', 'CO', 'CITY', 'MPA', 'UAN', 'UAN_HPMS', 'RU', 'MSA_CNTY',\n",
       "       'MAINT_DIS', 'MNT_SEC', 'PBLC_LAND', 'ADMIN', 'RDWAY_MAIN', 'F_SYSTEM',\n",
       "       'RU_F_SYSTE', 'SEC_NHS', 'SEC_NHS_AP', 'SEC_STR', 'SEC_TRUNK',\n",
       "       'SEC_TRK', 'SEC_EVAC', 'SEC_NFH', 'SEC_STM', 'SEC_BIC', 'SEC_ADP',\n",
       "       'SEC_FED_AI', 'MSA_CLS', 'TOP100ID', 'HWY_STAT', 'HWY_STAT_D', 'DOTT',\n",
       "       'SPD_MAX', 'SPD_MIN', 'ALT_SPD_LM', 'ALT_SPD__1', 'LOAD_AXLE',\n",
       "       'LOAD_GROSS', 'LOAD_TAND', 'TOLL_NM', 'HWY_DES1', 'ACES_CTRL',\n",
       "       'BRDG_STRUC', 'MED_TYPE', 'MED_WID', 'HP_MED_W', 'NUM_LANES',\n",
       "       'CLMB_PS_LA', 'ACCEL_DECE', 'HOV_LANES', 'HOV_TYP', 'ROW_MIN',\n",
       "       'ROW_W_USL', 'RB_WID', 'SUR_W', 'S_TYPE_I', 'S_WID_I', 'S_USE_I',\n",
       "       'S_TYPE_O', 'S_WID_O', 'S_USE_O', 'CURB_L', 'CURB_R', 'BASE_TP',\n",
       "       'SRF_TYPE', 'SURF_TREAT', 'SURF_TRE_1', 'SURF_TRE_2', 'TRF_STA_ID',\n",
       "       'ADT_CUR', 'ADT_ADJ', 'K_FAC', 'D_FAC', 'TRK_AADT_P', 'PCT_SADT',\n",
       "       'PCT_CADT', 'AADT_TRUCK', 'AADT_SINGL', 'AADT_COMBI', 'TRK_DHV_PC',\n",
       "       'PCT_SDHV', 'PCT_CDHV', 'FLEX_ESAL', 'RIGID_ESAL', 'ATH_100', 'ATH_PCT',\n",
       "       'MOTORCYCLE', 'HY_1', 'HY_2', 'HY_3', 'HY_4', 'HY_5', 'HY_6', 'HY_7',\n",
       "       'HY_8', 'HY_9', 'AADT_DESGN', 'INCRS_FCTR', 'INCRS_FC_1', 'DHV',\n",
       "       'HPMSID', 'HP_VOL_GRP', 'RT_TURN_LA', 'LT_TURN_LA', 'LANE_WIDTH',\n",
       "       'YR_LAST_IM', 'YR_LAST_CN', 'LAST_OVRLY', 'PVMT_THICK', 'PVMT_THI_1',\n",
       "       'BASE_THCK', 'LEN_SEC', 'LN_MILES', 'DVMT', 'DTRKVMT', 'START_X',\n",
       "       'START_Y', 'START_M', 'MID_X', 'MID_Y', 'MID_M', 'END_X', 'END_Y',\n",
       "       'END_M', 'Shape__Len', 'Crash Count', 'Avg_Death', 'Avg_Injuries',\n",
       "       'Avg_Month', 'FID_2', 'OBJECTID_1', 'RTE_NM', 'RTE_PRFX', 'RTE_NBR',\n",
       "       'RTE_SFX', 'RDBD_TYPE', 'GID_1', 'BEGIN_DFO', 'END_DFO', 'ASSET_NM',\n",
       "       'SPD_LMT', 'ASSET_ID', 'SYSTEM', 'RTE_DEFN_L', 'MAX_SPD_LM',\n",
       "       'ASSET_LN_B', 'ASSET_LN_E', 'RTE_PRFX_T', 'Shape__L_1'],\n",
       "      dtype='object')"
      ]
     },
     "execution_count": 59,
     "metadata": {},
     "output_type": "execute_result"
    }
   ],
   "source": [
    "print('Columns left:', len(df.columns))\n",
    "df.columns"
   ]
  },
  {
   "cell_type": "code",
   "execution_count": 60,
   "metadata": {},
   "outputs": [
    {
     "data": {
      "text/plain": [
       "FID               int64\n",
       "RIA_RTE_ID       object\n",
       "RTE_GRID          int64\n",
       "GID               int64\n",
       "FRM_DFO         float64\n",
       "TO_DFO          float64\n",
       "C_SEC            object\n",
       "CON             float64\n",
       "SEC               int64\n",
       "BMP             float64\n",
       "EMP             float64\n",
       "RI_MPT_DAT        int64\n",
       "HWY              object\n",
       "HSYS             object\n",
       "HNUM             object\n",
       "HSUF             object\n",
       "FRM_NBR           int64\n",
       "FRM_SUF          object\n",
       "FRM_NUM          object\n",
       "FRM_DISP        float64\n",
       "TO_NBR            int64\n",
       "TO_SUF           object\n",
       "TO_NUM           object\n",
       "TO_DISP         float64\n",
       "FRM_MKR_DA        int64\n",
       "TO_MKR_DAT        int64\n",
       "DIR_TRAV          int64\n",
       "STE_NAM          object\n",
       "DI                int64\n",
       "CO                int64\n",
       "CITY              int64\n",
       "MPA               int64\n",
       "UAN               int64\n",
       "UAN_HPMS          int64\n",
       "RU                int64\n",
       "MSA_CNTY          int64\n",
       "MAINT_DIS         int64\n",
       "MNT_SEC           int64\n",
       "PBLC_LAND       float64\n",
       "ADMIN             int64\n",
       "RDWAY_MAIN        int64\n",
       "F_SYSTEM          int64\n",
       "RU_F_SYSTE       object\n",
       "SEC_NHS           int64\n",
       "SEC_NHS_AP      float64\n",
       "SEC_STR           int64\n",
       "SEC_TRUNK         int64\n",
       "SEC_TRK           int64\n",
       "SEC_EVAC          int64\n",
       "SEC_NFH           int64\n",
       "SEC_STM           int64\n",
       "SEC_BIC           int64\n",
       "SEC_ADP           int64\n",
       "SEC_FED_AI        int64\n",
       "MSA_CLS           int64\n",
       "TOP100ID        float64\n",
       "HWY_STAT          int64\n",
       "HWY_STAT_D        int64\n",
       "DOTT              int64\n",
       "SPD_MAX           int64\n",
       "SPD_MIN           int64\n",
       "ALT_SPD_LM      float64\n",
       "ALT_SPD__1      float64\n",
       "LOAD_AXLE         int64\n",
       "LOAD_GROSS        int64\n",
       "LOAD_TAND         int64\n",
       "TOLL_NM          object\n",
       "HWY_DES1          int64\n",
       "ACES_CTRL         int64\n",
       "BRDG_STRUC       object\n",
       "MED_TYPE          int64\n",
       "MED_WID           int64\n",
       "HP_MED_W          int64\n",
       "NUM_LANES         int64\n",
       "CLMB_PS_LA      float64\n",
       "ACCEL_DECE        int64\n",
       "HOV_LANES       float64\n",
       "HOV_TYP           int64\n",
       "ROW_MIN           int64\n",
       "ROW_W_USL         int64\n",
       "RB_WID            int64\n",
       "SUR_W             int64\n",
       "S_TYPE_I          int64\n",
       "S_WID_I           int64\n",
       "S_USE_I           int64\n",
       "S_TYPE_O          int64\n",
       "S_WID_O           int64\n",
       "S_USE_O           int64\n",
       "CURB_L            int64\n",
       "CURB_R            int64\n",
       "BASE_TP           int64\n",
       "SRF_TYPE          int64\n",
       "SURF_TREAT        int64\n",
       "SURF_TRE_1      float64\n",
       "SURF_TRE_2      float64\n",
       "TRF_STA_ID       object\n",
       "ADT_CUR           int64\n",
       "ADT_ADJ           int64\n",
       "K_FAC           float64\n",
       "D_FAC             int64\n",
       "TRK_AADT_P      float64\n",
       "PCT_SADT        float64\n",
       "PCT_CADT        float64\n",
       "AADT_TRUCK        int64\n",
       "AADT_SINGL        int64\n",
       "AADT_COMBI        int64\n",
       "TRK_DHV_PC      float64\n",
       "PCT_SDHV        float64\n",
       "PCT_CDHV        float64\n",
       "FLEX_ESAL         int64\n",
       "RIGID_ESAL        int64\n",
       "ATH_100           int64\n",
       "ATH_PCT           int64\n",
       "MOTORCYCLE        int64\n",
       "HY_1              int64\n",
       "HY_2              int64\n",
       "HY_3              int64\n",
       "HY_4              int64\n",
       "HY_5              int64\n",
       "HY_6              int64\n",
       "HY_7              int64\n",
       "HY_8              int64\n",
       "HY_9              int64\n",
       "AADT_DESGN        int64\n",
       "INCRS_FCTR      float64\n",
       "INCRS_FC_1        int64\n",
       "DHV               int64\n",
       "HPMSID          float64\n",
       "HP_VOL_GRP        int64\n",
       "RT_TURN_LA      float64\n",
       "LT_TURN_LA      float64\n",
       "LANE_WIDTH        int64\n",
       "YR_LAST_IM      float64\n",
       "YR_LAST_CN      float64\n",
       "LAST_OVRLY      float64\n",
       "PVMT_THICK      float64\n",
       "PVMT_THI_1      float64\n",
       "BASE_THCK       float64\n",
       "LEN_SEC         float64\n",
       "LN_MILES        float64\n",
       "DVMT            float64\n",
       "DTRKVMT         float64\n",
       "START_X         float64\n",
       "START_Y         float64\n",
       "START_M         float64\n",
       "MID_X           float64\n",
       "MID_Y           float64\n",
       "MID_M           float64\n",
       "END_X           float64\n",
       "END_Y           float64\n",
       "END_M           float64\n",
       "Shape__Len      float64\n",
       "Crash Count       int64\n",
       "Avg_Death       float64\n",
       "Avg_Injuries    float64\n",
       "Avg_Month         int64\n",
       "FID_2             int64\n",
       "OBJECTID_1        int64\n",
       "RTE_NM           object\n",
       "RTE_PRFX         object\n",
       "RTE_NBR          object\n",
       "RTE_SFX          object\n",
       "RDBD_TYPE        object\n",
       "GID_1             int64\n",
       "BEGIN_DFO       float64\n",
       "END_DFO         float64\n",
       "ASSET_NM         object\n",
       "SPD_LMT           int64\n",
       "ASSET_ID          int64\n",
       "SYSTEM           object\n",
       "RTE_DEFN_L       object\n",
       "MAX_SPD_LM        int64\n",
       "ASSET_LN_B      float64\n",
       "ASSET_LN_E      float64\n",
       "RTE_PRFX_T       object\n",
       "Shape__L_1      float64\n",
       "dtype: object"
      ]
     },
     "execution_count": 60,
     "metadata": {},
     "output_type": "execute_result"
    }
   ],
   "source": [
    "df.dtypes"
   ]
  },
  {
   "cell_type": "markdown",
   "metadata": {},
   "source": [
    "### TEMP: Reducing columns of analysis\n",
    "\n",
    "Let's assume that columns that `pandas` has interpreted as floats can be assumed to be important and categorical. (It seems that `pandas` needs to see both decimal points and some variety in inputs to determine that a column is a float.) That leaves us with 140 columns to evaluate."
   ]
  },
  {
   "cell_type": "code",
   "execution_count": 68,
   "metadata": {},
   "outputs": [
    {
     "name": "stdout",
     "output_type": "stream",
     "text": [
      "Columns not read as float: 122\n"
     ]
    },
    {
     "data": {
      "text/plain": [
       "FID             int64\n",
       "RIA_RTE_ID     object\n",
       "RTE_GRID        int64\n",
       "GID             int64\n",
       "C_SEC          object\n",
       "SEC             int64\n",
       "RI_MPT_DAT      int64\n",
       "HWY            object\n",
       "HSYS           object\n",
       "HNUM           object\n",
       "HSUF           object\n",
       "FRM_NBR         int64\n",
       "FRM_SUF        object\n",
       "FRM_NUM        object\n",
       "TO_NBR          int64\n",
       "TO_SUF         object\n",
       "TO_NUM         object\n",
       "FRM_MKR_DA      int64\n",
       "TO_MKR_DAT      int64\n",
       "DIR_TRAV        int64\n",
       "STE_NAM        object\n",
       "DI              int64\n",
       "CO              int64\n",
       "CITY            int64\n",
       "MPA             int64\n",
       "UAN             int64\n",
       "UAN_HPMS        int64\n",
       "RU              int64\n",
       "MSA_CNTY        int64\n",
       "MAINT_DIS       int64\n",
       "MNT_SEC         int64\n",
       "ADMIN           int64\n",
       "RDWAY_MAIN      int64\n",
       "F_SYSTEM        int64\n",
       "RU_F_SYSTE     object\n",
       "SEC_NHS         int64\n",
       "SEC_STR         int64\n",
       "SEC_TRUNK       int64\n",
       "SEC_TRK         int64\n",
       "SEC_EVAC        int64\n",
       "SEC_NFH         int64\n",
       "SEC_STM         int64\n",
       "SEC_BIC         int64\n",
       "SEC_ADP         int64\n",
       "SEC_FED_AI      int64\n",
       "MSA_CLS         int64\n",
       "HWY_STAT        int64\n",
       "HWY_STAT_D      int64\n",
       "DOTT            int64\n",
       "SPD_MAX         int64\n",
       "SPD_MIN         int64\n",
       "LOAD_AXLE       int64\n",
       "LOAD_GROSS      int64\n",
       "LOAD_TAND       int64\n",
       "TOLL_NM        object\n",
       "HWY_DES1        int64\n",
       "ACES_CTRL       int64\n",
       "BRDG_STRUC     object\n",
       "MED_TYPE        int64\n",
       "MED_WID         int64\n",
       "HP_MED_W        int64\n",
       "NUM_LANES       int64\n",
       "ACCEL_DECE      int64\n",
       "HOV_TYP         int64\n",
       "ROW_MIN         int64\n",
       "ROW_W_USL       int64\n",
       "RB_WID          int64\n",
       "SUR_W           int64\n",
       "S_TYPE_I        int64\n",
       "S_WID_I         int64\n",
       "S_USE_I         int64\n",
       "S_TYPE_O        int64\n",
       "S_WID_O         int64\n",
       "S_USE_O         int64\n",
       "CURB_L          int64\n",
       "CURB_R          int64\n",
       "BASE_TP         int64\n",
       "SRF_TYPE        int64\n",
       "SURF_TREAT      int64\n",
       "TRF_STA_ID     object\n",
       "ADT_CUR         int64\n",
       "ADT_ADJ         int64\n",
       "D_FAC           int64\n",
       "AADT_TRUCK      int64\n",
       "AADT_SINGL      int64\n",
       "AADT_COMBI      int64\n",
       "FLEX_ESAL       int64\n",
       "RIGID_ESAL      int64\n",
       "ATH_100         int64\n",
       "ATH_PCT         int64\n",
       "MOTORCYCLE      int64\n",
       "HY_1            int64\n",
       "HY_2            int64\n",
       "HY_3            int64\n",
       "HY_4            int64\n",
       "HY_5            int64\n",
       "HY_6            int64\n",
       "HY_7            int64\n",
       "HY_8            int64\n",
       "HY_9            int64\n",
       "AADT_DESGN      int64\n",
       "INCRS_FC_1      int64\n",
       "DHV             int64\n",
       "HP_VOL_GRP      int64\n",
       "LANE_WIDTH      int64\n",
       "Crash Count     int64\n",
       "Avg_Month       int64\n",
       "FID_2           int64\n",
       "OBJECTID_1      int64\n",
       "RTE_NM         object\n",
       "RTE_PRFX       object\n",
       "RTE_NBR        object\n",
       "RTE_SFX        object\n",
       "RDBD_TYPE      object\n",
       "GID_1           int64\n",
       "ASSET_NM       object\n",
       "SPD_LMT         int64\n",
       "ASSET_ID        int64\n",
       "SYSTEM         object\n",
       "RTE_DEFN_L     object\n",
       "MAX_SPD_LM      int64\n",
       "RTE_PRFX_T     object\n",
       "dtype: object"
      ]
     },
     "execution_count": 68,
     "metadata": {},
     "output_type": "execute_result"
    }
   ],
   "source": [
    "print('Columns not read as float:', len(df.dtypes[df.dtypes != np.float64]))\n",
    "df.dtypes[df.dtypes != np.float64]"
   ]
  },
  {
   "cell_type": "markdown",
   "metadata": {},
   "source": [
    "### TEMP: Checking and removing non-numerical columns\n",
    "\n",
    "Non-numerical columns are likely to be some form of ID and therefore possibly unusable. Let's check each one and pick which ones we want to keep.\n",
    "\n",
    "If there are a lot of unique values for this nonnumerical column (say, more than 100), that suggests that it's an ID of some sort and safe to remove. "
   ]
  },
  {
   "cell_type": "code",
   "execution_count": 75,
   "metadata": {},
   "outputs": [
    {
     "name": "stdout",
     "output_type": "stream",
     "text": [
      "Non-numerical columns: 24\n",
      "RIA_RTE_ID\t\t4586\n",
      "\n",
      "C_SEC\t\t8904\n",
      "\n",
      "HWY\t\t4586\n",
      "\n",
      "HSYS\t\t19\n",
      "['FM' 'BU' 'BS' 'BI' 'BF' 'RM' 'SH' 'IH' 'PR' 'PA']\n",
      "\n",
      "HNUM\t\t4002\n",
      "\n",
      "HSUF\t\t26\n",
      "[nan 'J' 'B' 'U' 'F' 'S' 'E' 'R' 'V' 'H']\n",
      "\n",
      "FRM_SUF\t\t4\n",
      "[nan 'A' 'C' 'B']\n",
      "\n",
      "FRM_NUM\t\t1027\n",
      "\n",
      "TO_SUF\t\t4\n",
      "[nan 'A' 'C' 'B']\n",
      "\n",
      "TO_NUM\t\t1030\n",
      "\n",
      "STE_NAM\t\t29\n",
      "[nan \"NAO'CONNOR\" 'NAWURZBACH' 'NAJaycee' 'NLoopNA' 'NADeltaNA' 'NACampNA'\n",
      " 'NAIsland' 'NAMiddle IslandNA' 'WGrande']\n",
      "\n",
      "RU_F_SYSTE\t\t16\n",
      "['R5' 'R6' 'U4' 'R4' 'U5' 'U3' 'R3' 'U6' 'R7' 'U2']\n",
      "\n",
      "TOLL_NM\t\t24\n",
      "[nan 'IH 45 North (Gulf Freeway) HOV/HOT Lane' 'North Tarrant Express'\n",
      " 'US 59 (Southwest Freeway) HOV/HOT Lane'\n",
      " 'US 59 (Eastex Freeway) HOV/HOT Lane' 'LBJ East' 'LBJ Managed Lanes'\n",
      " '35Express' 'IH 45 South (Gulf Freeway ) HOV/HOT Lane'\n",
      " 'US 290 (Northwest Freeway) HOV/HOT Lane']\n",
      "\n",
      "BRDG_STRUC\t\t838\n",
      "\n",
      "TRF_STA_ID\t\t30900\n",
      "\n",
      "RTE_NM\t\t4558\n",
      "\n",
      "RTE_PRFX\t\t20\n",
      "['FM' nan 'BU' 'BS' 'BI' 'BF' 'RM' 'SH' 'IH' 'PR']\n",
      "\n",
      "RTE_NBR\t\t3981\n",
      "\n",
      "RTE_SFX\t\t26\n",
      "[nan 'B' 'U' 'F' 'S' 'J' 'E' 'R' 'V' 'H']\n",
      "\n",
      "RDBD_TYPE\t\t2\n",
      "['KG' nan]\n",
      "\n",
      "ASSET_NM\t\t2\n",
      "['Maximum Speed Limit' nan]\n",
      "\n",
      "SYSTEM\t\t2\n",
      "['On' nan]\n",
      "\n",
      "RTE_DEFN_L\t\t4558\n",
      "\n",
      "RTE_PRFX_T\t\t20\n",
      "['FM' nan 'BU' 'BS' 'BI' 'BF' 'RM' 'SH' 'IH' 'PR']\n",
      "\n"
     ]
    }
   ],
   "source": [
    "nonnumcol = df.dtypes[df.dtypes == np.object]\n",
    "print('Non-numerical columns:', len(nonnumcol))\n",
    "for col in nonnumcol.index:\n",
    "    uniques = df[col].unique()\n",
    "    print('{}\\t\\t{}'.format(col,len(uniques)))\n",
    "    if len(uniques)<100:\n",
    "        print(uniques[0:10])\n",
    "    print()"
   ]
  },
  {
   "cell_type": "markdown",
   "metadata": {},
   "source": [
    "Cross-referencing with column descriptions, `HSYS` seems to be the only one worth keeping."
   ]
  },
  {
   "cell_type": "code",
   "execution_count": null,
   "metadata": {},
   "outputs": [],
   "source": [
    "objcolstodel = list(nonnumcol.index)\n",
    "objcolstodel.remove('HSYS')\n",
    "cols_dropped += objcolstodel"
   ]
  },
  {
   "cell_type": "code",
   "execution_count": 323,
   "metadata": {},
   "outputs": [],
   "source": [
    "df.drop(objcolstodel, axis=1, inplace=True)"
   ]
  },
  {
   "cell_type": "code",
   "execution_count": null,
   "metadata": {},
   "outputs": [],
   "source": [
    "cols2onehot = ['HSYS']"
   ]
  },
  {
   "cell_type": "markdown",
   "metadata": {},
   "source": [
    "### TEMP: Checking and removing integer columns\n",
    "\n",
    "We've narrowed it down to about 100 columns. There's no easy way to differentiate them so we'll look at each one individually."
   ]
  },
  {
   "cell_type": "code",
   "execution_count": 94,
   "metadata": {},
   "outputs": [
    {
     "name": "stdout",
     "output_type": "stream",
     "text": [
      "Integer columns: 98\n"
     ]
    }
   ],
   "source": [
    "cols = list(df.dtypes[df.dtypes == np.int64].index)\n",
    "print('Integer columns:', len(cols))"
   ]
  },
  {
   "cell_type": "code",
   "execution_count": 197,
   "metadata": {},
   "outputs": [],
   "source": [
    "def check_col(colname):\n",
    "    uniques = df[colname].unique()\n",
    "    print('{}\\t\\t{}'.format(colname,len(uniques)))\n",
    "    print(uniques[0:10])\n",
    "\n",
    "def drop_col(colname):\n",
    "    df.drop(colname, axis=1, inplace=True)\n",
    "    cols_dropped.append(colname)"
   ]
  },
  {
   "cell_type": "code",
   "execution_count": 102,
   "metadata": {},
   "outputs": [
    {
     "name": "stdout",
     "output_type": "stream",
     "text": [
      "FID\t\t156451\n",
      "[0 1 2 3 4 5 6 7 8 9]\n"
     ]
    }
   ],
   "source": [
    "check_col(cols[0])"
   ]
  },
  {
   "cell_type": "markdown",
   "metadata": {},
   "source": [
    "ID for each data point. Keep."
   ]
  },
  {
   "cell_type": "code",
   "execution_count": null,
   "metadata": {},
   "outputs": [],
   "source": [
    "check_col(cols[1])"
   ]
  },
  {
   "cell_type": "markdown",
   "metadata": {},
   "source": [
    "Don't know what this is. Values look very similar. Discard."
   ]
  },
  {
   "cell_type": "code",
   "execution_count": 113,
   "metadata": {},
   "outputs": [],
   "source": [
    "drop_col(cols[1])"
   ]
  },
  {
   "cell_type": "code",
   "execution_count": 116,
   "metadata": {},
   "outputs": [
    {
     "name": "stdout",
     "output_type": "stream",
     "text": [
      "GID\t\t5563\n",
      "[3134 3090 3038 3014 3145 3075 3168 3139 3138 3005]\n"
     ]
    }
   ],
   "source": [
    "check_col(cols[2])"
   ]
  },
  {
   "cell_type": "code",
   "execution_count": 117,
   "metadata": {},
   "outputs": [],
   "source": [
    "drop_col(cols[2])"
   ]
  },
  {
   "cell_type": "code",
   "execution_count": 118,
   "metadata": {},
   "outputs": [
    {
     "name": "stdout",
     "output_type": "stream",
     "text": [
      "SEC\t\t25\n",
      "[ 3  2  9  1  4 11  5  6 15 14]\n"
     ]
    }
   ],
   "source": [
    "check_col(cols[3])"
   ]
  },
  {
   "cell_type": "markdown",
   "metadata": {},
   "source": [
    "Notes don't suggest that SEC has any real meaning. Discard."
   ]
  },
  {
   "cell_type": "code",
   "execution_count": 120,
   "metadata": {},
   "outputs": [],
   "source": [
    "drop_col(cols[3])"
   ]
  },
  {
   "cell_type": "code",
   "execution_count": 121,
   "metadata": {},
   "outputs": [
    {
     "name": "stdout",
     "output_type": "stream",
     "text": [
      "RI_MPT_DAT\t\t25\n",
      "[201505 201710 201711 201701 201801 201704 201705 201802 201712 201804]\n"
     ]
    }
   ],
   "source": [
    "check_col(cols[4])"
   ]
  },
  {
   "cell_type": "code",
   "execution_count": 122,
   "metadata": {},
   "outputs": [],
   "source": [
    "drop_col(cols[4])"
   ]
  },
  {
   "cell_type": "code",
   "execution_count": 123,
   "metadata": {},
   "outputs": [
    {
     "name": "stdout",
     "output_type": "stream",
     "text": [
      "FRM_NBR\t\t908\n",
      "[418 416 324 556 516 550 470 548 512 652]\n"
     ]
    }
   ],
   "source": [
    "check_col(cols[5])"
   ]
  },
  {
   "cell_type": "code",
   "execution_count": 124,
   "metadata": {},
   "outputs": [],
   "source": [
    "drop_col(cols[5])"
   ]
  },
  {
   "cell_type": "code",
   "execution_count": 125,
   "metadata": {},
   "outputs": [
    {
     "name": "stdout",
     "output_type": "stream",
     "text": [
      "TO_NBR\t\t911\n",
      "[418 416 324 556 516 550 472 548 514 654]\n"
     ]
    }
   ],
   "source": [
    "check_col(cols[6])"
   ]
  },
  {
   "cell_type": "code",
   "execution_count": 126,
   "metadata": {},
   "outputs": [],
   "source": [
    "drop_col(cols[6])"
   ]
  },
  {
   "cell_type": "code",
   "execution_count": 127,
   "metadata": {},
   "outputs": [
    {
     "name": "stdout",
     "output_type": "stream",
     "text": [
      "FRM_MKR_DA\t\t168\n",
      "[20150512 20180430 20161116 20160407 20160302 20160725 20170406 20170428\n",
      " 20170508 20171223]\n"
     ]
    }
   ],
   "source": [
    "check_col(cols[7])"
   ]
  },
  {
   "cell_type": "code",
   "execution_count": 128,
   "metadata": {},
   "outputs": [],
   "source": [
    "drop_col(cols[7])"
   ]
  },
  {
   "cell_type": "code",
   "execution_count": 129,
   "metadata": {},
   "outputs": [
    {
     "name": "stdout",
     "output_type": "stream",
     "text": [
      "TO_MKR_DAT\t\t169\n",
      "[20150512 20180430 20161116 20160407 20160302 20160725 20170406 20170428\n",
      " 20170508 20171223]\n"
     ]
    }
   ],
   "source": [
    "check_col(cols[8])"
   ]
  },
  {
   "cell_type": "code",
   "execution_count": 130,
   "metadata": {},
   "outputs": [],
   "source": [
    "drop_col(cols[8])"
   ]
  },
  {
   "cell_type": "code",
   "execution_count": 131,
   "metadata": {},
   "outputs": [
    {
     "name": "stdout",
     "output_type": "stream",
     "text": [
      "DIR_TRAV\t\t4\n",
      "[1 4 0 3]\n"
     ]
    }
   ],
   "source": [
    "check_col(cols[9])"
   ]
  },
  {
   "cell_type": "markdown",
   "metadata": {},
   "source": [
    "The values here are outside the range detailed by supporting documentation. Discard."
   ]
  },
  {
   "cell_type": "code",
   "execution_count": 132,
   "metadata": {},
   "outputs": [],
   "source": [
    "drop_col(cols[9])"
   ]
  },
  {
   "cell_type": "code",
   "execution_count": 133,
   "metadata": {},
   "outputs": [
    {
     "name": "stdout",
     "output_type": "stream",
     "text": [
      "DI\t\t25\n",
      "[14 23 15 12 16 21 22 25 18 20]\n"
     ]
    }
   ],
   "source": [
    "check_col(cols[10])"
   ]
  },
  {
   "cell_type": "markdown",
   "metadata": {},
   "source": [
    "Says which district the data's from. Unlikely to be predictive and would add many columns via one-hot encoding. Discard."
   ]
  },
  {
   "cell_type": "code",
   "execution_count": 198,
   "metadata": {},
   "outputs": [],
   "source": [
    "drop_col(cols[10])"
   ]
  },
  {
   "cell_type": "code",
   "execution_count": 134,
   "metadata": {},
   "outputs": [
    {
     "name": "stdout",
     "output_type": "stream",
     "text": [
      "CO\t\t254\n",
      "[246  25 247  20 205 167 125 142 162  13]\n"
     ]
    }
   ],
   "source": [
    "check_col(cols[11])"
   ]
  },
  {
   "cell_type": "markdown",
   "metadata": {},
   "source": [
    "Same as above."
   ]
  },
  {
   "cell_type": "code",
   "execution_count": 199,
   "metadata": {},
   "outputs": [],
   "source": [
    "drop_col(cols[11])"
   ]
  },
  {
   "cell_type": "code",
   "execution_count": 135,
   "metadata": {},
   "outputs": [
    {
     "name": "stdout",
     "output_type": "stream",
     "text": [
      "CITY\t\t1139\n",
      "[41900     0 30750 33750 11800  1200 29300 16450 19350 25150]\n"
     ]
    }
   ],
   "source": [
    "check_col(cols[12])"
   ]
  },
  {
   "cell_type": "markdown",
   "metadata": {},
   "source": [
    "Same as above."
   ]
  },
  {
   "cell_type": "code",
   "execution_count": 200,
   "metadata": {},
   "outputs": [],
   "source": [
    "drop_col(cols[12])"
   ]
  },
  {
   "cell_type": "code",
   "execution_count": 136,
   "metadata": {},
   "outputs": [
    {
     "name": "stdout",
     "output_type": "stream",
     "text": [
      "MPA\t\t26\n",
      "[ 90   0  15 282 211 277 166 363 135 230]\n"
     ]
    }
   ],
   "source": [
    "check_col(cols[13])"
   ]
  },
  {
   "cell_type": "markdown",
   "metadata": {},
   "source": [
    "Same as above."
   ]
  },
  {
   "cell_type": "code",
   "execution_count": 201,
   "metadata": {},
   "outputs": [],
   "source": [
    "drop_col(cols[13])"
   ]
  },
  {
   "cell_type": "code",
   "execution_count": 137,
   "metadata": {},
   "outputs": [
    {
     "name": "stdout",
     "output_type": "stream",
     "text": [
      "UAN\t\t187\n",
      "[  0 459 250  15 282 465 230 669 139 616]\n"
     ]
    }
   ],
   "source": [
    "check_col(cols[14])"
   ]
  },
  {
   "cell_type": "markdown",
   "metadata": {},
   "source": [
    "Same as above."
   ]
  },
  {
   "cell_type": "code",
   "execution_count": null,
   "metadata": {},
   "outputs": [],
   "source": [
    "drop_col(cols[14])"
   ]
  },
  {
   "cell_type": "code",
   "execution_count": 139,
   "metadata": {},
   "outputs": [
    {
     "name": "stdout",
     "output_type": "stream",
     "text": [
      "UAN_HPMS\t\t187\n",
      "[    0 46801 87220 40429 22042 52687 52390 39781 70993  9973]\n"
     ]
    }
   ],
   "source": [
    "check_col(cols[15])"
   ]
  },
  {
   "cell_type": "markdown",
   "metadata": {},
   "source": [
    "Same as above."
   ]
  },
  {
   "cell_type": "code",
   "execution_count": 203,
   "metadata": {},
   "outputs": [],
   "source": [
    "drop_col(cols[15])"
   ]
  },
  {
   "cell_type": "code",
   "execution_count": 141,
   "metadata": {},
   "outputs": [
    {
     "name": "stdout",
     "output_type": "stream",
     "text": [
      "RU\t\t4\n",
      "[1 3 4 2]\n"
     ]
    }
   ],
   "source": [
    "check_col(cols[16])"
   ]
  },
  {
   "cell_type": "markdown",
   "metadata": {},
   "source": [
    "A good feature that determines how urbanized a city is. And continuous. Kept."
   ]
  },
  {
   "cell_type": "code",
   "execution_count": 143,
   "metadata": {},
   "outputs": [
    {
     "name": "stdout",
     "output_type": "stream",
     "text": [
      "MSA_CNTY\t\t2\n",
      "[1 0]\n"
     ]
    }
   ],
   "source": [
    "check_col(cols[17])"
   ]
  },
  {
   "cell_type": "markdown",
   "metadata": {},
   "source": [
    "Categorical. Whether a road is in an MSA county probably isn't super predictive, but no harm in keeping it. Already one-hot too."
   ]
  },
  {
   "cell_type": "code",
   "execution_count": 144,
   "metadata": {},
   "outputs": [
    {
     "name": "stdout",
     "output_type": "stream",
     "text": [
      "MAINT_DIS\t\t26\n",
      "[14 23 15 12 16 21 22 25 18 20]\n"
     ]
    }
   ],
   "source": [
    "check_col(cols[18])"
   ]
  },
  {
   "cell_type": "markdown",
   "metadata": {},
   "source": [
    "Maintenance district would add many columns for one-hot and is unlikely to be predictive. Discard."
   ]
  },
  {
   "cell_type": "code",
   "execution_count": 204,
   "metadata": {},
   "outputs": [],
   "source": [
    "drop_col(cols[18])"
   ]
  },
  {
   "cell_type": "code",
   "execution_count": 145,
   "metadata": {},
   "outputs": [
    {
     "name": "stdout",
     "output_type": "stream",
     "text": [
      "MNT_SEC\t\t23\n",
      "[13  1  4  2 10  7  3 14  6  9]\n"
     ]
    }
   ],
   "source": [
    "check_col(cols[19])"
   ]
  },
  {
   "cell_type": "markdown",
   "metadata": {},
   "source": [
    "Same as above."
   ]
  },
  {
   "cell_type": "code",
   "execution_count": 205,
   "metadata": {},
   "outputs": [],
   "source": [
    "drop_col(cols[19])"
   ]
  },
  {
   "cell_type": "code",
   "execution_count": 146,
   "metadata": {},
   "outputs": [
    {
     "name": "stdout",
     "output_type": "stream",
     "text": [
      "ADMIN\t\t2\n",
      "[1 0]\n"
     ]
    }
   ],
   "source": [
    "check_col(cols[20])"
   ]
  },
  {
   "cell_type": "markdown",
   "metadata": {},
   "source": [
    "Already one-hot. Keep."
   ]
  },
  {
   "cell_type": "code",
   "execution_count": 170,
   "metadata": {},
   "outputs": [
    {
     "name": "stdout",
     "output_type": "stream",
     "text": [
      "RDWAY_MAIN\t\t4\n",
      "[ 1  0 16  4]\n"
     ]
    }
   ],
   "source": [
    "check_col(cols[21])"
   ]
  },
  {
   "cell_type": "markdown",
   "metadata": {},
   "source": [
    "No documentation for this. Discard."
   ]
  },
  {
   "cell_type": "code",
   "execution_count": 171,
   "metadata": {},
   "outputs": [],
   "source": [
    "drop_col(cols[21])"
   ]
  },
  {
   "cell_type": "code",
   "execution_count": 172,
   "metadata": {},
   "outputs": [
    {
     "name": "stdout",
     "output_type": "stream",
     "text": [
      "F_SYSTEM\t\t8\n",
      "[5 6 4 3 7 2 1 0]\n"
     ]
    }
   ],
   "source": [
    "check_col(cols[22])"
   ]
  },
  {
   "cell_type": "markdown",
   "metadata": {},
   "source": [
    "Same as above."
   ]
  },
  {
   "cell_type": "code",
   "execution_count": 173,
   "metadata": {},
   "outputs": [],
   "source": [
    "drop_col(cols[22])"
   ]
  },
  {
   "cell_type": "code",
   "execution_count": 174,
   "metadata": {},
   "outputs": [
    {
     "name": "stdout",
     "output_type": "stream",
     "text": [
      "SEC_NHS\t\t9\n",
      "[0 1 8 9 6 2 7 3 5]\n"
     ]
    }
   ],
   "source": [
    "check_col(cols[23])"
   ]
  },
  {
   "cell_type": "markdown",
   "metadata": {},
   "source": [
    "Keep. Categorical."
   ]
  },
  {
   "cell_type": "code",
   "execution_count": 209,
   "metadata": {},
   "outputs": [],
   "source": [
    "cols2onehot.append(cols[23])"
   ]
  },
  {
   "cell_type": "code",
   "execution_count": 177,
   "metadata": {},
   "outputs": [
    {
     "name": "stdout",
     "output_type": "stream",
     "text": [
      "SEC_STR\t\t3\n",
      "[0 1 2]\n"
     ]
    }
   ],
   "source": [
    "check_col(cols[24])"
   ]
  },
  {
   "cell_type": "markdown",
   "metadata": {},
   "source": [
    "Documentation says this should only have two values. Drop."
   ]
  },
  {
   "cell_type": "code",
   "execution_count": 181,
   "metadata": {},
   "outputs": [],
   "source": [
    "drop_col(cols[24])"
   ]
  },
  {
   "cell_type": "code",
   "execution_count": 179,
   "metadata": {},
   "outputs": [
    {
     "name": "stdout",
     "output_type": "stream",
     "text": [
      "SEC_TRUNK\t\t4\n",
      "[0 1 3 2]\n"
     ]
    }
   ],
   "source": [
    "check_col(cols[25])"
   ]
  },
  {
   "cell_type": "markdown",
   "metadata": {},
   "source": [
    "Same as above."
   ]
  },
  {
   "cell_type": "code",
   "execution_count": 182,
   "metadata": {},
   "outputs": [],
   "source": [
    "drop_col(cols[25])"
   ]
  },
  {
   "cell_type": "code",
   "execution_count": 183,
   "metadata": {},
   "outputs": [
    {
     "name": "stdout",
     "output_type": "stream",
     "text": [
      "SEC_TRK\t\t3\n",
      "[0 2 1]\n"
     ]
    }
   ],
   "source": [
    "check_col(cols[26])"
   ]
  },
  {
   "cell_type": "markdown",
   "metadata": {},
   "source": [
    "Is this the same as above? Discard"
   ]
  },
  {
   "cell_type": "code",
   "execution_count": 184,
   "metadata": {},
   "outputs": [],
   "source": [
    "drop_col(cols[26])"
   ]
  },
  {
   "cell_type": "code",
   "execution_count": 186,
   "metadata": {},
   "outputs": [
    {
     "name": "stdout",
     "output_type": "stream",
     "text": [
      "SEC_EVAC\t\t2\n",
      "[0 1]\n"
     ]
    }
   ],
   "source": [
    "check_col(cols[27])"
   ]
  },
  {
   "cell_type": "markdown",
   "metadata": {},
   "source": [
    "Categorical. Whether a road is an evac route probably isn't super predictive, but no harm in keeping it. It's a binary variable so no need to one-hot it either."
   ]
  },
  {
   "cell_type": "code",
   "execution_count": 188,
   "metadata": {},
   "outputs": [
    {
     "name": "stdout",
     "output_type": "stream",
     "text": [
      "SEC_NFH\t\t2\n",
      "[0 1]\n"
     ]
    }
   ],
   "source": [
    "check_col(cols[28])"
   ]
  },
  {
   "cell_type": "markdown",
   "metadata": {},
   "source": [
    "Same as above."
   ]
  },
  {
   "cell_type": "code",
   "execution_count": 190,
   "metadata": {},
   "outputs": [
    {
     "name": "stdout",
     "output_type": "stream",
     "text": [
      "SEC_STM\t\t2\n",
      "[0 1]\n"
     ]
    }
   ],
   "source": [
    "check_col(cols[29])"
   ]
  },
  {
   "cell_type": "markdown",
   "metadata": {},
   "source": [
    "Same as above."
   ]
  },
  {
   "cell_type": "code",
   "execution_count": 211,
   "metadata": {},
   "outputs": [
    {
     "name": "stdout",
     "output_type": "stream",
     "text": [
      "SEC_BIC\t\t2\n",
      "[0 1]\n"
     ]
    }
   ],
   "source": [
    "check_col(cols[30])"
   ]
  },
  {
   "cell_type": "markdown",
   "metadata": {},
   "source": [
    "Same as above."
   ]
  },
  {
   "cell_type": "code",
   "execution_count": 215,
   "metadata": {},
   "outputs": [
    {
     "name": "stdout",
     "output_type": "stream",
     "text": [
      "SEC_ADP\t\t2\n",
      "[0 1]\n"
     ]
    }
   ],
   "source": [
    "check_col(cols[31])"
   ]
  },
  {
   "cell_type": "markdown",
   "metadata": {},
   "source": [
    "Same as above."
   ]
  },
  {
   "cell_type": "code",
   "execution_count": 216,
   "metadata": {},
   "outputs": [
    {
     "name": "stdout",
     "output_type": "stream",
     "text": [
      "SEC_FED_AI\t\t2\n",
      "[1 0]\n"
     ]
    }
   ],
   "source": [
    "check_col(cols[32])"
   ]
  },
  {
   "cell_type": "markdown",
   "metadata": {},
   "source": [
    "Same as above."
   ]
  },
  {
   "cell_type": "code",
   "execution_count": 217,
   "metadata": {},
   "outputs": [
    {
     "name": "stdout",
     "output_type": "stream",
     "text": [
      "MSA_CLS\t\t3\n",
      "[11 12 13]\n"
     ]
    }
   ],
   "source": [
    "check_col(cols[33])"
   ]
  },
  {
   "cell_type": "markdown",
   "metadata": {},
   "source": [
    "Documentation says 11-13 all mean the same thing. Discard."
   ]
  },
  {
   "cell_type": "code",
   "execution_count": 218,
   "metadata": {},
   "outputs": [],
   "source": [
    "drop_col(cols[33])"
   ]
  },
  {
   "cell_type": "code",
   "execution_count": 219,
   "metadata": {},
   "outputs": [
    {
     "name": "stdout",
     "output_type": "stream",
     "text": [
      "HWY_STAT\t\t2\n",
      "[6 0]\n"
     ]
    }
   ],
   "source": [
    "check_col(cols[34])"
   ]
  },
  {
   "cell_type": "markdown",
   "metadata": {},
   "source": [
    "Keep. Already one-hot."
   ]
  },
  {
   "cell_type": "code",
   "execution_count": 220,
   "metadata": {},
   "outputs": [
    {
     "name": "stdout",
     "output_type": "stream",
     "text": [
      "HWY_STAT_D\t\t716\n",
      "[19950429 19980603 19960520 19961126 20131219 19980501 20040809 20110128\n",
      " 20071219 19961122]\n"
     ]
    }
   ],
   "source": [
    "check_col(cols[35])"
   ]
  },
  {
   "cell_type": "markdown",
   "metadata": {},
   "source": [
    "Dates. Discard."
   ]
  },
  {
   "cell_type": "code",
   "execution_count": 221,
   "metadata": {},
   "outputs": [],
   "source": [
    "drop_col(cols[35])"
   ]
  },
  {
   "cell_type": "code",
   "execution_count": 222,
   "metadata": {},
   "outputs": [
    {
     "name": "stdout",
     "output_type": "stream",
     "text": [
      "DOTT\t\t726\n",
      "[19950429 19980603 19960520 19961126 20131219 19980501 20040809 20110128\n",
      " 20071219 19961122]\n"
     ]
    }
   ],
   "source": [
    "check_col(cols[36])"
   ]
  },
  {
   "cell_type": "markdown",
   "metadata": {},
   "source": [
    "Same as above."
   ]
  },
  {
   "cell_type": "code",
   "execution_count": 223,
   "metadata": {},
   "outputs": [],
   "source": [
    "drop_col(cols[36])"
   ]
  },
  {
   "cell_type": "code",
   "execution_count": 224,
   "metadata": {},
   "outputs": [
    {
     "name": "stdout",
     "output_type": "stream",
     "text": [
      "SPD_MAX\t\t18\n",
      "[60 55 30 65 45 70 40 50 35 75]\n"
     ]
    }
   ],
   "source": [
    "check_col(cols[37])"
   ]
  },
  {
   "cell_type": "markdown",
   "metadata": {},
   "source": [
    "Continuous."
   ]
  },
  {
   "cell_type": "code",
   "execution_count": 225,
   "metadata": {},
   "outputs": [
    {
     "name": "stdout",
     "output_type": "stream",
     "text": [
      "SPD_MIN\t\t2\n",
      "[ 0 55]\n"
     ]
    }
   ],
   "source": [
    "check_col(cols[38])"
   ]
  },
  {
   "cell_type": "markdown",
   "metadata": {},
   "source": [
    "Same as above."
   ]
  },
  {
   "cell_type": "code",
   "execution_count": 226,
   "metadata": {},
   "outputs": [
    {
     "name": "stdout",
     "output_type": "stream",
     "text": [
      "LOAD_AXLE\t\t4\n",
      "[    0 12000  4000  8000]\n"
     ]
    }
   ],
   "source": [
    "check_col(cols[39])"
   ]
  },
  {
   "cell_type": "markdown",
   "metadata": {},
   "source": [
    "Same as above."
   ]
  },
  {
   "cell_type": "code",
   "execution_count": 227,
   "metadata": {},
   "outputs": [
    {
     "name": "stdout",
     "output_type": "stream",
     "text": [
      "LOAD_GROSS\t\t3\n",
      "[    0 58420 40000]\n"
     ]
    }
   ],
   "source": [
    "check_col(cols[40])"
   ]
  },
  {
   "cell_type": "markdown",
   "metadata": {},
   "source": [
    "Same as above."
   ]
  },
  {
   "cell_type": "code",
   "execution_count": 228,
   "metadata": {},
   "outputs": [
    {
     "name": "stdout",
     "output_type": "stream",
     "text": [
      "LOAD_TAND\t\t2\n",
      "[    0 14000]\n"
     ]
    }
   ],
   "source": [
    "check_col(cols[41])"
   ]
  },
  {
   "cell_type": "markdown",
   "metadata": {},
   "source": [
    "Same as above."
   ]
  },
  {
   "cell_type": "code",
   "execution_count": 229,
   "metadata": {},
   "outputs": [
    {
     "name": "stdout",
     "output_type": "stream",
     "text": [
      "HWY_DES1\t\t6\n",
      "[2 3 5 4 0 1]\n"
     ]
    }
   ],
   "source": [
    "check_col(cols[42])"
   ]
  },
  {
   "cell_type": "markdown",
   "metadata": {},
   "source": [
    "Highway characteristic. Very important! Categorical!"
   ]
  },
  {
   "cell_type": "code",
   "execution_count": 231,
   "metadata": {},
   "outputs": [],
   "source": [
    "cols2onehot.append(cols[42])"
   ]
  },
  {
   "cell_type": "code",
   "execution_count": 230,
   "metadata": {},
   "outputs": [
    {
     "name": "stdout",
     "output_type": "stream",
     "text": [
      "ACES_CTRL\t\t4\n",
      "[3 1 2 0]\n"
     ]
    }
   ],
   "source": [
    "check_col(cols[43])"
   ]
  },
  {
   "cell_type": "markdown",
   "metadata": {},
   "source": [
    "Not documented. Drop."
   ]
  },
  {
   "cell_type": "code",
   "execution_count": 235,
   "metadata": {},
   "outputs": [],
   "source": [
    "drop_col(cols[43])"
   ]
  },
  {
   "cell_type": "code",
   "execution_count": 233,
   "metadata": {},
   "outputs": [
    {
     "name": "stdout",
     "output_type": "stream",
     "text": [
      "MED_TYPE\t\t8\n",
      "[ 0  2  3  4 99  7  5  6]\n"
     ]
    }
   ],
   "source": [
    "check_col(cols[44])"
   ]
  },
  {
   "cell_type": "markdown",
   "metadata": {},
   "source": [
    "Highway characteristic. Very important! Categorical!"
   ]
  },
  {
   "cell_type": "code",
   "execution_count": 236,
   "metadata": {},
   "outputs": [],
   "source": [
    "cols2onehot.append(cols[44])"
   ]
  },
  {
   "cell_type": "code",
   "execution_count": 237,
   "metadata": {},
   "outputs": [
    {
     "name": "stdout",
     "output_type": "stream",
     "text": [
      "MED_WID\t\t180\n",
      "[ 0 14 44 75 20 10 16 15  4 21]\n"
     ]
    }
   ],
   "source": [
    "check_col(cols[45])"
   ]
  },
  {
   "cell_type": "markdown",
   "metadata": {},
   "source": [
    "Highway characteristic. Very important! But continuous."
   ]
  },
  {
   "cell_type": "code",
   "execution_count": 238,
   "metadata": {},
   "outputs": [
    {
     "name": "stdout",
     "output_type": "stream",
     "text": [
      "HP_MED_W\t\t247\n",
      "[ 1  2  6  8  4 10  3  0  5 18]\n"
     ]
    }
   ],
   "source": [
    "check_col(cols[46])"
   ]
  },
  {
   "cell_type": "markdown",
   "metadata": {},
   "source": [
    "Same as above."
   ]
  },
  {
   "cell_type": "code",
   "execution_count": 239,
   "metadata": {},
   "outputs": [
    {
     "name": "stdout",
     "output_type": "stream",
     "text": [
      "NUM_LANES\t\t15\n",
      "[ 2  4  6  3  5  8  7  1 10 11]\n"
     ]
    }
   ],
   "source": [
    "check_col(cols[47])"
   ]
  },
  {
   "cell_type": "markdown",
   "metadata": {},
   "source": [
    "Same as above."
   ]
  },
  {
   "cell_type": "code",
   "execution_count": 240,
   "metadata": {},
   "outputs": [
    {
     "name": "stdout",
     "output_type": "stream",
     "text": [
      "ACCEL_DECE\t\t2\n",
      "[0 1]\n"
     ]
    }
   ],
   "source": [
    "check_col(cols[48])"
   ]
  },
  {
   "cell_type": "markdown",
   "metadata": {},
   "source": [
    "Not documented. Drop."
   ]
  },
  {
   "cell_type": "code",
   "execution_count": 242,
   "metadata": {},
   "outputs": [],
   "source": [
    "drop_col(cols[48])"
   ]
  },
  {
   "cell_type": "code",
   "execution_count": 243,
   "metadata": {},
   "outputs": [
    {
     "name": "stdout",
     "output_type": "stream",
     "text": [
      "HOV_TYP\t\t2\n",
      "[0 1]\n"
     ]
    }
   ],
   "source": [
    "check_col(cols[49])"
   ]
  },
  {
   "cell_type": "markdown",
   "metadata": {},
   "source": [
    "Highway characteristic. Very important! But continuous."
   ]
  },
  {
   "cell_type": "code",
   "execution_count": 244,
   "metadata": {},
   "outputs": [
    {
     "name": "stdout",
     "output_type": "stream",
     "text": [
      "ROW_MIN\t\t401\n",
      "[ 80 100  70 120  57 200 112  60 107 300]\n"
     ]
    }
   ],
   "source": [
    "check_col(cols[50])"
   ]
  },
  {
   "cell_type": "markdown",
   "metadata": {},
   "source": [
    "Same as above."
   ]
  },
  {
   "cell_type": "code",
   "execution_count": 245,
   "metadata": {},
   "outputs": [
    {
     "name": "stdout",
     "output_type": "stream",
     "text": [
      "ROW_W_USL\t\t412\n",
      "[ 80 100  70 120  57 200 112  60 107 300]\n"
     ]
    }
   ],
   "source": [
    "check_col(cols[51])"
   ]
  },
  {
   "cell_type": "markdown",
   "metadata": {},
   "source": [
    "Same as above."
   ]
  },
  {
   "cell_type": "code",
   "execution_count": 246,
   "metadata": {},
   "outputs": [
    {
     "name": "stdout",
     "output_type": "stream",
     "text": [
      "RB_WID\t\t202\n",
      "[22 24 36 40 32 44 30 28 48 20]\n"
     ]
    }
   ],
   "source": [
    "check_col(cols[52])"
   ]
  },
  {
   "cell_type": "markdown",
   "metadata": {},
   "source": [
    "Same as above."
   ]
  },
  {
   "cell_type": "code",
   "execution_count": 247,
   "metadata": {},
   "outputs": [
    {
     "name": "stdout",
     "output_type": "stream",
     "text": [
      "SUR_W\t\t164\n",
      "[20 24 18 30 28 26 48 22 23 51]\n"
     ]
    }
   ],
   "source": [
    "check_col(cols[53])"
   ]
  },
  {
   "cell_type": "markdown",
   "metadata": {},
   "source": [
    "Same as above."
   ]
  },
  {
   "cell_type": "code",
   "execution_count": 248,
   "metadata": {},
   "outputs": [
    {
     "name": "stdout",
     "output_type": "stream",
     "text": [
      "S_TYPE_I\t\t7\n",
      "[ 3  5  1  4  0  2 99]\n"
     ]
    }
   ],
   "source": [
    "check_col(cols[54])"
   ]
  },
  {
   "cell_type": "markdown",
   "metadata": {},
   "source": [
    "Highway characteristic. Very important! Categorical. 99 and 0 shouldn't be within scope but whatever."
   ]
  },
  {
   "cell_type": "code",
   "execution_count": 250,
   "metadata": {},
   "outputs": [],
   "source": [
    "cols2onehot.append(cols[54])"
   ]
  },
  {
   "cell_type": "code",
   "execution_count": 249,
   "metadata": {},
   "outputs": [
    {
     "name": "stdout",
     "output_type": "stream",
     "text": [
      "S_WID_I\t\t46\n",
      "[ 1  2  6  8  4 10  3  0  5 20]\n"
     ]
    }
   ],
   "source": [
    "check_col(cols[55])"
   ]
  },
  {
   "cell_type": "markdown",
   "metadata": {},
   "source": [
    "Highway characteristic. Very important! But continuous."
   ]
  },
  {
   "cell_type": "code",
   "execution_count": 251,
   "metadata": {},
   "outputs": [
    {
     "name": "stdout",
     "output_type": "stream",
     "text": [
      "S_USE_I\t\t8\n",
      "[5 0 2 1 7 6 3 4]\n"
     ]
    }
   ],
   "source": [
    "check_col(cols[56])"
   ]
  },
  {
   "cell_type": "markdown",
   "metadata": {},
   "source": [
    "Highway characteristic. Very important! Categorical."
   ]
  },
  {
   "cell_type": "code",
   "execution_count": 255,
   "metadata": {},
   "outputs": [],
   "source": [
    "cols2onehot.append(cols[56])"
   ]
  },
  {
   "cell_type": "code",
   "execution_count": 252,
   "metadata": {},
   "outputs": [
    {
     "name": "stdout",
     "output_type": "stream",
     "text": [
      "S_TYPE_O\t\t7\n",
      "[ 3  5  1  4  0  2 99]\n"
     ]
    }
   ],
   "source": [
    "check_col(cols[57])"
   ]
  },
  {
   "cell_type": "markdown",
   "metadata": {},
   "source": [
    "Same as above."
   ]
  },
  {
   "cell_type": "code",
   "execution_count": 258,
   "metadata": {},
   "outputs": [],
   "source": [
    "cols2onehot.append(cols[57])"
   ]
  },
  {
   "cell_type": "code",
   "execution_count": 253,
   "metadata": {},
   "outputs": [
    {
     "name": "stdout",
     "output_type": "stream",
     "text": [
      "S_WID_O\t\t43\n",
      "[ 1  2  6  8 10  4  3  0  5 14]\n"
     ]
    }
   ],
   "source": [
    "check_col(cols[58])"
   ]
  },
  {
   "cell_type": "markdown",
   "metadata": {},
   "source": [
    "Highway characteristic. Very important! But continuous."
   ]
  },
  {
   "cell_type": "code",
   "execution_count": 254,
   "metadata": {},
   "outputs": [
    {
     "name": "stdout",
     "output_type": "stream",
     "text": [
      "S_USE_O\t\t8\n",
      "[5 0 2 1 6 3 4 7]\n"
     ]
    }
   ],
   "source": [
    "check_col(cols[59])"
   ]
  },
  {
   "cell_type": "markdown",
   "metadata": {},
   "source": [
    "Highway characteristic. Very important! Categorical."
   ]
  },
  {
   "cell_type": "code",
   "execution_count": 256,
   "metadata": {},
   "outputs": [],
   "source": [
    "cols2onehot.append(cols[59])"
   ]
  },
  {
   "cell_type": "code",
   "execution_count": 259,
   "metadata": {},
   "outputs": [
    {
     "name": "stdout",
     "output_type": "stream",
     "text": [
      "CURB_L\t\t6\n",
      "[0 2 1 5 4 3]\n"
     ]
    }
   ],
   "source": [
    "check_col(cols[60])"
   ]
  },
  {
   "cell_type": "markdown",
   "metadata": {},
   "source": [
    "Same as above."
   ]
  },
  {
   "cell_type": "code",
   "execution_count": 260,
   "metadata": {},
   "outputs": [],
   "source": [
    "cols2onehot.append(cols[60])"
   ]
  },
  {
   "cell_type": "code",
   "execution_count": 261,
   "metadata": {},
   "outputs": [
    {
     "name": "stdout",
     "output_type": "stream",
     "text": [
      "CURB_R\t\t6\n",
      "[0 2 1 5 4 3]\n"
     ]
    }
   ],
   "source": [
    "check_col(cols[61])"
   ]
  },
  {
   "cell_type": "markdown",
   "metadata": {},
   "source": [
    "Same as above."
   ]
  },
  {
   "cell_type": "code",
   "execution_count": 262,
   "metadata": {},
   "outputs": [],
   "source": [
    "cols2onehot.append(cols[61])"
   ]
  },
  {
   "cell_type": "code",
   "execution_count": 263,
   "metadata": {},
   "outputs": [
    {
     "name": "stdout",
     "output_type": "stream",
     "text": [
      "BASE_TP\t\t11\n",
      "[14  7  6  1 11  9 10  0  4  3]\n"
     ]
    }
   ],
   "source": [
    "check_col(cols[62])"
   ]
  },
  {
   "cell_type": "markdown",
   "metadata": {},
   "source": [
    "Same as above."
   ]
  },
  {
   "cell_type": "code",
   "execution_count": 264,
   "metadata": {},
   "outputs": [],
   "source": [
    "cols2onehot.append(cols[62])"
   ]
  },
  {
   "cell_type": "code",
   "execution_count": 265,
   "metadata": {},
   "outputs": [
    {
     "name": "stdout",
     "output_type": "stream",
     "text": [
      "SRF_TYPE\t\t12\n",
      "[10  4  1  2  7  5  6  3 11 13]\n"
     ]
    }
   ],
   "source": [
    "check_col(cols[63])"
   ]
  },
  {
   "cell_type": "markdown",
   "metadata": {},
   "source": [
    "Same as above."
   ]
  },
  {
   "cell_type": "code",
   "execution_count": 266,
   "metadata": {},
   "outputs": [],
   "source": [
    "cols2onehot.append(cols[63])"
   ]
  },
  {
   "cell_type": "code",
   "execution_count": 267,
   "metadata": {},
   "outputs": [
    {
     "name": "stdout",
     "output_type": "stream",
     "text": [
      "SURF_TREAT\t\t8\n",
      "[1 5 2 0 7 8 9 4]\n"
     ]
    }
   ],
   "source": [
    "check_col(cols[64])"
   ]
  },
  {
   "cell_type": "markdown",
   "metadata": {},
   "source": [
    "Same as above."
   ]
  },
  {
   "cell_type": "code",
   "execution_count": 268,
   "metadata": {},
   "outputs": [],
   "source": [
    "cols2onehot.append(cols[64])"
   ]
  },
  {
   "cell_type": "code",
   "execution_count": 269,
   "metadata": {},
   "outputs": [
    {
     "name": "stdout",
     "output_type": "stream",
     "text": [
      "ADT_CUR\t\t12885\n",
      "[1008  128  692 7799 1858  260 1094 7505  274 1313]\n"
     ]
    }
   ],
   "source": [
    "check_col(cols[65])"
   ]
  },
  {
   "cell_type": "markdown",
   "metadata": {},
   "source": [
    "This is the average daily traffic. Keep unless we think it's not infrastructure-related. Continuous."
   ]
  },
  {
   "cell_type": "code",
   "execution_count": 270,
   "metadata": {},
   "outputs": [
    {
     "name": "stdout",
     "output_type": "stream",
     "text": [
      "ADT_ADJ\t\t12885\n",
      "[1008  128  692 7799 1858  260 1094 7505  274 1313]\n"
     ]
    }
   ],
   "source": [
    "check_col(cols[66])"
   ]
  },
  {
   "cell_type": "markdown",
   "metadata": {},
   "source": [
    "Same as above."
   ]
  },
  {
   "cell_type": "code",
   "execution_count": 271,
   "metadata": {},
   "outputs": [
    {
     "name": "stdout",
     "output_type": "stream",
     "text": [
      "D_FAC\t\t51\n",
      "[53 54 67 50 51 74 60 56 72 62]\n"
     ]
    }
   ],
   "source": [
    "check_col(cols[67])"
   ]
  },
  {
   "cell_type": "markdown",
   "metadata": {},
   "source": [
    "Directional factor? Continuous. Keep I guess?"
   ]
  },
  {
   "cell_type": "code",
   "execution_count": 272,
   "metadata": {},
   "outputs": [
    {
     "name": "stdout",
     "output_type": "stream",
     "text": [
      "AADT_TRUCK\t\t4456\n",
      "[101  17 346 179 208  39 457 173  14 358]\n"
     ]
    }
   ],
   "source": [
    "check_col(cols[68])"
   ]
  },
  {
   "cell_type": "markdown",
   "metadata": {},
   "source": [
    "This is the average daily traffic for trucks. Keep unless we think it's not infrastructure-related. Continuous."
   ]
  },
  {
   "cell_type": "code",
   "execution_count": 273,
   "metadata": {},
   "outputs": [
    {
     "name": "stdout",
     "output_type": "stream",
     "text": [
      "AADT_SINGL\t\t2298\n",
      "[ 47   5 164 148 154  34 217 143  12 101]\n"
     ]
    }
   ],
   "source": [
    "check_col(cols[69])"
   ]
  },
  {
   "cell_type": "markdown",
   "metadata": {},
   "source": [
    "Same but for single unit vehicles. Keep."
   ]
  },
  {
   "cell_type": "code",
   "execution_count": 274,
   "metadata": {},
   "outputs": [
    {
     "name": "stdout",
     "output_type": "stream",
     "text": [
      "AADT_COMBI\t\t3718\n",
      "[ 54  12 182  31   5 240  30   2 257 223]\n"
     ]
    }
   ],
   "source": [
    "check_col(cols[70])"
   ]
  },
  {
   "cell_type": "markdown",
   "metadata": {},
   "source": [
    "Same but for both(?). How is this different from AADT? Keep."
   ]
  },
  {
   "cell_type": "code",
   "execution_count": 275,
   "metadata": {},
   "outputs": [
    {
     "name": "stdout",
     "output_type": "stream",
     "text": [
      "FLEX_ESAL\t\t8908\n",
      "[ 345   73 1496  577  472   69 1980  522   29 1492]\n"
     ]
    }
   ],
   "source": [
    "check_col(cols[71])"
   ]
  },
  {
   "cell_type": "markdown",
   "metadata": {},
   "source": [
    "Equivalent single axle load. Keep."
   ]
  },
  {
   "cell_type": "code",
   "execution_count": 276,
   "metadata": {},
   "outputs": [
    {
     "name": "stdout",
     "output_type": "stream",
     "text": [
      "RIGID_ESAL\t\t10301\n",
      "[ 450  102 2101  728  613   85 2780  658   33 2081]\n"
     ]
    }
   ],
   "source": [
    "check_col(cols[72])"
   ]
  },
  {
   "cell_type": "markdown",
   "metadata": {},
   "source": [
    "Same as above."
   ]
  },
  {
   "cell_type": "code",
   "execution_count": 277,
   "metadata": {},
   "outputs": [
    {
     "name": "stdout",
     "output_type": "stream",
     "text": [
      "ATH_100\t\t105\n",
      "[ 43  47 101  32  48  50  90  33  68  92]\n"
     ]
    }
   ],
   "source": [
    "check_col(cols[73])"
   ]
  },
  {
   "cell_type": "markdown",
   "metadata": {},
   "source": [
    "Average of the Ten Heaviest Wheel Loads. Keep."
   ]
  },
  {
   "cell_type": "code",
   "execution_count": 278,
   "metadata": {},
   "outputs": [
    {
     "name": "stdout",
     "output_type": "stream",
     "text": [
      "ATH_PCT\t\t7\n",
      "[40 30 20 50 60  0 10]\n"
     ]
    }
   ],
   "source": [
    "check_col(cols[74])"
   ]
  },
  {
   "cell_type": "markdown",
   "metadata": {},
   "source": [
    "Same as above, but in percentages?"
   ]
  },
  {
   "cell_type": "code",
   "execution_count": 279,
   "metadata": {},
   "outputs": [
    {
     "name": "stdout",
     "output_type": "stream",
     "text": [
      "MOTORCYCLE\t\t418\n",
      "[ 5  0 34  7  1 32 84 36  6  2]\n"
     ]
    }
   ],
   "source": [
    "check_col(cols[75])"
   ]
  },
  {
   "cell_type": "markdown",
   "metadata": {},
   "source": [
    "No documentation. Discard."
   ]
  },
  {
   "cell_type": "code",
   "execution_count": 282,
   "metadata": {},
   "outputs": [],
   "source": [
    "drop_col(cols[75])"
   ]
  },
  {
   "cell_type": "code",
   "execution_count": null,
   "metadata": {},
   "outputs": [],
   "source": [
    "check_col(cols[76])"
   ]
  },
  {
   "cell_type": "markdown",
   "metadata": {},
   "source": [
    "Annual daily traffic in year 1. Redundant, discard."
   ]
  },
  {
   "cell_type": "code",
   "execution_count": 280,
   "metadata": {},
   "outputs": [],
   "source": [
    "drop_col(cols[76])"
   ]
  },
  {
   "cell_type": "code",
   "execution_count": 283,
   "metadata": {},
   "outputs": [
    {
     "name": "stdout",
     "output_type": "stream",
     "text": [
      "HY_2\t\t12614\n",
      "[1002   97  653 6615 2085  188 1144 7162  409 2346]\n"
     ]
    }
   ],
   "source": [
    "check_col(cols[77])"
   ]
  },
  {
   "cell_type": "markdown",
   "metadata": {},
   "source": [
    "Annual daily traffic in year 2. Redundant, discard."
   ]
  },
  {
   "cell_type": "code",
   "execution_count": 284,
   "metadata": {},
   "outputs": [],
   "source": [
    "drop_col(cols[77])"
   ]
  },
  {
   "cell_type": "code",
   "execution_count": 285,
   "metadata": {},
   "outputs": [
    {
     "name": "stdout",
     "output_type": "stream",
     "text": [
      "HY_3\t\t12395\n",
      "[ 953   87 1015 4697 1708  197 1812 5468  290 1360]\n"
     ]
    }
   ],
   "source": [
    "check_col(cols[78])"
   ]
  },
  {
   "cell_type": "markdown",
   "metadata": {},
   "source": [
    "Annual daily traffic in year 3. Redundant, discard."
   ]
  },
  {
   "cell_type": "code",
   "execution_count": 286,
   "metadata": {},
   "outputs": [],
   "source": [
    "drop_col(cols[78])"
   ]
  },
  {
   "cell_type": "code",
   "execution_count": 287,
   "metadata": {},
   "outputs": [
    {
     "name": "stdout",
     "output_type": "stream",
     "text": [
      "HY_4\t\t12303\n",
      "[ 822  136 1094 5227 1597  217 1754 5388  363 3457]\n"
     ]
    }
   ],
   "source": [
    "check_col(cols[79])"
   ]
  },
  {
   "cell_type": "code",
   "execution_count": 288,
   "metadata": {},
   "outputs": [
    {
     "name": "stdout",
     "output_type": "stream",
     "text": [
      "HY_5\t\t2167\n",
      "[ 760  150  800 5500 1800  290 1550 5200  350 2000]\n"
     ]
    }
   ],
   "source": [
    "check_col(cols[80])"
   ]
  },
  {
   "cell_type": "code",
   "execution_count": 289,
   "metadata": {},
   "outputs": [
    {
     "name": "stdout",
     "output_type": "stream",
     "text": [
      "HY_6\t\t1511\n",
      "[ 590  120  720 5500 1950  260 1450 6200  350 1300]\n"
     ]
    }
   ],
   "source": [
    "check_col(cols[81])"
   ]
  },
  {
   "cell_type": "code",
   "execution_count": 290,
   "metadata": {},
   "outputs": [
    {
     "name": "stdout",
     "output_type": "stream",
     "text": [
      "HY_7\t\t1473\n",
      "[ 590  130  550 5000 2000  230 1200 5200    0  270]\n"
     ]
    }
   ],
   "source": [
    "check_col(cols[82])"
   ]
  },
  {
   "cell_type": "code",
   "execution_count": 291,
   "metadata": {},
   "outputs": [
    {
     "name": "stdout",
     "output_type": "stream",
     "text": [
      "HY_8\t\t1447\n",
      "[ 670  120  590 5900 1900  230 1400  640  440    0]\n"
     ]
    }
   ],
   "source": [
    "check_col(cols[83])"
   ]
  },
  {
   "cell_type": "code",
   "execution_count": 292,
   "metadata": {},
   "outputs": [
    {
     "name": "stdout",
     "output_type": "stream",
     "text": [
      "HY_9\t\t1447\n",
      "[ 650  120  510 6400 1700  220 1250  600  610    0]\n"
     ]
    }
   ],
   "source": [
    "check_col(cols[84])"
   ]
  },
  {
   "cell_type": "markdown",
   "metadata": {},
   "source": [
    "Annual daily traffic in year 4-9. Redundant, discard."
   ]
  },
  {
   "cell_type": "code",
   "execution_count": 299,
   "metadata": {},
   "outputs": [],
   "source": [
    "for i in range(79,85):\n",
    "    drop_col(cols[i])"
   ]
  },
  {
   "cell_type": "code",
   "execution_count": 293,
   "metadata": {},
   "outputs": [
    {
     "name": "stdout",
     "output_type": "stream",
     "text": [
      "AADT_DESGN\t\t5030\n",
      "[ 1410   180   970 12640  2600   330  1530 10810   380  1840]\n"
     ]
    }
   ],
   "source": [
    "check_col(cols[85])"
   ]
  },
  {
   "cell_type": "markdown",
   "metadata": {},
   "source": [
    "AADT for design year. Keep. Continuous."
   ]
  },
  {
   "cell_type": "code",
   "execution_count": 301,
   "metadata": {},
   "outputs": [
    {
     "name": "stdout",
     "output_type": "stream",
     "text": [
      "INCRS_FC_1\t\t8445\n",
      "[ 402   52  278 4841  742   70  436 3305  106  527]\n"
     ]
    }
   ],
   "source": [
    "check_col(cols[86])"
   ]
  },
  {
   "cell_type": "markdown",
   "metadata": {},
   "source": [
    "No documentation. Discard."
   ]
  },
  {
   "cell_type": "code",
   "execution_count": 302,
   "metadata": {},
   "outputs": [],
   "source": [
    "drop_col(cols[86])"
   ]
  },
  {
   "cell_type": "code",
   "execution_count": 303,
   "metadata": {},
   "outputs": [
    {
     "name": "stdout",
     "output_type": "stream",
     "text": [
      "DHV\t\t4860\n",
      "[ 149   22  119 1454  286   50  228 1276   40  162]\n"
     ]
    }
   ],
   "source": [
    "check_col(cols[87])"
   ]
  },
  {
   "cell_type": "markdown",
   "metadata": {},
   "source": [
    "Design hourly volume. Keep. Continuous."
   ]
  },
  {
   "cell_type": "code",
   "execution_count": 304,
   "metadata": {},
   "outputs": [
    {
     "name": "stdout",
     "output_type": "stream",
     "text": [
      "HP_VOL_GRP\t\t12\n",
      "[ 2  1  4  5  6  3  7  8 11 10]\n"
     ]
    }
   ],
   "source": [
    "check_col(cols[88])"
   ]
  },
  {
   "cell_type": "markdown",
   "metadata": {},
   "source": [
    "Highway performance monitoring system volume group. Continuous?"
   ]
  },
  {
   "cell_type": "code",
   "execution_count": 305,
   "metadata": {},
   "outputs": [
    {
     "name": "stdout",
     "output_type": "stream",
     "text": [
      "LANE_WIDTH\t\t43\n",
      "[10 12 13 11  9 25 15 14 31 16]\n"
     ]
    }
   ],
   "source": [
    "check_col(cols[89])"
   ]
  },
  {
   "cell_type": "markdown",
   "metadata": {},
   "source": [
    "Not documented but self-explanatory. Continuous."
   ]
  },
  {
   "cell_type": "code",
   "execution_count": 306,
   "metadata": {},
   "outputs": [
    {
     "name": "stdout",
     "output_type": "stream",
     "text": [
      "Crash Count\t\t383\n",
      "[ 0  2  1 10  3  5  4  6  7 11]\n"
     ]
    }
   ],
   "source": [
    "check_col(cols[90])"
   ]
  },
  {
   "cell_type": "markdown",
   "metadata": {},
   "source": [
    "This is what we calculated."
   ]
  },
  {
   "cell_type": "code",
   "execution_count": 307,
   "metadata": {},
   "outputs": [
    {
     "name": "stdout",
     "output_type": "stream",
     "text": [
      "Avg_Month\t\t1262\n",
      "[ 0  8  2 12 68 18  1  9 19 28]\n"
     ]
    }
   ],
   "source": [
    "check_col(cols[91])"
   ]
  },
  {
   "cell_type": "markdown",
   "metadata": {},
   "source": [
    "Same as above but monthly."
   ]
  },
  {
   "cell_type": "code",
   "execution_count": 308,
   "metadata": {},
   "outputs": [
    {
     "name": "stdout",
     "output_type": "stream",
     "text": [
      "FID_2\t\t16347\n",
      "[2011 2019 2024 2032 2048 2052 2061 2072 2082 2088]\n"
     ]
    }
   ],
   "source": [
    "check_col(cols[92])"
   ]
  },
  {
   "cell_type": "code",
   "execution_count": 309,
   "metadata": {},
   "outputs": [
    {
     "name": "stdout",
     "output_type": "stream",
     "text": [
      "OBJECTID_1\t\t16347\n",
      "[3012 3020 3025 3033 3049 3053 3062 3073 3083 3089]\n"
     ]
    }
   ],
   "source": [
    "check_col(cols[93])"
   ]
  },
  {
   "cell_type": "markdown",
   "metadata": {},
   "source": [
    "Some ID or something. Discard."
   ]
  },
  {
   "cell_type": "code",
   "execution_count": 310,
   "metadata": {},
   "outputs": [],
   "source": [
    "drop_col(cols[93])"
   ]
  },
  {
   "cell_type": "code",
   "execution_count": 311,
   "metadata": {},
   "outputs": [
    {
     "name": "stdout",
     "output_type": "stream",
     "text": [
      "GID_1\t\t5522\n",
      "[3134 3090 3038 3014 3145 3075 3168 3139 3138 3005]\n"
     ]
    }
   ],
   "source": [
    "check_col(cols[94])"
   ]
  },
  {
   "cell_type": "markdown",
   "metadata": {},
   "source": [
    "Same as above."
   ]
  },
  {
   "cell_type": "code",
   "execution_count": 312,
   "metadata": {},
   "outputs": [
    {
     "name": "stdout",
     "output_type": "stream",
     "text": [
      "SPD_LMT\t\t18\n",
      "[60 55 30 65 45 70 40 50 35 75]\n"
     ]
    }
   ],
   "source": [
    "check_col(cols[95])"
   ]
  },
  {
   "cell_type": "markdown",
   "metadata": {},
   "source": [
    "Seems like a duplicate of `spd_max`. Discard."
   ]
  },
  {
   "cell_type": "code",
   "execution_count": 314,
   "metadata": {},
   "outputs": [],
   "source": [
    "drop_col(cols[95])"
   ]
  },
  {
   "cell_type": "code",
   "execution_count": 313,
   "metadata": {},
   "outputs": [
    {
     "name": "stdout",
     "output_type": "stream",
     "text": [
      "ASSET_ID\t\t16347\n",
      "[5577085 5577094 5577099 5577108 5577127 5577132 5577141 5577152 5577162\n",
      " 5577169]\n"
     ]
    }
   ],
   "source": [
    "check_col(cols[96])"
   ]
  },
  {
   "cell_type": "markdown",
   "metadata": {},
   "source": [
    "Some ID or something. Discard."
   ]
  },
  {
   "cell_type": "code",
   "execution_count": 315,
   "metadata": {},
   "outputs": [],
   "source": [
    "drop_col(cols[96])"
   ]
  },
  {
   "cell_type": "code",
   "execution_count": 316,
   "metadata": {},
   "outputs": [
    {
     "name": "stdout",
     "output_type": "stream",
     "text": [
      "MAX_SPD_LM\t\t18\n",
      "[60 55 30 65 45 70 40 50 35 75]\n"
     ]
    }
   ],
   "source": [
    "check_col(cols[97])"
   ]
  },
  {
   "cell_type": "markdown",
   "metadata": {},
   "source": [
    "Seems like a duplicate of `spd_max` too(?). Discard."
   ]
  },
  {
   "cell_type": "code",
   "execution_count": 317,
   "metadata": {},
   "outputs": [],
   "source": [
    "drop_col(cols[97])"
   ]
  },
  {
   "cell_type": "markdown",
   "metadata": {},
   "source": [
    "That's all of them.\n",
    "\n",
    "### Results of filtering"
   ]
  },
  {
   "cell_type": "code",
   "execution_count": 319,
   "metadata": {},
   "outputs": [
    {
     "data": {
      "text/plain": [
       "['FID_1',\n",
       " 'FID_1_1',\n",
       " 'OBJECTID',\n",
       " 'REC',\n",
       " 'RDBD_ID',\n",
       " 'SEC_TTT',\n",
       " 'SEC_PARK',\n",
       " 'TOP_100_BE',\n",
       " 'TOP_100_EN',\n",
       " 'FRGHT_NTWR',\n",
       " 'DCTT',\n",
       " 'CLSR_RESN',\n",
       " 'HWY_NOTE',\n",
       " 'SCHOOL_ZN',\n",
       " 'DBTP',\n",
       " 'PEAK_DRCT_',\n",
       " 'CAUSEWAY',\n",
       " 'TUNNEL',\n",
       " 'MULT_MOD_F',\n",
       " 'ADT_YEAR',\n",
       " 'ADT_HIST_Y',\n",
       " 'DESGN_YR',\n",
       " 'TRUCK_HY_1',\n",
       " 'TRUCK_HY_2',\n",
       " 'TRUCK_HY_3',\n",
       " 'TRUCK_HY_4',\n",
       " 'TRUCK_HY_5',\n",
       " 'TRUCK_HY_6',\n",
       " 'TRUCK_HY_7',\n",
       " 'TRUCK_HY_8',\n",
       " 'TRUCK_HY_9',\n",
       " 'B_TERM',\n",
       " 'E_TERM',\n",
       " 'PHY_RDBD',\n",
       " 'PEAK_LANE',\n",
       " 'CNTR_PEAK_',\n",
       " 'TRFC_SGNL',\n",
       " 'PCT_GREEN_',\n",
       " 'NBR_SGNL',\n",
       " 'NBR_STOP_S',\n",
       " 'ATGRD_OTHR',\n",
       " 'WIDE_OBST',\n",
       " 'WIDE_PTNTL',\n",
       " 'CURV_CLASS',\n",
       " 'CURV_CLA_1',\n",
       " 'CURV_CLA_2',\n",
       " 'CURV_CLA_3',\n",
       " 'CURV_CLA_4',\n",
       " 'CURV_CLA_5',\n",
       " 'VERT_GRADE',\n",
       " 'VERT_GRA_1',\n",
       " 'VERT_GRA_2',\n",
       " 'VERT_GRA_3',\n",
       " 'VERT_GRA_4',\n",
       " 'VERT_GRA_5',\n",
       " 'TRRN',\n",
       " 'PPSD',\n",
       " 'PSR',\n",
       " 'PSR_DT',\n",
       " 'RUTTING',\n",
       " 'FAULT',\n",
       " 'CRACK_PCT',\n",
       " 'CRACK_LNGT',\n",
       " 'CLMT_ZN',\n",
       " 'SOIL',\n",
       " 'LOC_ERROR',\n",
       " 'RIA_RTE_ID',\n",
       " 'C_SEC',\n",
       " 'HWY',\n",
       " 'HNUM',\n",
       " 'HSUF',\n",
       " 'FRM_SUF',\n",
       " 'FRM_NUM',\n",
       " 'TO_SUF',\n",
       " 'TO_NUM',\n",
       " 'STE_NAM',\n",
       " 'RU_F_SYSTE',\n",
       " 'TOLL_NM',\n",
       " 'BRDG_STRUC',\n",
       " 'TRF_STA_ID',\n",
       " 'RTE_NM',\n",
       " 'RTE_PRFX',\n",
       " 'RTE_NBR',\n",
       " 'RTE_SFX',\n",
       " 'RDBD_TYPE',\n",
       " 'ASSET_NM',\n",
       " 'SYSTEM',\n",
       " 'RTE_DEFN_L',\n",
       " 'RTE_PRFX_T',\n",
       " 'RTE_GRID',\n",
       " 'GID',\n",
       " 'SEC',\n",
       " 'RI_MPT_DAT',\n",
       " 'FRM_NBR',\n",
       " 'TO_NBR',\n",
       " 'FRM_MKR_DA',\n",
       " 'TO_MKR_DAT',\n",
       " 'DIR_TRAV',\n",
       " 'UAN',\n",
       " 'RDWAY_MAIN',\n",
       " 'F_SYSTEM',\n",
       " 'SEC_STR',\n",
       " 'SEC_TRUNK',\n",
       " 'SEC_TRK',\n",
       " 'DI',\n",
       " 'CO',\n",
       " 'CITY',\n",
       " 'MPA',\n",
       " 'UAN_HPMS',\n",
       " 'MAINT_DIS',\n",
       " 'MNT_SEC',\n",
       " 'MSA_CLS',\n",
       " 'HWY_STAT_D',\n",
       " 'DOTT',\n",
       " 'ACES_CTRL',\n",
       " 'ACCEL_DECE',\n",
       " 'HY_1',\n",
       " 'MOTORCYCLE',\n",
       " 'HY_2',\n",
       " 'HY_3',\n",
       " 'HY_4',\n",
       " 'HY_5',\n",
       " 'HY_6',\n",
       " 'HY_7',\n",
       " 'HY_8',\n",
       " 'HY_9',\n",
       " 'INCRS_FC_1',\n",
       " 'OBJECTID_1',\n",
       " 'SPD_LMT',\n",
       " 'ASSET_ID',\n",
       " 'MAX_SPD_LM']"
      ]
     },
     "execution_count": 319,
     "metadata": {},
     "output_type": "execute_result"
    }
   ],
   "source": [
    "cols_dropped"
   ]
  },
  {
   "cell_type": "code",
   "execution_count": 328,
   "metadata": {},
   "outputs": [
    {
     "data": {
      "text/plain": [
       "['SEC_NHS',\n",
       " 'HWY_DES1',\n",
       " 'MED_TYPE',\n",
       " 'S_TYPE_I',\n",
       " 'S_USE_I',\n",
       " 'S_USE_O',\n",
       " 'S_TYPE_O',\n",
       " 'CURB_L',\n",
       " 'CURB_R',\n",
       " 'BASE_TP',\n",
       " 'SRF_TYPE',\n",
       " 'SURF_TREAT',\n",
       " 'HSYS']"
      ]
     },
     "execution_count": 328,
     "metadata": {},
     "output_type": "execute_result"
    }
   ],
   "source": [
    "cols2onehot"
   ]
  },
  {
   "cell_type": "markdown",
   "metadata": {},
   "source": [
    "## One-hot encoding\n",
    "\n",
    "Now that we've identified columns that require one-hot encoding, let's do so after we check that all our remaining columns are numerical."
   ]
  },
  {
   "cell_type": "code",
   "execution_count": 329,
   "metadata": {},
   "outputs": [
    {
     "data": {
      "text/plain": [
       "FID               int64\n",
       "FRM_DFO         float64\n",
       "TO_DFO          float64\n",
       "CON             float64\n",
       "BMP             float64\n",
       "EMP             float64\n",
       "HSYS              int64\n",
       "FRM_DISP        float64\n",
       "TO_DISP         float64\n",
       "RU                int64\n",
       "MSA_CNTY          int64\n",
       "PBLC_LAND       float64\n",
       "ADMIN             int64\n",
       "SEC_NHS           int64\n",
       "SEC_NHS_AP      float64\n",
       "SEC_EVAC          int64\n",
       "SEC_NFH           int64\n",
       "SEC_STM           int64\n",
       "SEC_BIC           int64\n",
       "SEC_ADP           int64\n",
       "SEC_FED_AI        int64\n",
       "TOP100ID        float64\n",
       "HWY_STAT          int64\n",
       "SPD_MAX           int64\n",
       "SPD_MIN           int64\n",
       "ALT_SPD_LM      float64\n",
       "ALT_SPD__1      float64\n",
       "LOAD_AXLE         int64\n",
       "LOAD_GROSS        int64\n",
       "LOAD_TAND         int64\n",
       "HWY_DES1          int64\n",
       "MED_TYPE          int64\n",
       "MED_WID           int64\n",
       "HP_MED_W          int64\n",
       "NUM_LANES         int64\n",
       "CLMB_PS_LA      float64\n",
       "HOV_LANES       float64\n",
       "HOV_TYP           int64\n",
       "ROW_MIN           int64\n",
       "ROW_W_USL         int64\n",
       "RB_WID            int64\n",
       "SUR_W             int64\n",
       "S_TYPE_I          int64\n",
       "S_WID_I           int64\n",
       "S_USE_I           int64\n",
       "S_TYPE_O          int64\n",
       "S_WID_O           int64\n",
       "S_USE_O           int64\n",
       "CURB_L            int64\n",
       "CURB_R            int64\n",
       "BASE_TP           int64\n",
       "SRF_TYPE          int64\n",
       "SURF_TREAT        int64\n",
       "SURF_TRE_1      float64\n",
       "SURF_TRE_2      float64\n",
       "ADT_CUR           int64\n",
       "ADT_ADJ           int64\n",
       "K_FAC           float64\n",
       "D_FAC             int64\n",
       "TRK_AADT_P      float64\n",
       "PCT_SADT        float64\n",
       "PCT_CADT        float64\n",
       "AADT_TRUCK        int64\n",
       "AADT_SINGL        int64\n",
       "AADT_COMBI        int64\n",
       "TRK_DHV_PC      float64\n",
       "PCT_SDHV        float64\n",
       "PCT_CDHV        float64\n",
       "FLEX_ESAL         int64\n",
       "RIGID_ESAL        int64\n",
       "ATH_100           int64\n",
       "ATH_PCT           int64\n",
       "AADT_DESGN        int64\n",
       "INCRS_FCTR      float64\n",
       "DHV               int64\n",
       "HPMSID          float64\n",
       "HP_VOL_GRP        int64\n",
       "RT_TURN_LA      float64\n",
       "LT_TURN_LA      float64\n",
       "LANE_WIDTH        int64\n",
       "YR_LAST_IM      float64\n",
       "YR_LAST_CN      float64\n",
       "LAST_OVRLY      float64\n",
       "PVMT_THICK      float64\n",
       "PVMT_THI_1      float64\n",
       "BASE_THCK       float64\n",
       "LEN_SEC         float64\n",
       "LN_MILES        float64\n",
       "DVMT            float64\n",
       "DTRKVMT         float64\n",
       "START_X         float64\n",
       "START_Y         float64\n",
       "START_M         float64\n",
       "MID_X           float64\n",
       "MID_Y           float64\n",
       "MID_M           float64\n",
       "END_X           float64\n",
       "END_Y           float64\n",
       "END_M           float64\n",
       "Shape__Len      float64\n",
       "Crash Count       int64\n",
       "Avg_Death       float64\n",
       "Avg_Injuries    float64\n",
       "Avg_Month         int64\n",
       "FID_2             int64\n",
       "GID_1             int64\n",
       "BEGIN_DFO       float64\n",
       "END_DFO         float64\n",
       "ASSET_LN_B      float64\n",
       "ASSET_LN_E      float64\n",
       "Shape__L_1      float64\n",
       "dtype: object"
      ]
     },
     "execution_count": 329,
     "metadata": {},
     "output_type": "execute_result"
    }
   ],
   "source": [
    "df.dtypes"
   ]
  },
  {
   "cell_type": "code",
   "execution_count": 346,
   "metadata": {},
   "outputs": [
    {
     "data": {
      "text/html": [
       "<div>\n",
       "<style scoped>\n",
       "    .dataframe tbody tr th:only-of-type {\n",
       "        vertical-align: middle;\n",
       "    }\n",
       "\n",
       "    .dataframe tbody tr th {\n",
       "        vertical-align: top;\n",
       "    }\n",
       "\n",
       "    .dataframe thead th {\n",
       "        text-align: right;\n",
       "    }\n",
       "</style>\n",
       "<table border=\"1\" class=\"dataframe\">\n",
       "  <thead>\n",
       "    <tr style=\"text-align: right;\">\n",
       "      <th></th>\n",
       "      <th>FID</th>\n",
       "      <th>FRM_DFO</th>\n",
       "      <th>TO_DFO</th>\n",
       "      <th>CON</th>\n",
       "      <th>BMP</th>\n",
       "      <th>EMP</th>\n",
       "      <th>FRM_DISP</th>\n",
       "      <th>TO_DISP</th>\n",
       "      <th>RU</th>\n",
       "      <th>MSA_CNTY</th>\n",
       "      <th>PBLC_LAND</th>\n",
       "      <th>ADMIN</th>\n",
       "      <th>SEC_NHS_AP</th>\n",
       "      <th>SEC_EVAC</th>\n",
       "      <th>SEC_NFH</th>\n",
       "      <th>SEC_STM</th>\n",
       "      <th>SEC_BIC</th>\n",
       "      <th>SEC_ADP</th>\n",
       "      <th>SEC_FED_AI</th>\n",
       "      <th>TOP100ID</th>\n",
       "      <th>HWY_STAT</th>\n",
       "      <th>SPD_MAX</th>\n",
       "      <th>SPD_MIN</th>\n",
       "      <th>ALT_SPD_LM</th>\n",
       "      <th>ALT_SPD__1</th>\n",
       "      <th>LOAD_AXLE</th>\n",
       "      <th>LOAD_GROSS</th>\n",
       "      <th>LOAD_TAND</th>\n",
       "      <th>MED_WID</th>\n",
       "      <th>HP_MED_W</th>\n",
       "      <th>NUM_LANES</th>\n",
       "      <th>CLMB_PS_LA</th>\n",
       "      <th>HOV_LANES</th>\n",
       "      <th>HOV_TYP</th>\n",
       "      <th>ROW_MIN</th>\n",
       "      <th>ROW_W_USL</th>\n",
       "      <th>RB_WID</th>\n",
       "      <th>SUR_W</th>\n",
       "      <th>S_WID_I</th>\n",
       "      <th>S_WID_O</th>\n",
       "      <th>SURF_TRE_1</th>\n",
       "      <th>SURF_TRE_2</th>\n",
       "      <th>ADT_CUR</th>\n",
       "      <th>ADT_ADJ</th>\n",
       "      <th>K_FAC</th>\n",
       "      <th>D_FAC</th>\n",
       "      <th>TRK_AADT_P</th>\n",
       "      <th>PCT_SADT</th>\n",
       "      <th>PCT_CADT</th>\n",
       "      <th>AADT_TRUCK</th>\n",
       "      <th>AADT_SINGL</th>\n",
       "      <th>AADT_COMBI</th>\n",
       "      <th>TRK_DHV_PC</th>\n",
       "      <th>PCT_SDHV</th>\n",
       "      <th>PCT_CDHV</th>\n",
       "      <th>FLEX_ESAL</th>\n",
       "      <th>RIGID_ESAL</th>\n",
       "      <th>ATH_100</th>\n",
       "      <th>ATH_PCT</th>\n",
       "      <th>AADT_DESGN</th>\n",
       "      <th>INCRS_FCTR</th>\n",
       "      <th>DHV</th>\n",
       "      <th>HPMSID</th>\n",
       "      <th>HP_VOL_GRP</th>\n",
       "      <th>RT_TURN_LA</th>\n",
       "      <th>LT_TURN_LA</th>\n",
       "      <th>LANE_WIDTH</th>\n",
       "      <th>YR_LAST_IM</th>\n",
       "      <th>YR_LAST_CN</th>\n",
       "      <th>LAST_OVRLY</th>\n",
       "      <th>PVMT_THICK</th>\n",
       "      <th>PVMT_THI_1</th>\n",
       "      <th>BASE_THCK</th>\n",
       "      <th>LEN_SEC</th>\n",
       "      <th>LN_MILES</th>\n",
       "      <th>DVMT</th>\n",
       "      <th>DTRKVMT</th>\n",
       "      <th>START_X</th>\n",
       "      <th>START_Y</th>\n",
       "      <th>START_M</th>\n",
       "      <th>MID_X</th>\n",
       "      <th>MID_Y</th>\n",
       "      <th>MID_M</th>\n",
       "      <th>END_X</th>\n",
       "      <th>END_Y</th>\n",
       "      <th>END_M</th>\n",
       "      <th>Shape__Len</th>\n",
       "      <th>Crash Count</th>\n",
       "      <th>Avg_Death</th>\n",
       "      <th>Avg_Injuries</th>\n",
       "      <th>Avg_Month</th>\n",
       "      <th>FID_2</th>\n",
       "      <th>GID_1</th>\n",
       "      <th>BEGIN_DFO</th>\n",
       "      <th>END_DFO</th>\n",
       "      <th>ASSET_LN_B</th>\n",
       "      <th>ASSET_LN_E</th>\n",
       "      <th>Shape__L_1</th>\n",
       "      <th>SEC_NHS_0</th>\n",
       "      <th>SEC_NHS_1</th>\n",
       "      <th>SEC_NHS_2</th>\n",
       "      <th>SEC_NHS_3</th>\n",
       "      <th>SEC_NHS_5</th>\n",
       "      <th>SEC_NHS_6</th>\n",
       "      <th>SEC_NHS_7</th>\n",
       "      <th>SEC_NHS_8</th>\n",
       "      <th>SEC_NHS_9</th>\n",
       "      <th>HWY_DES1_0</th>\n",
       "      <th>HWY_DES1_1</th>\n",
       "      <th>HWY_DES1_2</th>\n",
       "      <th>HWY_DES1_3</th>\n",
       "      <th>HWY_DES1_4</th>\n",
       "      <th>HWY_DES1_5</th>\n",
       "      <th>MED_TYPE_0</th>\n",
       "      <th>MED_TYPE_2</th>\n",
       "      <th>MED_TYPE_3</th>\n",
       "      <th>MED_TYPE_4</th>\n",
       "      <th>MED_TYPE_5</th>\n",
       "      <th>MED_TYPE_6</th>\n",
       "      <th>MED_TYPE_7</th>\n",
       "      <th>MED_TYPE_99</th>\n",
       "      <th>S_TYPE_I_0</th>\n",
       "      <th>S_TYPE_I_1</th>\n",
       "      <th>S_TYPE_I_2</th>\n",
       "      <th>S_TYPE_I_3</th>\n",
       "      <th>S_TYPE_I_4</th>\n",
       "      <th>S_TYPE_I_5</th>\n",
       "      <th>S_TYPE_I_99</th>\n",
       "      <th>S_USE_I_0</th>\n",
       "      <th>S_USE_I_1</th>\n",
       "      <th>S_USE_I_2</th>\n",
       "      <th>S_USE_I_3</th>\n",
       "      <th>S_USE_I_4</th>\n",
       "      <th>S_USE_I_5</th>\n",
       "      <th>S_USE_I_6</th>\n",
       "      <th>S_USE_I_7</th>\n",
       "      <th>S_USE_O_0</th>\n",
       "      <th>S_USE_O_1</th>\n",
       "      <th>S_USE_O_2</th>\n",
       "      <th>S_USE_O_3</th>\n",
       "      <th>S_USE_O_4</th>\n",
       "      <th>S_USE_O_5</th>\n",
       "      <th>S_USE_O_6</th>\n",
       "      <th>S_USE_O_7</th>\n",
       "      <th>S_TYPE_O_0</th>\n",
       "      <th>S_TYPE_O_1</th>\n",
       "      <th>S_TYPE_O_2</th>\n",
       "      <th>S_TYPE_O_3</th>\n",
       "      <th>S_TYPE_O_4</th>\n",
       "      <th>S_TYPE_O_5</th>\n",
       "      <th>S_TYPE_O_99</th>\n",
       "      <th>CURB_L_0</th>\n",
       "      <th>CURB_L_1</th>\n",
       "      <th>CURB_L_2</th>\n",
       "      <th>CURB_L_3</th>\n",
       "      <th>CURB_L_4</th>\n",
       "      <th>CURB_L_5</th>\n",
       "      <th>CURB_R_0</th>\n",
       "      <th>CURB_R_1</th>\n",
       "      <th>CURB_R_2</th>\n",
       "      <th>CURB_R_3</th>\n",
       "      <th>CURB_R_4</th>\n",
       "      <th>CURB_R_5</th>\n",
       "      <th>BASE_TP_0</th>\n",
       "      <th>BASE_TP_1</th>\n",
       "      <th>BASE_TP_3</th>\n",
       "      <th>BASE_TP_4</th>\n",
       "      <th>BASE_TP_5</th>\n",
       "      <th>BASE_TP_6</th>\n",
       "      <th>BASE_TP_7</th>\n",
       "      <th>BASE_TP_9</th>\n",
       "      <th>BASE_TP_10</th>\n",
       "      <th>BASE_TP_11</th>\n",
       "      <th>BASE_TP_14</th>\n",
       "      <th>SRF_TYPE_0</th>\n",
       "      <th>SRF_TYPE_1</th>\n",
       "      <th>SRF_TYPE_2</th>\n",
       "      <th>SRF_TYPE_3</th>\n",
       "      <th>SRF_TYPE_4</th>\n",
       "      <th>SRF_TYPE_5</th>\n",
       "      <th>SRF_TYPE_6</th>\n",
       "      <th>SRF_TYPE_7</th>\n",
       "      <th>SRF_TYPE_9</th>\n",
       "      <th>SRF_TYPE_10</th>\n",
       "      <th>SRF_TYPE_11</th>\n",
       "      <th>SRF_TYPE_13</th>\n",
       "      <th>SURF_TREAT_0</th>\n",
       "      <th>SURF_TREAT_1</th>\n",
       "      <th>SURF_TREAT_2</th>\n",
       "      <th>SURF_TREAT_4</th>\n",
       "      <th>SURF_TREAT_5</th>\n",
       "      <th>SURF_TREAT_7</th>\n",
       "      <th>SURF_TREAT_8</th>\n",
       "      <th>SURF_TREAT_9</th>\n",
       "      <th>HSYS_BF</th>\n",
       "      <th>HSYS_BI</th>\n",
       "      <th>HSYS_BS</th>\n",
       "      <th>HSYS_BU</th>\n",
       "      <th>HSYS_FM</th>\n",
       "      <th>HSYS_FS</th>\n",
       "      <th>HSYS_IH</th>\n",
       "      <th>HSYS_PA</th>\n",
       "      <th>HSYS_PR</th>\n",
       "      <th>HSYS_RE</th>\n",
       "      <th>HSYS_RM</th>\n",
       "      <th>HSYS_RR</th>\n",
       "      <th>HSYS_RS</th>\n",
       "      <th>HSYS_SH</th>\n",
       "      <th>HSYS_SL</th>\n",
       "      <th>HSYS_SS</th>\n",
       "      <th>HSYS_UA</th>\n",
       "      <th>HSYS_UP</th>\n",
       "      <th>HSYS_US</th>\n",
       "    </tr>\n",
       "  </thead>\n",
       "  <tbody>\n",
       "    <tr>\n",
       "      <th>0</th>\n",
       "      <td>0</td>\n",
       "      <td>4.764</td>\n",
       "      <td>4.957</td>\n",
       "      <td>986.0</td>\n",
       "      <td>4.783</td>\n",
       "      <td>4.977</td>\n",
       "      <td>0.764</td>\n",
       "      <td>0.957</td>\n",
       "      <td>1</td>\n",
       "      <td>1</td>\n",
       "      <td>NaN</td>\n",
       "      <td>1</td>\n",
       "      <td>NaN</td>\n",
       "      <td>0</td>\n",
       "      <td>0</td>\n",
       "      <td>0</td>\n",
       "      <td>0</td>\n",
       "      <td>0</td>\n",
       "      <td>1</td>\n",
       "      <td>NaN</td>\n",
       "      <td>6</td>\n",
       "      <td>60</td>\n",
       "      <td>0</td>\n",
       "      <td>NaN</td>\n",
       "      <td>NaN</td>\n",
       "      <td>0</td>\n",
       "      <td>0</td>\n",
       "      <td>0</td>\n",
       "      <td>0</td>\n",
       "      <td>1</td>\n",
       "      <td>2</td>\n",
       "      <td>NaN</td>\n",
       "      <td>NaN</td>\n",
       "      <td>0</td>\n",
       "      <td>80</td>\n",
       "      <td>80</td>\n",
       "      <td>22</td>\n",
       "      <td>20</td>\n",
       "      <td>1</td>\n",
       "      <td>1</td>\n",
       "      <td>0.0</td>\n",
       "      <td>NaN</td>\n",
       "      <td>1008</td>\n",
       "      <td>1008</td>\n",
       "      <td>10.6</td>\n",
       "      <td>53</td>\n",
       "      <td>10.1</td>\n",
       "      <td>4.7</td>\n",
       "      <td>5.4</td>\n",
       "      <td>101</td>\n",
       "      <td>47</td>\n",
       "      <td>54</td>\n",
       "      <td>4.7</td>\n",
       "      <td>2.6</td>\n",
       "      <td>2.1</td>\n",
       "      <td>345</td>\n",
       "      <td>450</td>\n",
       "      <td>43</td>\n",
       "      <td>40</td>\n",
       "      <td>1410</td>\n",
       "      <td>1.7</td>\n",
       "      <td>149</td>\n",
       "      <td>NaN</td>\n",
       "      <td>2</td>\n",
       "      <td>NaN</td>\n",
       "      <td>NaN</td>\n",
       "      <td>10</td>\n",
       "      <td>NaN</td>\n",
       "      <td>NaN</td>\n",
       "      <td>NaN</td>\n",
       "      <td>NaN</td>\n",
       "      <td>NaN</td>\n",
       "      <td>NaN</td>\n",
       "      <td>0.193</td>\n",
       "      <td>0.386</td>\n",
       "      <td>194.544</td>\n",
       "      <td>19.493</td>\n",
       "      <td>-97.381448</td>\n",
       "      <td>30.589498</td>\n",
       "      <td>4.764</td>\n",
       "      <td>-97.381062</td>\n",
       "      <td>30.588129</td>\n",
       "      <td>4.86094</td>\n",
       "      <td>-97.380514</td>\n",
       "      <td>30.586815</td>\n",
       "      <td>4.957</td>\n",
       "      <td>0.002849</td>\n",
       "      <td>0</td>\n",
       "      <td>0.0</td>\n",
       "      <td>0.0</td>\n",
       "      <td>0</td>\n",
       "      <td>2011</td>\n",
       "      <td>3134</td>\n",
       "      <td>0.000</td>\n",
       "      <td>6.696</td>\n",
       "      <td>0.000</td>\n",
       "      <td>6.696</td>\n",
       "      <td>12587.51446</td>\n",
       "      <td>1</td>\n",
       "      <td>0</td>\n",
       "      <td>0</td>\n",
       "      <td>0</td>\n",
       "      <td>0</td>\n",
       "      <td>0</td>\n",
       "      <td>0</td>\n",
       "      <td>0</td>\n",
       "      <td>0</td>\n",
       "      <td>0</td>\n",
       "      <td>0</td>\n",
       "      <td>1</td>\n",
       "      <td>0</td>\n",
       "      <td>0</td>\n",
       "      <td>0</td>\n",
       "      <td>1</td>\n",
       "      <td>0</td>\n",
       "      <td>0</td>\n",
       "      <td>0</td>\n",
       "      <td>0</td>\n",
       "      <td>0</td>\n",
       "      <td>0</td>\n",
       "      <td>0</td>\n",
       "      <td>0</td>\n",
       "      <td>0</td>\n",
       "      <td>0</td>\n",
       "      <td>1</td>\n",
       "      <td>0</td>\n",
       "      <td>0</td>\n",
       "      <td>0</td>\n",
       "      <td>0</td>\n",
       "      <td>0</td>\n",
       "      <td>0</td>\n",
       "      <td>0</td>\n",
       "      <td>0</td>\n",
       "      <td>1</td>\n",
       "      <td>0</td>\n",
       "      <td>0</td>\n",
       "      <td>0</td>\n",
       "      <td>0</td>\n",
       "      <td>0</td>\n",
       "      <td>0</td>\n",
       "      <td>0</td>\n",
       "      <td>1</td>\n",
       "      <td>0</td>\n",
       "      <td>0</td>\n",
       "      <td>0</td>\n",
       "      <td>0</td>\n",
       "      <td>0</td>\n",
       "      <td>1</td>\n",
       "      <td>0</td>\n",
       "      <td>0</td>\n",
       "      <td>0</td>\n",
       "      <td>1</td>\n",
       "      <td>0</td>\n",
       "      <td>0</td>\n",
       "      <td>0</td>\n",
       "      <td>0</td>\n",
       "      <td>0</td>\n",
       "      <td>1</td>\n",
       "      <td>0</td>\n",
       "      <td>0</td>\n",
       "      <td>0</td>\n",
       "      <td>0</td>\n",
       "      <td>0</td>\n",
       "      <td>0</td>\n",
       "      <td>0</td>\n",
       "      <td>0</td>\n",
       "      <td>0</td>\n",
       "      <td>0</td>\n",
       "      <td>0</td>\n",
       "      <td>0</td>\n",
       "      <td>0</td>\n",
       "      <td>0</td>\n",
       "      <td>0</td>\n",
       "      <td>1</td>\n",
       "      <td>0</td>\n",
       "      <td>0</td>\n",
       "      <td>0</td>\n",
       "      <td>0</td>\n",
       "      <td>0</td>\n",
       "      <td>0</td>\n",
       "      <td>0</td>\n",
       "      <td>0</td>\n",
       "      <td>0</td>\n",
       "      <td>1</td>\n",
       "      <td>0</td>\n",
       "      <td>0</td>\n",
       "      <td>0</td>\n",
       "      <td>1</td>\n",
       "      <td>0</td>\n",
       "      <td>0</td>\n",
       "      <td>0</td>\n",
       "      <td>0</td>\n",
       "      <td>0</td>\n",
       "      <td>0</td>\n",
       "      <td>0</td>\n",
       "      <td>0</td>\n",
       "      <td>0</td>\n",
       "      <td>0</td>\n",
       "      <td>1</td>\n",
       "      <td>0</td>\n",
       "      <td>0</td>\n",
       "      <td>0</td>\n",
       "      <td>0</td>\n",
       "      <td>0</td>\n",
       "      <td>0</td>\n",
       "      <td>0</td>\n",
       "      <td>0</td>\n",
       "      <td>0</td>\n",
       "      <td>0</td>\n",
       "      <td>0</td>\n",
       "      <td>0</td>\n",
       "      <td>0</td>\n",
       "      <td>0</td>\n",
       "    </tr>\n",
       "    <tr>\n",
       "      <th>1</th>\n",
       "      <td>1</td>\n",
       "      <td>3.708</td>\n",
       "      <td>3.729</td>\n",
       "      <td>986.0</td>\n",
       "      <td>3.723</td>\n",
       "      <td>3.744</td>\n",
       "      <td>1.708</td>\n",
       "      <td>1.729</td>\n",
       "      <td>1</td>\n",
       "      <td>1</td>\n",
       "      <td>NaN</td>\n",
       "      <td>1</td>\n",
       "      <td>NaN</td>\n",
       "      <td>0</td>\n",
       "      <td>0</td>\n",
       "      <td>0</td>\n",
       "      <td>0</td>\n",
       "      <td>0</td>\n",
       "      <td>1</td>\n",
       "      <td>NaN</td>\n",
       "      <td>6</td>\n",
       "      <td>60</td>\n",
       "      <td>0</td>\n",
       "      <td>NaN</td>\n",
       "      <td>NaN</td>\n",
       "      <td>0</td>\n",
       "      <td>0</td>\n",
       "      <td>0</td>\n",
       "      <td>0</td>\n",
       "      <td>1</td>\n",
       "      <td>2</td>\n",
       "      <td>NaN</td>\n",
       "      <td>NaN</td>\n",
       "      <td>0</td>\n",
       "      <td>80</td>\n",
       "      <td>80</td>\n",
       "      <td>22</td>\n",
       "      <td>20</td>\n",
       "      <td>1</td>\n",
       "      <td>1</td>\n",
       "      <td>0.0</td>\n",
       "      <td>NaN</td>\n",
       "      <td>1008</td>\n",
       "      <td>1008</td>\n",
       "      <td>10.6</td>\n",
       "      <td>53</td>\n",
       "      <td>10.1</td>\n",
       "      <td>4.7</td>\n",
       "      <td>5.4</td>\n",
       "      <td>101</td>\n",
       "      <td>47</td>\n",
       "      <td>54</td>\n",
       "      <td>4.7</td>\n",
       "      <td>2.6</td>\n",
       "      <td>2.1</td>\n",
       "      <td>345</td>\n",
       "      <td>450</td>\n",
       "      <td>43</td>\n",
       "      <td>40</td>\n",
       "      <td>1410</td>\n",
       "      <td>1.7</td>\n",
       "      <td>149</td>\n",
       "      <td>NaN</td>\n",
       "      <td>2</td>\n",
       "      <td>NaN</td>\n",
       "      <td>NaN</td>\n",
       "      <td>10</td>\n",
       "      <td>NaN</td>\n",
       "      <td>NaN</td>\n",
       "      <td>NaN</td>\n",
       "      <td>NaN</td>\n",
       "      <td>NaN</td>\n",
       "      <td>NaN</td>\n",
       "      <td>0.021</td>\n",
       "      <td>0.042</td>\n",
       "      <td>21.168</td>\n",
       "      <td>2.121</td>\n",
       "      <td>-97.386708</td>\n",
       "      <td>30.604109</td>\n",
       "      <td>3.708</td>\n",
       "      <td>-97.386648</td>\n",
       "      <td>30.603966</td>\n",
       "      <td>3.71850</td>\n",
       "      <td>-97.386587</td>\n",
       "      <td>30.603823</td>\n",
       "      <td>3.729</td>\n",
       "      <td>0.000311</td>\n",
       "      <td>0</td>\n",
       "      <td>0.0</td>\n",
       "      <td>0.0</td>\n",
       "      <td>0</td>\n",
       "      <td>2011</td>\n",
       "      <td>3134</td>\n",
       "      <td>0.000</td>\n",
       "      <td>6.696</td>\n",
       "      <td>0.000</td>\n",
       "      <td>6.696</td>\n",
       "      <td>12587.51446</td>\n",
       "      <td>1</td>\n",
       "      <td>0</td>\n",
       "      <td>0</td>\n",
       "      <td>0</td>\n",
       "      <td>0</td>\n",
       "      <td>0</td>\n",
       "      <td>0</td>\n",
       "      <td>0</td>\n",
       "      <td>0</td>\n",
       "      <td>0</td>\n",
       "      <td>0</td>\n",
       "      <td>1</td>\n",
       "      <td>0</td>\n",
       "      <td>0</td>\n",
       "      <td>0</td>\n",
       "      <td>1</td>\n",
       "      <td>0</td>\n",
       "      <td>0</td>\n",
       "      <td>0</td>\n",
       "      <td>0</td>\n",
       "      <td>0</td>\n",
       "      <td>0</td>\n",
       "      <td>0</td>\n",
       "      <td>0</td>\n",
       "      <td>0</td>\n",
       "      <td>0</td>\n",
       "      <td>1</td>\n",
       "      <td>0</td>\n",
       "      <td>0</td>\n",
       "      <td>0</td>\n",
       "      <td>0</td>\n",
       "      <td>0</td>\n",
       "      <td>0</td>\n",
       "      <td>0</td>\n",
       "      <td>0</td>\n",
       "      <td>1</td>\n",
       "      <td>0</td>\n",
       "      <td>0</td>\n",
       "      <td>0</td>\n",
       "      <td>0</td>\n",
       "      <td>0</td>\n",
       "      <td>0</td>\n",
       "      <td>0</td>\n",
       "      <td>1</td>\n",
       "      <td>0</td>\n",
       "      <td>0</td>\n",
       "      <td>0</td>\n",
       "      <td>0</td>\n",
       "      <td>0</td>\n",
       "      <td>1</td>\n",
       "      <td>0</td>\n",
       "      <td>0</td>\n",
       "      <td>0</td>\n",
       "      <td>1</td>\n",
       "      <td>0</td>\n",
       "      <td>0</td>\n",
       "      <td>0</td>\n",
       "      <td>0</td>\n",
       "      <td>0</td>\n",
       "      <td>1</td>\n",
       "      <td>0</td>\n",
       "      <td>0</td>\n",
       "      <td>0</td>\n",
       "      <td>0</td>\n",
       "      <td>0</td>\n",
       "      <td>0</td>\n",
       "      <td>0</td>\n",
       "      <td>0</td>\n",
       "      <td>0</td>\n",
       "      <td>0</td>\n",
       "      <td>0</td>\n",
       "      <td>0</td>\n",
       "      <td>0</td>\n",
       "      <td>0</td>\n",
       "      <td>0</td>\n",
       "      <td>1</td>\n",
       "      <td>0</td>\n",
       "      <td>0</td>\n",
       "      <td>0</td>\n",
       "      <td>0</td>\n",
       "      <td>0</td>\n",
       "      <td>0</td>\n",
       "      <td>0</td>\n",
       "      <td>0</td>\n",
       "      <td>0</td>\n",
       "      <td>1</td>\n",
       "      <td>0</td>\n",
       "      <td>0</td>\n",
       "      <td>0</td>\n",
       "      <td>1</td>\n",
       "      <td>0</td>\n",
       "      <td>0</td>\n",
       "      <td>0</td>\n",
       "      <td>0</td>\n",
       "      <td>0</td>\n",
       "      <td>0</td>\n",
       "      <td>0</td>\n",
       "      <td>0</td>\n",
       "      <td>0</td>\n",
       "      <td>0</td>\n",
       "      <td>1</td>\n",
       "      <td>0</td>\n",
       "      <td>0</td>\n",
       "      <td>0</td>\n",
       "      <td>0</td>\n",
       "      <td>0</td>\n",
       "      <td>0</td>\n",
       "      <td>0</td>\n",
       "      <td>0</td>\n",
       "      <td>0</td>\n",
       "      <td>0</td>\n",
       "      <td>0</td>\n",
       "      <td>0</td>\n",
       "      <td>0</td>\n",
       "      <td>0</td>\n",
       "    </tr>\n",
       "    <tr>\n",
       "      <th>2</th>\n",
       "      <td>2</td>\n",
       "      <td>9.283</td>\n",
       "      <td>9.287</td>\n",
       "      <td>1033.0</td>\n",
       "      <td>7.816</td>\n",
       "      <td>7.820</td>\n",
       "      <td>1.805</td>\n",
       "      <td>1.809</td>\n",
       "      <td>1</td>\n",
       "      <td>0</td>\n",
       "      <td>NaN</td>\n",
       "      <td>1</td>\n",
       "      <td>NaN</td>\n",
       "      <td>0</td>\n",
       "      <td>0</td>\n",
       "      <td>0</td>\n",
       "      <td>0</td>\n",
       "      <td>0</td>\n",
       "      <td>0</td>\n",
       "      <td>NaN</td>\n",
       "      <td>6</td>\n",
       "      <td>60</td>\n",
       "      <td>0</td>\n",
       "      <td>NaN</td>\n",
       "      <td>NaN</td>\n",
       "      <td>0</td>\n",
       "      <td>0</td>\n",
       "      <td>0</td>\n",
       "      <td>0</td>\n",
       "      <td>2</td>\n",
       "      <td>2</td>\n",
       "      <td>NaN</td>\n",
       "      <td>NaN</td>\n",
       "      <td>0</td>\n",
       "      <td>100</td>\n",
       "      <td>100</td>\n",
       "      <td>24</td>\n",
       "      <td>20</td>\n",
       "      <td>2</td>\n",
       "      <td>2</td>\n",
       "      <td>0.0</td>\n",
       "      <td>NaN</td>\n",
       "      <td>128</td>\n",
       "      <td>128</td>\n",
       "      <td>12.5</td>\n",
       "      <td>54</td>\n",
       "      <td>13.3</td>\n",
       "      <td>3.9</td>\n",
       "      <td>9.4</td>\n",
       "      <td>17</td>\n",
       "      <td>5</td>\n",
       "      <td>12</td>\n",
       "      <td>14.5</td>\n",
       "      <td>1.9</td>\n",
       "      <td>12.6</td>\n",
       "      <td>73</td>\n",
       "      <td>102</td>\n",
       "      <td>47</td>\n",
       "      <td>40</td>\n",
       "      <td>180</td>\n",
       "      <td>1.7</td>\n",
       "      <td>22</td>\n",
       "      <td>NaN</td>\n",
       "      <td>1</td>\n",
       "      <td>NaN</td>\n",
       "      <td>NaN</td>\n",
       "      <td>10</td>\n",
       "      <td>NaN</td>\n",
       "      <td>NaN</td>\n",
       "      <td>NaN</td>\n",
       "      <td>NaN</td>\n",
       "      <td>NaN</td>\n",
       "      <td>NaN</td>\n",
       "      <td>0.004</td>\n",
       "      <td>0.008</td>\n",
       "      <td>0.512</td>\n",
       "      <td>0.068</td>\n",
       "      <td>-98.981705</td>\n",
       "      <td>32.003345</td>\n",
       "      <td>9.283</td>\n",
       "      <td>-98.981671</td>\n",
       "      <td>32.003343</td>\n",
       "      <td>9.28500</td>\n",
       "      <td>-98.981637</td>\n",
       "      <td>32.003341</td>\n",
       "      <td>9.287</td>\n",
       "      <td>0.000068</td>\n",
       "      <td>0</td>\n",
       "      <td>0.0</td>\n",
       "      <td>0.0</td>\n",
       "      <td>0</td>\n",
       "      <td>2019</td>\n",
       "      <td>3090</td>\n",
       "      <td>1.626</td>\n",
       "      <td>12.843</td>\n",
       "      <td>1.626</td>\n",
       "      <td>12.843</td>\n",
       "      <td>21357.16631</td>\n",
       "      <td>1</td>\n",
       "      <td>0</td>\n",
       "      <td>0</td>\n",
       "      <td>0</td>\n",
       "      <td>0</td>\n",
       "      <td>0</td>\n",
       "      <td>0</td>\n",
       "      <td>0</td>\n",
       "      <td>0</td>\n",
       "      <td>0</td>\n",
       "      <td>0</td>\n",
       "      <td>1</td>\n",
       "      <td>0</td>\n",
       "      <td>0</td>\n",
       "      <td>0</td>\n",
       "      <td>1</td>\n",
       "      <td>0</td>\n",
       "      <td>0</td>\n",
       "      <td>0</td>\n",
       "      <td>0</td>\n",
       "      <td>0</td>\n",
       "      <td>0</td>\n",
       "      <td>0</td>\n",
       "      <td>0</td>\n",
       "      <td>0</td>\n",
       "      <td>0</td>\n",
       "      <td>1</td>\n",
       "      <td>0</td>\n",
       "      <td>0</td>\n",
       "      <td>0</td>\n",
       "      <td>0</td>\n",
       "      <td>0</td>\n",
       "      <td>0</td>\n",
       "      <td>0</td>\n",
       "      <td>0</td>\n",
       "      <td>1</td>\n",
       "      <td>0</td>\n",
       "      <td>0</td>\n",
       "      <td>0</td>\n",
       "      <td>0</td>\n",
       "      <td>0</td>\n",
       "      <td>0</td>\n",
       "      <td>0</td>\n",
       "      <td>1</td>\n",
       "      <td>0</td>\n",
       "      <td>0</td>\n",
       "      <td>0</td>\n",
       "      <td>0</td>\n",
       "      <td>0</td>\n",
       "      <td>1</td>\n",
       "      <td>0</td>\n",
       "      <td>0</td>\n",
       "      <td>0</td>\n",
       "      <td>1</td>\n",
       "      <td>0</td>\n",
       "      <td>0</td>\n",
       "      <td>0</td>\n",
       "      <td>0</td>\n",
       "      <td>0</td>\n",
       "      <td>1</td>\n",
       "      <td>0</td>\n",
       "      <td>0</td>\n",
       "      <td>0</td>\n",
       "      <td>0</td>\n",
       "      <td>0</td>\n",
       "      <td>0</td>\n",
       "      <td>0</td>\n",
       "      <td>0</td>\n",
       "      <td>0</td>\n",
       "      <td>0</td>\n",
       "      <td>0</td>\n",
       "      <td>0</td>\n",
       "      <td>0</td>\n",
       "      <td>0</td>\n",
       "      <td>0</td>\n",
       "      <td>1</td>\n",
       "      <td>0</td>\n",
       "      <td>0</td>\n",
       "      <td>0</td>\n",
       "      <td>0</td>\n",
       "      <td>0</td>\n",
       "      <td>0</td>\n",
       "      <td>0</td>\n",
       "      <td>0</td>\n",
       "      <td>0</td>\n",
       "      <td>1</td>\n",
       "      <td>0</td>\n",
       "      <td>0</td>\n",
       "      <td>0</td>\n",
       "      <td>1</td>\n",
       "      <td>0</td>\n",
       "      <td>0</td>\n",
       "      <td>0</td>\n",
       "      <td>0</td>\n",
       "      <td>0</td>\n",
       "      <td>0</td>\n",
       "      <td>0</td>\n",
       "      <td>0</td>\n",
       "      <td>0</td>\n",
       "      <td>0</td>\n",
       "      <td>1</td>\n",
       "      <td>0</td>\n",
       "      <td>0</td>\n",
       "      <td>0</td>\n",
       "      <td>0</td>\n",
       "      <td>0</td>\n",
       "      <td>0</td>\n",
       "      <td>0</td>\n",
       "      <td>0</td>\n",
       "      <td>0</td>\n",
       "      <td>0</td>\n",
       "      <td>0</td>\n",
       "      <td>0</td>\n",
       "      <td>0</td>\n",
       "      <td>0</td>\n",
       "    </tr>\n",
       "    <tr>\n",
       "      <th>3</th>\n",
       "      <td>3</td>\n",
       "      <td>34.630</td>\n",
       "      <td>34.648</td>\n",
       "      <td>366.0</td>\n",
       "      <td>9.415</td>\n",
       "      <td>9.433</td>\n",
       "      <td>1.905</td>\n",
       "      <td>1.923</td>\n",
       "      <td>1</td>\n",
       "      <td>1</td>\n",
       "      <td>NaN</td>\n",
       "      <td>1</td>\n",
       "      <td>NaN</td>\n",
       "      <td>0</td>\n",
       "      <td>0</td>\n",
       "      <td>0</td>\n",
       "      <td>0</td>\n",
       "      <td>0</td>\n",
       "      <td>1</td>\n",
       "      <td>NaN</td>\n",
       "      <td>6</td>\n",
       "      <td>55</td>\n",
       "      <td>0</td>\n",
       "      <td>NaN</td>\n",
       "      <td>NaN</td>\n",
       "      <td>0</td>\n",
       "      <td>58420</td>\n",
       "      <td>0</td>\n",
       "      <td>0</td>\n",
       "      <td>6</td>\n",
       "      <td>2</td>\n",
       "      <td>NaN</td>\n",
       "      <td>NaN</td>\n",
       "      <td>0</td>\n",
       "      <td>100</td>\n",
       "      <td>100</td>\n",
       "      <td>36</td>\n",
       "      <td>24</td>\n",
       "      <td>6</td>\n",
       "      <td>6</td>\n",
       "      <td>0.0</td>\n",
       "      <td>NaN</td>\n",
       "      <td>692</td>\n",
       "      <td>692</td>\n",
       "      <td>12.3</td>\n",
       "      <td>67</td>\n",
       "      <td>50.0</td>\n",
       "      <td>23.7</td>\n",
       "      <td>26.3</td>\n",
       "      <td>346</td>\n",
       "      <td>164</td>\n",
       "      <td>182</td>\n",
       "      <td>37.2</td>\n",
       "      <td>18.2</td>\n",
       "      <td>19.0</td>\n",
       "      <td>1496</td>\n",
       "      <td>2101</td>\n",
       "      <td>101</td>\n",
       "      <td>30</td>\n",
       "      <td>970</td>\n",
       "      <td>1.7</td>\n",
       "      <td>119</td>\n",
       "      <td>NaN</td>\n",
       "      <td>2</td>\n",
       "      <td>NaN</td>\n",
       "      <td>NaN</td>\n",
       "      <td>12</td>\n",
       "      <td>NaN</td>\n",
       "      <td>NaN</td>\n",
       "      <td>NaN</td>\n",
       "      <td>NaN</td>\n",
       "      <td>NaN</td>\n",
       "      <td>NaN</td>\n",
       "      <td>0.018</td>\n",
       "      <td>0.036</td>\n",
       "      <td>12.456</td>\n",
       "      <td>6.228</td>\n",
       "      <td>-97.951377</td>\n",
       "      <td>29.105476</td>\n",
       "      <td>34.630</td>\n",
       "      <td>-97.951248</td>\n",
       "      <td>29.105542</td>\n",
       "      <td>34.63900</td>\n",
       "      <td>-97.951118</td>\n",
       "      <td>29.105607</td>\n",
       "      <td>34.648</td>\n",
       "      <td>0.000289</td>\n",
       "      <td>0</td>\n",
       "      <td>0.0</td>\n",
       "      <td>0.0</td>\n",
       "      <td>0</td>\n",
       "      <td>2024</td>\n",
       "      <td>3038</td>\n",
       "      <td>34.312</td>\n",
       "      <td>35.337</td>\n",
       "      <td>34.312</td>\n",
       "      <td>35.337</td>\n",
       "      <td>1892.50471</td>\n",
       "      <td>1</td>\n",
       "      <td>0</td>\n",
       "      <td>0</td>\n",
       "      <td>0</td>\n",
       "      <td>0</td>\n",
       "      <td>0</td>\n",
       "      <td>0</td>\n",
       "      <td>0</td>\n",
       "      <td>0</td>\n",
       "      <td>0</td>\n",
       "      <td>0</td>\n",
       "      <td>1</td>\n",
       "      <td>0</td>\n",
       "      <td>0</td>\n",
       "      <td>0</td>\n",
       "      <td>1</td>\n",
       "      <td>0</td>\n",
       "      <td>0</td>\n",
       "      <td>0</td>\n",
       "      <td>0</td>\n",
       "      <td>0</td>\n",
       "      <td>0</td>\n",
       "      <td>0</td>\n",
       "      <td>0</td>\n",
       "      <td>0</td>\n",
       "      <td>0</td>\n",
       "      <td>0</td>\n",
       "      <td>0</td>\n",
       "      <td>1</td>\n",
       "      <td>0</td>\n",
       "      <td>0</td>\n",
       "      <td>0</td>\n",
       "      <td>0</td>\n",
       "      <td>0</td>\n",
       "      <td>0</td>\n",
       "      <td>1</td>\n",
       "      <td>0</td>\n",
       "      <td>0</td>\n",
       "      <td>0</td>\n",
       "      <td>0</td>\n",
       "      <td>0</td>\n",
       "      <td>0</td>\n",
       "      <td>0</td>\n",
       "      <td>1</td>\n",
       "      <td>0</td>\n",
       "      <td>0</td>\n",
       "      <td>0</td>\n",
       "      <td>0</td>\n",
       "      <td>0</td>\n",
       "      <td>0</td>\n",
       "      <td>0</td>\n",
       "      <td>1</td>\n",
       "      <td>0</td>\n",
       "      <td>1</td>\n",
       "      <td>0</td>\n",
       "      <td>0</td>\n",
       "      <td>0</td>\n",
       "      <td>0</td>\n",
       "      <td>0</td>\n",
       "      <td>1</td>\n",
       "      <td>0</td>\n",
       "      <td>0</td>\n",
       "      <td>0</td>\n",
       "      <td>0</td>\n",
       "      <td>0</td>\n",
       "      <td>0</td>\n",
       "      <td>0</td>\n",
       "      <td>0</td>\n",
       "      <td>0</td>\n",
       "      <td>0</td>\n",
       "      <td>0</td>\n",
       "      <td>0</td>\n",
       "      <td>0</td>\n",
       "      <td>0</td>\n",
       "      <td>0</td>\n",
       "      <td>1</td>\n",
       "      <td>0</td>\n",
       "      <td>0</td>\n",
       "      <td>0</td>\n",
       "      <td>0</td>\n",
       "      <td>0</td>\n",
       "      <td>0</td>\n",
       "      <td>0</td>\n",
       "      <td>0</td>\n",
       "      <td>0</td>\n",
       "      <td>1</td>\n",
       "      <td>0</td>\n",
       "      <td>0</td>\n",
       "      <td>0</td>\n",
       "      <td>1</td>\n",
       "      <td>0</td>\n",
       "      <td>0</td>\n",
       "      <td>0</td>\n",
       "      <td>0</td>\n",
       "      <td>0</td>\n",
       "      <td>0</td>\n",
       "      <td>0</td>\n",
       "      <td>0</td>\n",
       "      <td>0</td>\n",
       "      <td>0</td>\n",
       "      <td>1</td>\n",
       "      <td>0</td>\n",
       "      <td>0</td>\n",
       "      <td>0</td>\n",
       "      <td>0</td>\n",
       "      <td>0</td>\n",
       "      <td>0</td>\n",
       "      <td>0</td>\n",
       "      <td>0</td>\n",
       "      <td>0</td>\n",
       "      <td>0</td>\n",
       "      <td>0</td>\n",
       "      <td>0</td>\n",
       "      <td>0</td>\n",
       "      <td>0</td>\n",
       "    </tr>\n",
       "    <tr>\n",
       "      <th>4</th>\n",
       "      <td>4</td>\n",
       "      <td>12.785</td>\n",
       "      <td>12.814</td>\n",
       "      <td>1003.0</td>\n",
       "      <td>15.007</td>\n",
       "      <td>15.036</td>\n",
       "      <td>1.072</td>\n",
       "      <td>1.101</td>\n",
       "      <td>3</td>\n",
       "      <td>1</td>\n",
       "      <td>NaN</td>\n",
       "      <td>1</td>\n",
       "      <td>NaN</td>\n",
       "      <td>1</td>\n",
       "      <td>0</td>\n",
       "      <td>0</td>\n",
       "      <td>0</td>\n",
       "      <td>0</td>\n",
       "      <td>1</td>\n",
       "      <td>NaN</td>\n",
       "      <td>6</td>\n",
       "      <td>60</td>\n",
       "      <td>0</td>\n",
       "      <td>NaN</td>\n",
       "      <td>NaN</td>\n",
       "      <td>0</td>\n",
       "      <td>0</td>\n",
       "      <td>0</td>\n",
       "      <td>0</td>\n",
       "      <td>8</td>\n",
       "      <td>2</td>\n",
       "      <td>NaN</td>\n",
       "      <td>NaN</td>\n",
       "      <td>0</td>\n",
       "      <td>100</td>\n",
       "      <td>100</td>\n",
       "      <td>40</td>\n",
       "      <td>24</td>\n",
       "      <td>8</td>\n",
       "      <td>8</td>\n",
       "      <td>0.0</td>\n",
       "      <td>NaN</td>\n",
       "      <td>7799</td>\n",
       "      <td>7799</td>\n",
       "      <td>11.5</td>\n",
       "      <td>50</td>\n",
       "      <td>2.3</td>\n",
       "      <td>1.9</td>\n",
       "      <td>0.4</td>\n",
       "      <td>179</td>\n",
       "      <td>148</td>\n",
       "      <td>31</td>\n",
       "      <td>0.8</td>\n",
       "      <td>0.6</td>\n",
       "      <td>0.2</td>\n",
       "      <td>577</td>\n",
       "      <td>728</td>\n",
       "      <td>32</td>\n",
       "      <td>30</td>\n",
       "      <td>12640</td>\n",
       "      <td>2.4</td>\n",
       "      <td>1454</td>\n",
       "      <td>NaN</td>\n",
       "      <td>4</td>\n",
       "      <td>NaN</td>\n",
       "      <td>NaN</td>\n",
       "      <td>12</td>\n",
       "      <td>NaN</td>\n",
       "      <td>NaN</td>\n",
       "      <td>NaN</td>\n",
       "      <td>NaN</td>\n",
       "      <td>NaN</td>\n",
       "      <td>NaN</td>\n",
       "      <td>0.029</td>\n",
       "      <td>0.058</td>\n",
       "      <td>226.171</td>\n",
       "      <td>5.191</td>\n",
       "      <td>-95.374392</td>\n",
       "      <td>29.112675</td>\n",
       "      <td>12.785</td>\n",
       "      <td>-95.374248</td>\n",
       "      <td>29.112506</td>\n",
       "      <td>12.79950</td>\n",
       "      <td>-95.374104</td>\n",
       "      <td>29.112337</td>\n",
       "      <td>12.814</td>\n",
       "      <td>0.000444</td>\n",
       "      <td>0</td>\n",
       "      <td>0.0</td>\n",
       "      <td>0.0</td>\n",
       "      <td>0</td>\n",
       "      <td>2032</td>\n",
       "      <td>3014</td>\n",
       "      <td>12.194</td>\n",
       "      <td>17.693</td>\n",
       "      <td>12.194</td>\n",
       "      <td>17.693</td>\n",
       "      <td>10174.89845</td>\n",
       "      <td>1</td>\n",
       "      <td>0</td>\n",
       "      <td>0</td>\n",
       "      <td>0</td>\n",
       "      <td>0</td>\n",
       "      <td>0</td>\n",
       "      <td>0</td>\n",
       "      <td>0</td>\n",
       "      <td>0</td>\n",
       "      <td>0</td>\n",
       "      <td>0</td>\n",
       "      <td>1</td>\n",
       "      <td>0</td>\n",
       "      <td>0</td>\n",
       "      <td>0</td>\n",
       "      <td>1</td>\n",
       "      <td>0</td>\n",
       "      <td>0</td>\n",
       "      <td>0</td>\n",
       "      <td>0</td>\n",
       "      <td>0</td>\n",
       "      <td>0</td>\n",
       "      <td>0</td>\n",
       "      <td>0</td>\n",
       "      <td>1</td>\n",
       "      <td>0</td>\n",
       "      <td>0</td>\n",
       "      <td>0</td>\n",
       "      <td>0</td>\n",
       "      <td>0</td>\n",
       "      <td>0</td>\n",
       "      <td>0</td>\n",
       "      <td>0</td>\n",
       "      <td>0</td>\n",
       "      <td>0</td>\n",
       "      <td>1</td>\n",
       "      <td>0</td>\n",
       "      <td>0</td>\n",
       "      <td>0</td>\n",
       "      <td>0</td>\n",
       "      <td>0</td>\n",
       "      <td>0</td>\n",
       "      <td>0</td>\n",
       "      <td>1</td>\n",
       "      <td>0</td>\n",
       "      <td>0</td>\n",
       "      <td>0</td>\n",
       "      <td>1</td>\n",
       "      <td>0</td>\n",
       "      <td>0</td>\n",
       "      <td>0</td>\n",
       "      <td>0</td>\n",
       "      <td>0</td>\n",
       "      <td>1</td>\n",
       "      <td>0</td>\n",
       "      <td>0</td>\n",
       "      <td>0</td>\n",
       "      <td>0</td>\n",
       "      <td>0</td>\n",
       "      <td>1</td>\n",
       "      <td>0</td>\n",
       "      <td>0</td>\n",
       "      <td>0</td>\n",
       "      <td>0</td>\n",
       "      <td>0</td>\n",
       "      <td>0</td>\n",
       "      <td>0</td>\n",
       "      <td>0</td>\n",
       "      <td>0</td>\n",
       "      <td>0</td>\n",
       "      <td>0</td>\n",
       "      <td>0</td>\n",
       "      <td>0</td>\n",
       "      <td>0</td>\n",
       "      <td>0</td>\n",
       "      <td>1</td>\n",
       "      <td>0</td>\n",
       "      <td>0</td>\n",
       "      <td>0</td>\n",
       "      <td>0</td>\n",
       "      <td>1</td>\n",
       "      <td>0</td>\n",
       "      <td>0</td>\n",
       "      <td>0</td>\n",
       "      <td>0</td>\n",
       "      <td>0</td>\n",
       "      <td>0</td>\n",
       "      <td>0</td>\n",
       "      <td>0</td>\n",
       "      <td>1</td>\n",
       "      <td>0</td>\n",
       "      <td>0</td>\n",
       "      <td>0</td>\n",
       "      <td>0</td>\n",
       "      <td>0</td>\n",
       "      <td>0</td>\n",
       "      <td>0</td>\n",
       "      <td>0</td>\n",
       "      <td>0</td>\n",
       "      <td>0</td>\n",
       "      <td>1</td>\n",
       "      <td>0</td>\n",
       "      <td>0</td>\n",
       "      <td>0</td>\n",
       "      <td>0</td>\n",
       "      <td>0</td>\n",
       "      <td>0</td>\n",
       "      <td>0</td>\n",
       "      <td>0</td>\n",
       "      <td>0</td>\n",
       "      <td>0</td>\n",
       "      <td>0</td>\n",
       "      <td>0</td>\n",
       "      <td>0</td>\n",
       "      <td>0</td>\n",
       "    </tr>\n",
       "  </tbody>\n",
       "</table>\n",
       "</div>"
      ],
      "text/plain": [
       "   FID  FRM_DFO  TO_DFO     CON     BMP     EMP  FRM_DISP  TO_DISP  RU  \\\n",
       "0    0    4.764   4.957   986.0   4.783   4.977     0.764    0.957   1   \n",
       "1    1    3.708   3.729   986.0   3.723   3.744     1.708    1.729   1   \n",
       "2    2    9.283   9.287  1033.0   7.816   7.820     1.805    1.809   1   \n",
       "3    3   34.630  34.648   366.0   9.415   9.433     1.905    1.923   1   \n",
       "4    4   12.785  12.814  1003.0  15.007  15.036     1.072    1.101   3   \n",
       "\n",
       "   MSA_CNTY  PBLC_LAND  ADMIN  SEC_NHS_AP  SEC_EVAC  SEC_NFH  SEC_STM  \\\n",
       "0         1        NaN      1         NaN         0        0        0   \n",
       "1         1        NaN      1         NaN         0        0        0   \n",
       "2         0        NaN      1         NaN         0        0        0   \n",
       "3         1        NaN      1         NaN         0        0        0   \n",
       "4         1        NaN      1         NaN         1        0        0   \n",
       "\n",
       "   SEC_BIC  SEC_ADP  SEC_FED_AI  TOP100ID  HWY_STAT  SPD_MAX  SPD_MIN  \\\n",
       "0        0        0           1       NaN         6       60        0   \n",
       "1        0        0           1       NaN         6       60        0   \n",
       "2        0        0           0       NaN         6       60        0   \n",
       "3        0        0           1       NaN         6       55        0   \n",
       "4        0        0           1       NaN         6       60        0   \n",
       "\n",
       "   ALT_SPD_LM  ALT_SPD__1  LOAD_AXLE  LOAD_GROSS  LOAD_TAND  MED_WID  \\\n",
       "0         NaN         NaN          0           0          0        0   \n",
       "1         NaN         NaN          0           0          0        0   \n",
       "2         NaN         NaN          0           0          0        0   \n",
       "3         NaN         NaN          0       58420          0        0   \n",
       "4         NaN         NaN          0           0          0        0   \n",
       "\n",
       "   HP_MED_W  NUM_LANES  CLMB_PS_LA  HOV_LANES  HOV_TYP  ROW_MIN  ROW_W_USL  \\\n",
       "0         1          2         NaN        NaN        0       80         80   \n",
       "1         1          2         NaN        NaN        0       80         80   \n",
       "2         2          2         NaN        NaN        0      100        100   \n",
       "3         6          2         NaN        NaN        0      100        100   \n",
       "4         8          2         NaN        NaN        0      100        100   \n",
       "\n",
       "   RB_WID  SUR_W  S_WID_I  S_WID_O  SURF_TRE_1  SURF_TRE_2  ADT_CUR  ADT_ADJ  \\\n",
       "0      22     20        1        1         0.0         NaN     1008     1008   \n",
       "1      22     20        1        1         0.0         NaN     1008     1008   \n",
       "2      24     20        2        2         0.0         NaN      128      128   \n",
       "3      36     24        6        6         0.0         NaN      692      692   \n",
       "4      40     24        8        8         0.0         NaN     7799     7799   \n",
       "\n",
       "   K_FAC  D_FAC  TRK_AADT_P  PCT_SADT  PCT_CADT  AADT_TRUCK  AADT_SINGL  \\\n",
       "0   10.6     53        10.1       4.7       5.4         101          47   \n",
       "1   10.6     53        10.1       4.7       5.4         101          47   \n",
       "2   12.5     54        13.3       3.9       9.4          17           5   \n",
       "3   12.3     67        50.0      23.7      26.3         346         164   \n",
       "4   11.5     50         2.3       1.9       0.4         179         148   \n",
       "\n",
       "   AADT_COMBI  TRK_DHV_PC  PCT_SDHV  PCT_CDHV  FLEX_ESAL  RIGID_ESAL  ATH_100  \\\n",
       "0          54         4.7       2.6       2.1        345         450       43   \n",
       "1          54         4.7       2.6       2.1        345         450       43   \n",
       "2          12        14.5       1.9      12.6         73         102       47   \n",
       "3         182        37.2      18.2      19.0       1496        2101      101   \n",
       "4          31         0.8       0.6       0.2        577         728       32   \n",
       "\n",
       "   ATH_PCT  AADT_DESGN  INCRS_FCTR   DHV  HPMSID  HP_VOL_GRP  RT_TURN_LA  \\\n",
       "0       40        1410         1.7   149     NaN           2         NaN   \n",
       "1       40        1410         1.7   149     NaN           2         NaN   \n",
       "2       40         180         1.7    22     NaN           1         NaN   \n",
       "3       30         970         1.7   119     NaN           2         NaN   \n",
       "4       30       12640         2.4  1454     NaN           4         NaN   \n",
       "\n",
       "   LT_TURN_LA  LANE_WIDTH  YR_LAST_IM  YR_LAST_CN  LAST_OVRLY  PVMT_THICK  \\\n",
       "0         NaN          10         NaN         NaN         NaN         NaN   \n",
       "1         NaN          10         NaN         NaN         NaN         NaN   \n",
       "2         NaN          10         NaN         NaN         NaN         NaN   \n",
       "3         NaN          12         NaN         NaN         NaN         NaN   \n",
       "4         NaN          12         NaN         NaN         NaN         NaN   \n",
       "\n",
       "   PVMT_THI_1  BASE_THCK  LEN_SEC  LN_MILES     DVMT  DTRKVMT    START_X  \\\n",
       "0         NaN        NaN    0.193     0.386  194.544   19.493 -97.381448   \n",
       "1         NaN        NaN    0.021     0.042   21.168    2.121 -97.386708   \n",
       "2         NaN        NaN    0.004     0.008    0.512    0.068 -98.981705   \n",
       "3         NaN        NaN    0.018     0.036   12.456    6.228 -97.951377   \n",
       "4         NaN        NaN    0.029     0.058  226.171    5.191 -95.374392   \n",
       "\n",
       "     START_Y  START_M      MID_X      MID_Y     MID_M      END_X      END_Y  \\\n",
       "0  30.589498    4.764 -97.381062  30.588129   4.86094 -97.380514  30.586815   \n",
       "1  30.604109    3.708 -97.386648  30.603966   3.71850 -97.386587  30.603823   \n",
       "2  32.003345    9.283 -98.981671  32.003343   9.28500 -98.981637  32.003341   \n",
       "3  29.105476   34.630 -97.951248  29.105542  34.63900 -97.951118  29.105607   \n",
       "4  29.112675   12.785 -95.374248  29.112506  12.79950 -95.374104  29.112337   \n",
       "\n",
       "    END_M  Shape__Len  Crash Count  Avg_Death  Avg_Injuries  Avg_Month  FID_2  \\\n",
       "0   4.957    0.002849            0        0.0           0.0          0   2011   \n",
       "1   3.729    0.000311            0        0.0           0.0          0   2011   \n",
       "2   9.287    0.000068            0        0.0           0.0          0   2019   \n",
       "3  34.648    0.000289            0        0.0           0.0          0   2024   \n",
       "4  12.814    0.000444            0        0.0           0.0          0   2032   \n",
       "\n",
       "   GID_1  BEGIN_DFO  END_DFO  ASSET_LN_B  ASSET_LN_E   Shape__L_1  SEC_NHS_0  \\\n",
       "0   3134      0.000    6.696       0.000       6.696  12587.51446          1   \n",
       "1   3134      0.000    6.696       0.000       6.696  12587.51446          1   \n",
       "2   3090      1.626   12.843       1.626      12.843  21357.16631          1   \n",
       "3   3038     34.312   35.337      34.312      35.337   1892.50471          1   \n",
       "4   3014     12.194   17.693      12.194      17.693  10174.89845          1   \n",
       "\n",
       "   SEC_NHS_1  SEC_NHS_2  SEC_NHS_3  SEC_NHS_5  SEC_NHS_6  SEC_NHS_7  \\\n",
       "0          0          0          0          0          0          0   \n",
       "1          0          0          0          0          0          0   \n",
       "2          0          0          0          0          0          0   \n",
       "3          0          0          0          0          0          0   \n",
       "4          0          0          0          0          0          0   \n",
       "\n",
       "   SEC_NHS_8  SEC_NHS_9  HWY_DES1_0  HWY_DES1_1  HWY_DES1_2  HWY_DES1_3  \\\n",
       "0          0          0           0           0           1           0   \n",
       "1          0          0           0           0           1           0   \n",
       "2          0          0           0           0           1           0   \n",
       "3          0          0           0           0           1           0   \n",
       "4          0          0           0           0           1           0   \n",
       "\n",
       "   HWY_DES1_4  HWY_DES1_5  MED_TYPE_0  MED_TYPE_2  MED_TYPE_3  MED_TYPE_4  \\\n",
       "0           0           0           1           0           0           0   \n",
       "1           0           0           1           0           0           0   \n",
       "2           0           0           1           0           0           0   \n",
       "3           0           0           1           0           0           0   \n",
       "4           0           0           1           0           0           0   \n",
       "\n",
       "   MED_TYPE_5  MED_TYPE_6  MED_TYPE_7  MED_TYPE_99  S_TYPE_I_0  S_TYPE_I_1  \\\n",
       "0           0           0           0            0           0           0   \n",
       "1           0           0           0            0           0           0   \n",
       "2           0           0           0            0           0           0   \n",
       "3           0           0           0            0           0           0   \n",
       "4           0           0           0            0           0           1   \n",
       "\n",
       "   S_TYPE_I_2  S_TYPE_I_3  S_TYPE_I_4  S_TYPE_I_5  S_TYPE_I_99  S_USE_I_0  \\\n",
       "0           0           1           0           0            0          0   \n",
       "1           0           1           0           0            0          0   \n",
       "2           0           1           0           0            0          0   \n",
       "3           0           0           0           1            0          0   \n",
       "4           0           0           0           0            0          0   \n",
       "\n",
       "   S_USE_I_1  S_USE_I_2  S_USE_I_3  S_USE_I_4  S_USE_I_5  S_USE_I_6  \\\n",
       "0          0          0          0          0          1          0   \n",
       "1          0          0          0          0          1          0   \n",
       "2          0          0          0          0          1          0   \n",
       "3          0          0          0          0          1          0   \n",
       "4          0          0          0          0          1          0   \n",
       "\n",
       "   S_USE_I_7  S_USE_O_0  S_USE_O_1  S_USE_O_2  S_USE_O_3  S_USE_O_4  \\\n",
       "0          0          0          0          0          0          0   \n",
       "1          0          0          0          0          0          0   \n",
       "2          0          0          0          0          0          0   \n",
       "3          0          0          0          0          0          0   \n",
       "4          0          0          0          0          0          0   \n",
       "\n",
       "   S_USE_O_5  S_USE_O_6  S_USE_O_7  S_TYPE_O_0  S_TYPE_O_1  S_TYPE_O_2  \\\n",
       "0          1          0          0           0           0           0   \n",
       "1          1          0          0           0           0           0   \n",
       "2          1          0          0           0           0           0   \n",
       "3          1          0          0           0           0           0   \n",
       "4          1          0          0           0           1           0   \n",
       "\n",
       "   S_TYPE_O_3  S_TYPE_O_4  S_TYPE_O_5  S_TYPE_O_99  CURB_L_0  CURB_L_1  \\\n",
       "0           1           0           0            0         1         0   \n",
       "1           1           0           0            0         1         0   \n",
       "2           1           0           0            0         1         0   \n",
       "3           0           0           1            0         1         0   \n",
       "4           0           0           0            0         1         0   \n",
       "\n",
       "   CURB_L_2  CURB_L_3  CURB_L_4  CURB_L_5  CURB_R_0  CURB_R_1  CURB_R_2  \\\n",
       "0         0         0         0         0         1         0         0   \n",
       "1         0         0         0         0         1         0         0   \n",
       "2         0         0         0         0         1         0         0   \n",
       "3         0         0         0         0         1         0         0   \n",
       "4         0         0         0         0         1         0         0   \n",
       "\n",
       "   CURB_R_3  CURB_R_4  CURB_R_5  BASE_TP_0  BASE_TP_1  BASE_TP_3  BASE_TP_4  \\\n",
       "0         0         0         0          0          0          0          0   \n",
       "1         0         0         0          0          0          0          0   \n",
       "2         0         0         0          0          0          0          0   \n",
       "3         0         0         0          0          0          0          0   \n",
       "4         0         0         0          0          0          0          0   \n",
       "\n",
       "   BASE_TP_5  BASE_TP_6  BASE_TP_7  BASE_TP_9  BASE_TP_10  BASE_TP_11  \\\n",
       "0          0          0          0          0           0           0   \n",
       "1          0          0          0          0           0           0   \n",
       "2          0          0          0          0           0           0   \n",
       "3          0          0          0          0           0           0   \n",
       "4          0          0          0          0           0           0   \n",
       "\n",
       "   BASE_TP_14  SRF_TYPE_0  SRF_TYPE_1  SRF_TYPE_2  SRF_TYPE_3  SRF_TYPE_4  \\\n",
       "0           1           0           0           0           0           0   \n",
       "1           1           0           0           0           0           0   \n",
       "2           1           0           0           0           0           0   \n",
       "3           1           0           0           0           0           0   \n",
       "4           1           0           0           0           0           1   \n",
       "\n",
       "   SRF_TYPE_5  SRF_TYPE_6  SRF_TYPE_7  SRF_TYPE_9  SRF_TYPE_10  SRF_TYPE_11  \\\n",
       "0           0           0           0           0            1            0   \n",
       "1           0           0           0           0            1            0   \n",
       "2           0           0           0           0            1            0   \n",
       "3           0           0           0           0            1            0   \n",
       "4           0           0           0           0            0            0   \n",
       "\n",
       "   SRF_TYPE_13  SURF_TREAT_0  SURF_TREAT_1  SURF_TREAT_2  SURF_TREAT_4  \\\n",
       "0            0             0             1             0             0   \n",
       "1            0             0             1             0             0   \n",
       "2            0             0             1             0             0   \n",
       "3            0             0             1             0             0   \n",
       "4            0             0             1             0             0   \n",
       "\n",
       "   SURF_TREAT_5  SURF_TREAT_7  SURF_TREAT_8  SURF_TREAT_9  HSYS_BF  HSYS_BI  \\\n",
       "0             0             0             0             0        0        0   \n",
       "1             0             0             0             0        0        0   \n",
       "2             0             0             0             0        0        0   \n",
       "3             0             0             0             0        0        0   \n",
       "4             0             0             0             0        0        0   \n",
       "\n",
       "   HSYS_BS  HSYS_BU  HSYS_FM  HSYS_FS  HSYS_IH  HSYS_PA  HSYS_PR  HSYS_RE  \\\n",
       "0        0        0        1        0        0        0        0        0   \n",
       "1        0        0        1        0        0        0        0        0   \n",
       "2        0        0        1        0        0        0        0        0   \n",
       "3        0        0        1        0        0        0        0        0   \n",
       "4        0        0        1        0        0        0        0        0   \n",
       "\n",
       "   HSYS_RM  HSYS_RR  HSYS_RS  HSYS_SH  HSYS_SL  HSYS_SS  HSYS_UA  HSYS_UP  \\\n",
       "0        0        0        0        0        0        0        0        0   \n",
       "1        0        0        0        0        0        0        0        0   \n",
       "2        0        0        0        0        0        0        0        0   \n",
       "3        0        0        0        0        0        0        0        0   \n",
       "4        0        0        0        0        0        0        0        0   \n",
       "\n",
       "   HSYS_US  \n",
       "0        0  \n",
       "1        0  \n",
       "2        0  \n",
       "3        0  \n",
       "4        0  "
      ]
     },
     "execution_count": 346,
     "metadata": {},
     "output_type": "execute_result"
    }
   ],
   "source": [
    "for col in cols2onehot:\n",
    "    df = pd.concat([df, pd.get_dummies(df[col], prefix=col, dummy_na=df[col].isna().any())], axis=1)\n",
    "    df.drop(col, axis=1, inplace=True)\n",
    "df.head()"
   ]
  },
  {
   "cell_type": "code",
   "execution_count": 348,
   "metadata": {},
   "outputs": [
    {
     "data": {
      "text/plain": [
       "213"
      ]
     },
     "execution_count": 348,
     "metadata": {},
     "output_type": "execute_result"
    }
   ],
   "source": [
    "len(df.columns)"
   ]
  },
  {
   "cell_type": "markdown",
   "metadata": {},
   "source": [
    "## Replace `NaN` values\n",
    "\n",
    "With 0 because (at least for many cases like `RT_TURN_LA`) that implies zero of the item (in this case, right turn lanes)."
   ]
  },
  {
   "cell_type": "code",
   "execution_count": 350,
   "metadata": {},
   "outputs": [],
   "source": [
    "df.fillna(0, inplace=True)"
   ]
  },
  {
   "cell_type": "markdown",
   "metadata": {},
   "source": [
    "## Calculate crash rate\n",
    "\n",
    "Raw yearly crash count / (average daily traffic * days in year * length of section). Set to zero if either average daily traffic or length of section are 0."
   ]
  },
  {
   "cell_type": "code",
   "execution_count": 362,
   "metadata": {},
   "outputs": [],
   "source": [
    "df['Crash_rate'] = df['Crash Count']/(df['ADT_ADJ'] * 365 * df['LEN_SEC'])\n",
    "df.loc[df['Crash_rate']==np.inf,'Crash_rate'] = 0\n",
    "df.head()"
   ]
  },
  {
   "cell_type": "markdown",
   "metadata": {},
   "source": [
    "## Split into training and test sets, remove extraneous data, and export\n",
    "\n",
    "TODO\n",
    "1. Remove `Crash Count`, `Avg_Death`, and `Avg_Injuries`\n",
    "2. Split into training and test sets\n",
    "3. Build X_with_ID and Y_with_ID dataframes out of both training and test sets\n",
    "4. Export a total of 4 dataframes"
   ]
  },
  {
   "cell_type": "code",
   "execution_count": 366,
   "metadata": {},
   "outputs": [],
   "source": [
    "train_ids = np.random.rand(len(df)) < 0.9\n",
    "df[train_ids].to_csv('processed/training.csv', index=False)\n",
    "df[~train_ids].to_csv('processed/test.csv', index=False)"
   ]
  }
 ],
 "metadata": {
  "kernelspec": {
   "display_name": "Python 3",
   "language": "python",
   "name": "python3"
  },
  "language_info": {
   "codemirror_mode": {
    "name": "ipython",
    "version": 3
   },
   "file_extension": ".py",
   "mimetype": "text/x-python",
   "name": "python",
   "nbconvert_exporter": "python",
   "pygments_lexer": "ipython3",
   "version": "3.6.8"
  }
 },
 "nbformat": 4,
 "nbformat_minor": 2
}
